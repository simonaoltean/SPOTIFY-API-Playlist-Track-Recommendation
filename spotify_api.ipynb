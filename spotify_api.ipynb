{
 "cells": [
  {
   "cell_type": "code",
   "execution_count": 8,
   "metadata": {},
   "outputs": [],
   "source": [
    "import pandas as pd\n",
    "import spotipy\n",
    "from spotipy.oauth2 import SpotifyClientCredentials\n",
    "from spotipy.oauth2 import SpotifyOAuth\n",
    "from sklearn.cluster import KMeans\n",
    "from sklearn.cluster import AgglomerativeClustering\n",
    "from sklearn.preprocessing import MinMaxScaler\n",
    "from sklearn.preprocessing import StandardScaler\n",
    "from sklearn.preprocessing import LabelEncoder\n",
    "import numpy as np\n",
    "import matplotlib.pyplot as plt\n",
    "from yellowbrick.cluster import KElbowVisualizer\n",
    "from sklearn.decomposition import PCA\n",
    "import plotly.express as px\n",
    "from sklearn.neighbors import NearestNeighbors\n",
    "pd.set_option('mode.chained_assignment', None)"
   ]
  },
  {
   "cell_type": "code",
   "execution_count": 4,
   "metadata": {},
   "outputs": [],
   "source": [
    "CLIENT_ID = input(\"What is your client ID?\")\n",
    "SECRET_KEY = input(\"What is your secret key?\")"
   ]
  },
  {
   "cell_type": "code",
   "execution_count": 3,
   "metadata": {},
   "outputs": [],
   "source": [
    "client_credentials_manager = SpotifyClientCredentials(client_id=CLIENT_ID, client_secret=SECRET_KEY)\n",
    "spotify = spotipy.Spotify(client_credentials_manager=client_credentials_manager)"
   ]
  },
  {
   "cell_type": "code",
   "execution_count": 4,
   "metadata": {},
   "outputs": [
    {
     "data": {
      "text/plain": [
       "({'Top Lists': 'toplists',\n",
       "  'Hip-Hop': '0JQ5DAqbMKFQ00XGBls6ym',\n",
       "  'Pop': '0JQ5DAqbMKFEC4WFtoNRpw',\n",
       "  'Summer': '0JQ5DAqbMKFLVaM30PMBm4',\n",
       "  'Country': '0JQ5DAqbMKFKLfwjuJMoNC',\n",
       "  'Rock': '0JQ5DAqbMKFDXXwE9BDJAr',\n",
       "  'Mood': '0JQ5DAqbMKFzHmL4tf05da',\n",
       "  'Workout': '0JQ5DAqbMKFAXlCG6QvYQ4',\n",
       "  'Chill': '0JQ5DAqbMKFFzDl7qN9Apr',\n",
       "  'R&B': '0JQ5DAqbMKFEZPnFQSFB1T',\n",
       "  'Decades': '0JQ5DAqbMKFIVNxQgRNSg0',\n",
       "  'Francophone': '0JQ5DAqbMKFAH7OEQjCEex',\n",
       "  'Netflix': '0JQ5DAqbMKFEOEBCABAxo9',\n",
       "  'Caribbean': '0JQ5DAqbMKFObNLOHydSW8',\n",
       "  'Dance/Electronic': '0JQ5DAqbMKFHOzuVTgTizF',\n",
       "  'Indie': '0JQ5DAqbMKFCWjUTdzaG0e',\n",
       "  'Fresh Finds': '0JQ5DAqbMKFImHYGo3eTSg',\n",
       "  'Latin': '0JQ5DAqbMKFxXaXKP7zcDp',\n",
       "  'RADAR': '0JQ5DAqbMKFOOxftoKZxod',\n",
       "  'EQUAL': '0JQ5DAqbMKFPw634sFwguI',\n",
       "  'Frequency': '0JQ5DAqbMKFF9bY76LXmfI',\n",
       "  'Pride': '0JQ5DAqbMKFF1br7dZcRtK',\n",
       "  'Party': '0JQ5DAqbMKFA6SOHvT3gck',\n",
       "  'Focus': '0JQ5DAqbMKFCbimwdOYlsl',\n",
       "  'Alternative': '0JQ5DAqbMKFFtlLYUHv8bT',\n",
       "  'theLINER': '0JQ5DAqbMKFRNXsIvgZF9A',\n",
       "  'Sleep': '0JQ5DAqbMKFCuoRTxhYWow',\n",
       "  'Instrumental': '0JQ5DAqbMKFRieVZLLoo9m',\n",
       "  'Ambient': '0JQ5DAqbMKFLjmiZRss79w',\n",
       "  'Wellness': '0JQ5DAqbMKFLb2EqgLtpjC',\n",
       "  'Folk & Acoustic': '0JQ5DAqbMKFy78wprEpAjl',\n",
       "  'Romance': '0JQ5DAqbMKFAUsdyVjCQuL',\n",
       "  'Tastemakers': '0JQ5DAqbMKFRKBHIxJ5hMm',\n",
       "  'Commute': '0JQ5DAqbMKFAQy4HL4XU2D',\n",
       "  'Classical': '0JQ5DAqbMKFPrEiAOxgac3',\n",
       "  'Jazz': '0JQ5DAqbMKFAJ5xb0fwo9m',\n",
       "  'Gaming': '0JQ5DAqbMKFCfObibaOZbv',\n",
       "  'Christian & Gospel': '0JQ5DAqbMKFy0OenPG51Av',\n",
       "  'Cooking & Dining': '0JQ5DAqbMKFRY5ok2pxXJ0',\n",
       "  'K-Pop': '0JQ5DAqbMKFGvOw3O4nLAf',\n",
       "  'Desi': '0JQ5DAqbMKFQVdc2eQoH2s',\n",
       "  'Afro': '0JQ5DAqbMKFNQ0fGp4byGU',\n",
       "  'API Heritage Month': '0JQ5DAqbMKFFgo8jQnAk7E',\n",
       "  'Metal': '0JQ5DAqbMKFDkd668ypn6O',\n",
       "  'Punk': '0JQ5DAqbMKFAjfauKLOZiv',\n",
       "  'Soul': '0JQ5DAqbMKFIpEuaCnimBj',\n",
       "  'Funk': 'funk',\n",
       "  'Blues': '0JQ5DAqbMKFQiK2EHwyjcU',\n",
       "  'Arab': '0JQ5DAqbMKFQ1UFISXj59F',\n",
       "  'Student': '0JQ5DAqbMKFJw7QLnM27p6',\n",
       "  'Kids & Family': '0JQ5DAqbMKFFoimhOqWzLB',\n",
       "  'Pop culture': '0JQ5DAqbMKFQIL0AXnG5AK',\n",
       "  'Anime': '0JQ5DAqbMKFziKOShCi009',\n",
       "  'Comedy': 'comedy',\n",
       "  'Spotify Singles': '0JQ5DAqbMKFDBgllo2cUIN'},\n",
       " 'Total: 55')"
      ]
     },
     "execution_count": 4,
     "metadata": {},
     "output_type": "execute_result"
    }
   ],
   "source": [
    "canada_categories = spotify.categories(country='CA', limit=50)\n",
    "\n",
    "all_categories = {}\n",
    "for category in canada_categories['categories']['items']:\n",
    "    all_categories[category['name']] = category['id']\n",
    "i=1\n",
    "while canada_categories['categories']['next']:\n",
    "    canada_categories = spotify.categories(country='CA',limit=50, offset=i*50)\n",
    "    for category in canada_categories['categories']['items']:\n",
    "        all_categories[category['name']] = category['id']\n",
    "    i+=1\n",
    "\n",
    "all_categories, f\"Total: {len(all_categories)}\""
   ]
  },
  {
   "cell_type": "code",
   "execution_count": 5,
   "metadata": {},
   "outputs": [
    {
     "name": "stdout",
     "output_type": "stream",
     "text": [
      "Top Lists\n",
      "Hip-Hop\n",
      "Pop\n",
      "Summer\n",
      "Country\n",
      "Rock\n",
      "Mood\n",
      "Workout\n",
      "Chill\n",
      "R&B\n",
      "Decades\n",
      "Francophone\n",
      "Netflix\n",
      "Caribbean\n",
      "Dance/Electronic\n",
      "Indie\n",
      "Fresh Finds\n",
      "Latin\n",
      "RADAR\n",
      "EQUAL\n",
      "Frequency\n",
      "Pride\n",
      "Party\n",
      "Focus\n",
      "Alternative\n",
      "theLINER\n",
      "Sleep\n",
      "Instrumental\n",
      "Ambient\n",
      "Wellness\n",
      "Folk & Acoustic\n",
      "Romance\n",
      "Tastemakers\n",
      "Commute\n",
      "Classical\n",
      "Jazz\n",
      "Gaming\n",
      "Christian & Gospel\n",
      "Cooking & Dining\n",
      "K-Pop\n",
      "Desi\n",
      "Afro\n",
      "API Heritage Month\n",
      "Metal\n",
      "Punk\n",
      "Soul\n",
      "Funk\n",
      "Blues\n",
      "Arab\n",
      "Student\n",
      "Kids & Family\n",
      "Pop culture\n",
      "Anime\n",
      "Comedy\n",
      "Spotify Singles\n"
     ]
    }
   ],
   "source": [
    "for category in all_categories.keys():\n",
    "    print(category)"
   ]
  },
  {
   "cell_type": "code",
   "execution_count": 6,
   "metadata": {},
   "outputs": [],
   "source": [
    "def get_category_playlists(category_key):\n",
    "    category_playlists = spotify.category_playlists(category_id=all_categories[category_key], limit=50, offset=0, country='CA')\n",
    "\n",
    "    all_playlists = []\n",
    "    for playlist in category_playlists['playlists']['items']:\n",
    "        all_playlists.append(playlist['id'])\n",
    "    i=1\n",
    "    while category_playlists['playlists']['next']:\n",
    "        category_playlists = spotify.category_playlists(category_id=all_categories[category_key], limit=50, offset=i*50, country='CA')\n",
    "        for playlist in category_playlists['playlists']['items']:\n",
    "            all_playlists.append(playlist['id'])\n",
    "        i+=1\n",
    "\n",
    "    print(f\"Total: {len(all_playlists)}\")\n",
    "    return all_playlists"
   ]
  },
  {
   "cell_type": "code",
   "execution_count": 7,
   "metadata": {},
   "outputs": [
    {
     "name": "stdout",
     "output_type": "stream",
     "text": [
      "Total: 88\n"
     ]
    }
   ],
   "source": [
    "category_key = input('Which category?')\n",
    "category_playlists = get_category_playlists(category_key)"
   ]
  },
  {
   "cell_type": "code",
   "execution_count": 8,
   "metadata": {},
   "outputs": [],
   "source": [
    "playlists_followers = {}\n",
    "for playlist in category_playlists:\n",
    "    playlists_followers[playlist] = spotify.playlist(playlist, market='CA')['followers']['total']"
   ]
  },
  {
   "cell_type": "code",
   "execution_count": 9,
   "metadata": {},
   "outputs": [
    {
     "data": {
      "text/plain": [
       "['37i9dQZF1DX4dyzvuaRJ0n',\n",
       " '37i9dQZF1DWWY64wDtewQt',\n",
       " '37i9dQZF1DXaXB8fQg7xif',\n",
       " '37i9dQZF1DX0BcQWzuB7ZO',\n",
       " '37i9dQZF1DX6VdMW310YC7',\n",
       " '37i9dQZF1DXcZDD7cfEKhW',\n",
       " '37i9dQZF1DX2TRYkJECvfC',\n",
       " '37i9dQZF1DX4eRPd9frC1m',\n",
       " '37i9dQZF1DX32NsLKyzScr',\n",
       " '37i9dQZF1DWSf2RDTDayIx']"
      ]
     },
     "execution_count": 9,
     "metadata": {},
     "output_type": "execute_result"
    }
   ],
   "source": [
    "sorted_playlists = dict(sorted(playlists_followers.items(), key=lambda item: item[1], reverse=True))\n",
    "top_playlists = [key for key in list(sorted_playlists.keys())[:10]] # If you'd like more than 10 playlists to be included, increase the number here [:n].\n",
    "top_playlists"
   ]
  },
  {
   "cell_type": "code",
   "execution_count": 10,
   "metadata": {},
   "outputs": [],
   "source": [
    "def get_track_search(playlist, index):\n",
    "    search = ''\n",
    "    search += playlist[index]['track']['name']\n",
    "    search += ' - '\n",
    "    search += playlist[index]['track']['artists'][0]['name']\n",
    "    return search"
   ]
  },
  {
   "cell_type": "code",
   "execution_count": 13,
   "metadata": {},
   "outputs": [],
   "source": [
    "def get_playlist_tracklist(playlists):\n",
    "    tracklist = []\n",
    "    for playlist in playlists:\n",
    "        playlist_meta_dict = spotify.playlist_tracks(playlist)\n",
    "        if playlist_meta_dict['next']:\n",
    "            playlist_tracks = []\n",
    "            current_playlist = playlist_meta_dict\n",
    "            for t, track in enumerate(current_playlist['items']):\n",
    "                playlist_tracks.append(track)\n",
    "            i = 1\n",
    "            while current_playlist['next']:\n",
    "                current_playlist = spotify.playlist_tracks(playlist, offset = i*100)\n",
    "                for t, track in enumerate(current_playlist['items']):\n",
    "                    playlist_tracks.append(track)\n",
    "                i += 1\n",
    "        else:\n",
    "            playlist_tracks = playlist_meta_dict['items']\n",
    "\n",
    "        print(len(playlist_tracks))\n",
    "        for track_index in range(len(playlist_tracks)):\n",
    "            tracks_dict = {}\n",
    "            tracks_dict['search'] = get_track_search(playlist_tracks, track_index)\n",
    "            global track_id\n",
    "            track_id = playlist_tracks[track_index]['track']['id']\n",
    "            tracks_dict['id'] = track_id\n",
    "            tracks_dict['href'] = playlist_tracks[track_index]['track']['href']\n",
    "            tracks_dict['popularity'] = playlist_tracks[track_index]['track']['popularity']\n",
    "            try:\n",
    "                track_audio_analysis = spotify.audio_analysis(track_id)\n",
    "                tracks_dict['duration'] = track_audio_analysis['track']['duration']\n",
    "                tracks_dict['loudness'] = track_audio_analysis['track']['loudness']\n",
    "                tracks_dict['tempo'] = track_audio_analysis['track']['tempo']\n",
    "                tracks_dict['time_signature'] = track_audio_analysis['track']['time_signature']\n",
    "                tracks_dict['key'] = track_audio_analysis['track']['key']\n",
    "                tracks_dict['mode'] = track_audio_analysis['track']['mode']\n",
    "                track_audio_features = spotify.audio_features(track_id)[0]\n",
    "                tracks_dict['danceability'] = track_audio_features['danceability']\n",
    "                tracks_dict['energy'] = track_audio_features['energy']\n",
    "                tracks_dict['speechiness'] = track_audio_features['speechiness']\n",
    "                tracks_dict['acousticness'] = track_audio_features['acousticness']\n",
    "                tracks_dict['instrumentalness'] = track_audio_features['instrumentalness']\n",
    "                tracks_dict['liveness'] = track_audio_features['liveness']\n",
    "                tracks_dict['valence'] = track_audio_features['valence']\n",
    "                tracklist.append(tracks_dict)\n",
    "            except:\n",
    "                tracks_dict['duration'] = pd.NA\n",
    "                tracks_dict['loudness'] = pd.NA\n",
    "                tracks_dict['tempo'] = pd.NA\n",
    "                tracks_dict['time_signature'] = pd.NA\n",
    "                tracks_dict['key'] = pd.NA\n",
    "                tracks_dict['mode'] = pd.NA\n",
    "                tracks_dict['danceability'] = pd.NA\n",
    "                tracks_dict['energy'] = pd.NA\n",
    "                tracks_dict['speechiness'] = pd.NA\n",
    "                tracks_dict['acousticness'] = pd.NA\n",
    "                tracks_dict['instrumentalness'] = pd.NA\n",
    "                tracks_dict['liveness'] = pd.NA\n",
    "                tracks_dict['valence'] = pd.NA\n",
    "                tracklist.append(tracks_dict)\n",
    "    return tracklist"
   ]
  },
  {
   "attachments": {},
   "cell_type": "markdown",
   "metadata": {},
   "source": [
    "If you would rather input your own/custom playlists, uncomment the cell below and input the links to the playlists."
   ]
  },
  {
   "cell_type": "code",
   "execution_count": 5,
   "metadata": {},
   "outputs": [],
   "source": [
    "# user_playlists = []\n",
    "# statement = True\n",
    "# while statement == True:\n",
    "#     user_playlists.append(input('What is the playlist link?')[34:-20])\n",
    "#     statement = [True if input(\"More playlists to add? (Y/N)\") == 'Y' else None]\n",
    "# user_playlists"
   ]
  },
  {
   "cell_type": "code",
   "execution_count": null,
   "metadata": {},
   "outputs": [],
   "source": [
    "playlist_tracklist = get_playlist_tracklist(top_playlists)"
   ]
  },
  {
   "cell_type": "code",
   "execution_count": 31,
   "metadata": {},
   "outputs": [
    {
     "data": {
      "text/html": [
       "<div>\n",
       "<style scoped>\n",
       "    .dataframe tbody tr th:only-of-type {\n",
       "        vertical-align: middle;\n",
       "    }\n",
       "\n",
       "    .dataframe tbody tr th {\n",
       "        vertical-align: top;\n",
       "    }\n",
       "\n",
       "    .dataframe thead th {\n",
       "        text-align: right;\n",
       "    }\n",
       "</style>\n",
       "<table border=\"1\" class=\"dataframe\">\n",
       "  <thead>\n",
       "    <tr style=\"text-align: right;\">\n",
       "      <th></th>\n",
       "      <th>search</th>\n",
       "      <th>id</th>\n",
       "      <th>href</th>\n",
       "      <th>popularity</th>\n",
       "      <th>duration</th>\n",
       "      <th>loudness</th>\n",
       "      <th>tempo</th>\n",
       "      <th>time_signature</th>\n",
       "      <th>key</th>\n",
       "      <th>mode</th>\n",
       "      <th>danceability</th>\n",
       "      <th>energy</th>\n",
       "      <th>speechiness</th>\n",
       "      <th>acousticness</th>\n",
       "      <th>instrumentalness</th>\n",
       "      <th>liveness</th>\n",
       "      <th>valence</th>\n",
       "    </tr>\n",
       "  </thead>\n",
       "  <tbody>\n",
       "    <tr>\n",
       "      <th>0</th>\n",
       "      <td>I'm Good (Blue) - David Guetta</td>\n",
       "      <td>4uUG5RXrOk84mYEfFvj3cK</td>\n",
       "      <td>https://api.spotify.com/v1/tracks/4uUG5RXrOk84...</td>\n",
       "      <td>94</td>\n",
       "      <td>175.2381</td>\n",
       "      <td>-3.673</td>\n",
       "      <td>128.04</td>\n",
       "      <td>4</td>\n",
       "      <td>7</td>\n",
       "      <td>0</td>\n",
       "      <td>0.561</td>\n",
       "      <td>0.965</td>\n",
       "      <td>0.0343</td>\n",
       "      <td>0.00383</td>\n",
       "      <td>0.000007</td>\n",
       "      <td>0.371</td>\n",
       "      <td>0.304</td>\n",
       "    </tr>\n",
       "    <tr>\n",
       "      <th>1</th>\n",
       "      <td>Miracle (with Ellie Goulding) - Calvin Harris</td>\n",
       "      <td>5eTaQYBE1yrActixMAeLcZ</td>\n",
       "      <td>https://api.spotify.com/v1/tracks/5eTaQYBE1yrA...</td>\n",
       "      <td>91</td>\n",
       "      <td>186.49615</td>\n",
       "      <td>-5.289</td>\n",
       "      <td>143.011</td>\n",
       "      <td>4</td>\n",
       "      <td>9</td>\n",
       "      <td>1</td>\n",
       "      <td>0.636</td>\n",
       "      <td>0.869</td>\n",
       "      <td>0.0412</td>\n",
       "      <td>0.0378</td>\n",
       "      <td>0.0446</td>\n",
       "      <td>0.0808</td>\n",
       "      <td>0.306</td>\n",
       "    </tr>\n",
       "    <tr>\n",
       "      <th>2</th>\n",
       "      <td>El Merengue - Marshmello</td>\n",
       "      <td>51FvjPEGKq2zByeeEQ43V9</td>\n",
       "      <td>https://api.spotify.com/v1/tracks/51FvjPEGKq2z...</td>\n",
       "      <td>91</td>\n",
       "      <td>189.66853</td>\n",
       "      <td>-3.079</td>\n",
       "      <td>123.982</td>\n",
       "      <td>4</td>\n",
       "      <td>8</td>\n",
       "      <td>0</td>\n",
       "      <td>0.775</td>\n",
       "      <td>0.677</td>\n",
       "      <td>0.0442</td>\n",
       "      <td>0.0313</td>\n",
       "      <td>0.00517</td>\n",
       "      <td>0.112</td>\n",
       "      <td>0.698</td>\n",
       "    </tr>\n",
       "    <tr>\n",
       "      <th>3</th>\n",
       "      <td>Baby Don't Hurt Me - David Guetta</td>\n",
       "      <td>3BKD1PwArikchz2Zrlp1qi</td>\n",
       "      <td>https://api.spotify.com/v1/tracks/3BKD1PwArikc...</td>\n",
       "      <td>90</td>\n",
       "      <td>140.01768</td>\n",
       "      <td>-3.404</td>\n",
       "      <td>127.944</td>\n",
       "      <td>4</td>\n",
       "      <td>7</td>\n",
       "      <td>1</td>\n",
       "      <td>0.602</td>\n",
       "      <td>0.91</td>\n",
       "      <td>0.0308</td>\n",
       "      <td>0.00126</td>\n",
       "      <td>0.000174</td>\n",
       "      <td>0.12</td>\n",
       "      <td>0.228</td>\n",
       "    </tr>\n",
       "    <tr>\n",
       "      <th>4</th>\n",
       "      <td>METAMORPHOSIS - INTERWORLD</td>\n",
       "      <td>2ksyzVfU0WJoBpu8otr4pz</td>\n",
       "      <td>https://api.spotify.com/v1/tracks/2ksyzVfU0WJo...</td>\n",
       "      <td>89</td>\n",
       "      <td>142.83926</td>\n",
       "      <td>-12.727</td>\n",
       "      <td>175.014</td>\n",
       "      <td>4</td>\n",
       "      <td>7</td>\n",
       "      <td>0</td>\n",
       "      <td>0.593</td>\n",
       "      <td>0.641</td>\n",
       "      <td>0.0992</td>\n",
       "      <td>0.426</td>\n",
       "      <td>0.901</td>\n",
       "      <td>0.122</td>\n",
       "      <td>0.147</td>\n",
       "    </tr>\n",
       "    <tr>\n",
       "      <th>...</th>\n",
       "      <td>...</td>\n",
       "      <td>...</td>\n",
       "      <td>...</td>\n",
       "      <td>...</td>\n",
       "      <td>...</td>\n",
       "      <td>...</td>\n",
       "      <td>...</td>\n",
       "      <td>...</td>\n",
       "      <td>...</td>\n",
       "      <td>...</td>\n",
       "      <td>...</td>\n",
       "      <td>...</td>\n",
       "      <td>...</td>\n",
       "      <td>...</td>\n",
       "      <td>...</td>\n",
       "      <td>...</td>\n",
       "      <td>...</td>\n",
       "    </tr>\n",
       "    <tr>\n",
       "      <th>921</th>\n",
       "      <td>Keramas - Moon Boots</td>\n",
       "      <td>6QYthxincEvqQzGkfAOAiK</td>\n",
       "      <td>https://api.spotify.com/v1/tracks/6QYthxincEvq...</td>\n",
       "      <td>40</td>\n",
       "      <td>224.44872</td>\n",
       "      <td>-7.327</td>\n",
       "      <td>122.018</td>\n",
       "      <td>4</td>\n",
       "      <td>7</td>\n",
       "      <td>1</td>\n",
       "      <td>0.658</td>\n",
       "      <td>0.894</td>\n",
       "      <td>0.0551</td>\n",
       "      <td>0.00105</td>\n",
       "      <td>0.0794</td>\n",
       "      <td>0.128</td>\n",
       "      <td>0.158</td>\n",
       "    </tr>\n",
       "    <tr>\n",
       "      <th>922</th>\n",
       "      <td>Onda - Theo Kottis</td>\n",
       "      <td>2vHPrrFhhiSH5GZZcGRSFm</td>\n",
       "      <td>https://api.spotify.com/v1/tracks/2vHPrrFhhiSH...</td>\n",
       "      <td>40</td>\n",
       "      <td>251.99202</td>\n",
       "      <td>-7.631</td>\n",
       "      <td>121.977</td>\n",
       "      <td>4</td>\n",
       "      <td>10</td>\n",
       "      <td>0</td>\n",
       "      <td>0.7</td>\n",
       "      <td>0.917</td>\n",
       "      <td>0.0447</td>\n",
       "      <td>0.159</td>\n",
       "      <td>0.85</td>\n",
       "      <td>0.0768</td>\n",
       "      <td>0.272</td>\n",
       "    </tr>\n",
       "    <tr>\n",
       "      <th>923</th>\n",
       "      <td>Blissda - DJ Koze</td>\n",
       "      <td>6cOie6oyMHzoVHLmpLfHN4</td>\n",
       "      <td>https://api.spotify.com/v1/tracks/6cOie6oyMHzo...</td>\n",
       "      <td>40</td>\n",
       "      <td>343.33237</td>\n",
       "      <td>-11.509</td>\n",
       "      <td>116.984</td>\n",
       "      <td>4</td>\n",
       "      <td>8</td>\n",
       "      <td>1</td>\n",
       "      <td>0.786</td>\n",
       "      <td>0.633</td>\n",
       "      <td>0.0389</td>\n",
       "      <td>0.00561</td>\n",
       "      <td>0.899</td>\n",
       "      <td>0.0845</td>\n",
       "      <td>0.186</td>\n",
       "    </tr>\n",
       "    <tr>\n",
       "      <th>924</th>\n",
       "      <td>Karabali - Kiko Navarro</td>\n",
       "      <td>48qDlvkTp9Qwi9upy4HbTw</td>\n",
       "      <td>https://api.spotify.com/v1/tracks/48qDlvkTp9Qw...</td>\n",
       "      <td>40</td>\n",
       "      <td>425.22067</td>\n",
       "      <td>-9.92</td>\n",
       "      <td>121.989</td>\n",
       "      <td>4</td>\n",
       "      <td>2</td>\n",
       "      <td>1</td>\n",
       "      <td>0.834</td>\n",
       "      <td>0.686</td>\n",
       "      <td>0.0519</td>\n",
       "      <td>0.0236</td>\n",
       "      <td>0.0111</td>\n",
       "      <td>0.0737</td>\n",
       "      <td>0.74</td>\n",
       "    </tr>\n",
       "    <tr>\n",
       "      <th>925</th>\n",
       "      <td>Flamengo - DJ Ritmo55</td>\n",
       "      <td>3AykndJjGJ01Df301nbFeW</td>\n",
       "      <td>https://api.spotify.com/v1/tracks/3AykndJjGJ01...</td>\n",
       "      <td>39</td>\n",
       "      <td>119.07692</td>\n",
       "      <td>-1.6</td>\n",
       "      <td>129.994</td>\n",
       "      <td>4</td>\n",
       "      <td>11</td>\n",
       "      <td>1</td>\n",
       "      <td>0.798</td>\n",
       "      <td>0.954</td>\n",
       "      <td>0.0384</td>\n",
       "      <td>0.000548</td>\n",
       "      <td>0.0001</td>\n",
       "      <td>0.114</td>\n",
       "      <td>0.778</td>\n",
       "    </tr>\n",
       "  </tbody>\n",
       "</table>\n",
       "<p>926 rows × 17 columns</p>\n",
       "</div>"
      ],
      "text/plain": [
       "                                            search                      id  \\\n",
       "0                   I'm Good (Blue) - David Guetta  4uUG5RXrOk84mYEfFvj3cK   \n",
       "1    Miracle (with Ellie Goulding) - Calvin Harris  5eTaQYBE1yrActixMAeLcZ   \n",
       "2                         El Merengue - Marshmello  51FvjPEGKq2zByeeEQ43V9   \n",
       "3                Baby Don't Hurt Me - David Guetta  3BKD1PwArikchz2Zrlp1qi   \n",
       "4                       METAMORPHOSIS - INTERWORLD  2ksyzVfU0WJoBpu8otr4pz   \n",
       "..                                             ...                     ...   \n",
       "921                           Keramas - Moon Boots  6QYthxincEvqQzGkfAOAiK   \n",
       "922                             Onda - Theo Kottis  2vHPrrFhhiSH5GZZcGRSFm   \n",
       "923                              Blissda - DJ Koze  6cOie6oyMHzoVHLmpLfHN4   \n",
       "924                        Karabali - Kiko Navarro  48qDlvkTp9Qwi9upy4HbTw   \n",
       "925                          Flamengo - DJ Ritmo55  3AykndJjGJ01Df301nbFeW   \n",
       "\n",
       "                                                  href  popularity   duration  \\\n",
       "0    https://api.spotify.com/v1/tracks/4uUG5RXrOk84...          94   175.2381   \n",
       "1    https://api.spotify.com/v1/tracks/5eTaQYBE1yrA...          91  186.49615   \n",
       "2    https://api.spotify.com/v1/tracks/51FvjPEGKq2z...          91  189.66853   \n",
       "3    https://api.spotify.com/v1/tracks/3BKD1PwArikc...          90  140.01768   \n",
       "4    https://api.spotify.com/v1/tracks/2ksyzVfU0WJo...          89  142.83926   \n",
       "..                                                 ...         ...        ...   \n",
       "921  https://api.spotify.com/v1/tracks/6QYthxincEvq...          40  224.44872   \n",
       "922  https://api.spotify.com/v1/tracks/2vHPrrFhhiSH...          40  251.99202   \n",
       "923  https://api.spotify.com/v1/tracks/6cOie6oyMHzo...          40  343.33237   \n",
       "924  https://api.spotify.com/v1/tracks/48qDlvkTp9Qw...          40  425.22067   \n",
       "925  https://api.spotify.com/v1/tracks/3AykndJjGJ01...          39  119.07692   \n",
       "\n",
       "    loudness    tempo time_signature key mode danceability energy speechiness  \\\n",
       "0     -3.673   128.04              4   7    0        0.561  0.965      0.0343   \n",
       "1     -5.289  143.011              4   9    1        0.636  0.869      0.0412   \n",
       "2     -3.079  123.982              4   8    0        0.775  0.677      0.0442   \n",
       "3     -3.404  127.944              4   7    1        0.602   0.91      0.0308   \n",
       "4    -12.727  175.014              4   7    0        0.593  0.641      0.0992   \n",
       "..       ...      ...            ...  ..  ...          ...    ...         ...   \n",
       "921   -7.327  122.018              4   7    1        0.658  0.894      0.0551   \n",
       "922   -7.631  121.977              4  10    0          0.7  0.917      0.0447   \n",
       "923  -11.509  116.984              4   8    1        0.786  0.633      0.0389   \n",
       "924    -9.92  121.989              4   2    1        0.834  0.686      0.0519   \n",
       "925     -1.6  129.994              4  11    1        0.798  0.954      0.0384   \n",
       "\n",
       "    acousticness instrumentalness liveness valence  \n",
       "0        0.00383         0.000007    0.371   0.304  \n",
       "1         0.0378           0.0446   0.0808   0.306  \n",
       "2         0.0313          0.00517    0.112   0.698  \n",
       "3        0.00126         0.000174     0.12   0.228  \n",
       "4          0.426            0.901    0.122   0.147  \n",
       "..           ...              ...      ...     ...  \n",
       "921      0.00105           0.0794    0.128   0.158  \n",
       "922        0.159             0.85   0.0768   0.272  \n",
       "923      0.00561            0.899   0.0845   0.186  \n",
       "924       0.0236           0.0111   0.0737    0.74  \n",
       "925     0.000548           0.0001    0.114   0.778  \n",
       "\n",
       "[926 rows x 17 columns]"
      ]
     },
     "execution_count": 31,
     "metadata": {},
     "output_type": "execute_result"
    }
   ],
   "source": [
    "playlist_tracklist_df = pd.DataFrame(playlist_tracklist)\n",
    "playlist_tracklist_df = playlist_tracklist_df.sort_values('popularity', ascending=False)\n",
    "playlist_tracklist_df.drop_duplicates(subset='id', inplace=True)\n",
    "playlist_tracklist_df.reset_index(inplace=True, drop=True)\n",
    "playlist_tracklist_df"
   ]
  },
  {
   "cell_type": "code",
   "execution_count": 7,
   "metadata": {},
   "outputs": [
    {
     "name": "stdout",
     "output_type": "stream",
     "text": [
      "Length: 679 tracks\n",
      "Duration: 36.06 hours\n"
     ]
    },
    {
     "data": {
      "text/html": [
       "<div>\n",
       "<style scoped>\n",
       "    .dataframe tbody tr th:only-of-type {\n",
       "        vertical-align: middle;\n",
       "    }\n",
       "\n",
       "    .dataframe tbody tr th {\n",
       "        vertical-align: top;\n",
       "    }\n",
       "\n",
       "    .dataframe thead th {\n",
       "        text-align: right;\n",
       "    }\n",
       "</style>\n",
       "<table border=\"1\" class=\"dataframe\">\n",
       "  <thead>\n",
       "    <tr style=\"text-align: right;\">\n",
       "      <th></th>\n",
       "      <th>popularity</th>\n",
       "      <th>duration</th>\n",
       "      <th>loudness</th>\n",
       "      <th>tempo</th>\n",
       "      <th>time_signature</th>\n",
       "      <th>key</th>\n",
       "      <th>mode</th>\n",
       "      <th>danceability</th>\n",
       "      <th>energy</th>\n",
       "      <th>speechiness</th>\n",
       "      <th>acousticness</th>\n",
       "      <th>instrumentalness</th>\n",
       "      <th>liveness</th>\n",
       "      <th>valence</th>\n",
       "    </tr>\n",
       "  </thead>\n",
       "  <tbody>\n",
       "    <tr>\n",
       "      <th>count</th>\n",
       "      <td>679.000000</td>\n",
       "      <td>677.000000</td>\n",
       "      <td>677.000000</td>\n",
       "      <td>677.000000</td>\n",
       "      <td>677.000000</td>\n",
       "      <td>677.000000</td>\n",
       "      <td>677.000000</td>\n",
       "      <td>677.000000</td>\n",
       "      <td>677.000000</td>\n",
       "      <td>677.000000</td>\n",
       "      <td>677.000000</td>\n",
       "      <td>677.000000</td>\n",
       "      <td>677.000000</td>\n",
       "      <td>677.000000</td>\n",
       "    </tr>\n",
       "    <tr>\n",
       "      <th>mean</th>\n",
       "      <td>65.911635</td>\n",
       "      <td>191.767517</td>\n",
       "      <td>-6.045161</td>\n",
       "      <td>125.622576</td>\n",
       "      <td>3.983752</td>\n",
       "      <td>5.156573</td>\n",
       "      <td>0.516987</td>\n",
       "      <td>0.688096</td>\n",
       "      <td>0.786997</td>\n",
       "      <td>0.082994</td>\n",
       "      <td>0.113448</td>\n",
       "      <td>0.247822</td>\n",
       "      <td>0.195597</td>\n",
       "      <td>0.436634</td>\n",
       "    </tr>\n",
       "    <tr>\n",
       "      <th>std</th>\n",
       "      <td>8.279831</td>\n",
       "      <td>58.351411</td>\n",
       "      <td>2.626339</td>\n",
       "      <td>14.175669</td>\n",
       "      <td>0.183737</td>\n",
       "      <td>3.557932</td>\n",
       "      <td>0.500081</td>\n",
       "      <td>0.108053</td>\n",
       "      <td>0.141652</td>\n",
       "      <td>0.079172</td>\n",
       "      <td>0.176822</td>\n",
       "      <td>0.340570</td>\n",
       "      <td>0.154561</td>\n",
       "      <td>0.245510</td>\n",
       "    </tr>\n",
       "    <tr>\n",
       "      <th>min</th>\n",
       "      <td>53.000000</td>\n",
       "      <td>67.030070</td>\n",
       "      <td>-21.167000</td>\n",
       "      <td>75.373000</td>\n",
       "      <td>1.000000</td>\n",
       "      <td>0.000000</td>\n",
       "      <td>0.000000</td>\n",
       "      <td>0.279000</td>\n",
       "      <td>0.264000</td>\n",
       "      <td>0.024000</td>\n",
       "      <td>0.000025</td>\n",
       "      <td>0.000000</td>\n",
       "      <td>0.026500</td>\n",
       "      <td>0.026000</td>\n",
       "    </tr>\n",
       "    <tr>\n",
       "      <th>25%</th>\n",
       "      <td>59.000000</td>\n",
       "      <td>154.960590</td>\n",
       "      <td>-7.324000</td>\n",
       "      <td>120.959000</td>\n",
       "      <td>4.000000</td>\n",
       "      <td>2.000000</td>\n",
       "      <td>0.000000</td>\n",
       "      <td>0.623000</td>\n",
       "      <td>0.712000</td>\n",
       "      <td>0.040000</td>\n",
       "      <td>0.008030</td>\n",
       "      <td>0.000077</td>\n",
       "      <td>0.096600</td>\n",
       "      <td>0.242000</td>\n",
       "    </tr>\n",
       "    <tr>\n",
       "      <th>50%</th>\n",
       "      <td>64.000000</td>\n",
       "      <td>181.904750</td>\n",
       "      <td>-5.801000</td>\n",
       "      <td>124.914000</td>\n",
       "      <td>4.000000</td>\n",
       "      <td>5.000000</td>\n",
       "      <td>1.000000</td>\n",
       "      <td>0.690000</td>\n",
       "      <td>0.821000</td>\n",
       "      <td>0.052900</td>\n",
       "      <td>0.034000</td>\n",
       "      <td>0.014300</td>\n",
       "      <td>0.130000</td>\n",
       "      <td>0.441000</td>\n",
       "    </tr>\n",
       "    <tr>\n",
       "      <th>75%</th>\n",
       "      <td>71.500000</td>\n",
       "      <td>217.708920</td>\n",
       "      <td>-4.353000</td>\n",
       "      <td>127.980000</td>\n",
       "      <td>4.000000</td>\n",
       "      <td>8.000000</td>\n",
       "      <td>1.000000</td>\n",
       "      <td>0.758000</td>\n",
       "      <td>0.896000</td>\n",
       "      <td>0.087900</td>\n",
       "      <td>0.143000</td>\n",
       "      <td>0.557000</td>\n",
       "      <td>0.252000</td>\n",
       "      <td>0.630000</td>\n",
       "    </tr>\n",
       "    <tr>\n",
       "      <th>max</th>\n",
       "      <td>94.000000</td>\n",
       "      <td>627.096800</td>\n",
       "      <td>1.260000</td>\n",
       "      <td>194.992000</td>\n",
       "      <td>5.000000</td>\n",
       "      <td>11.000000</td>\n",
       "      <td>1.000000</td>\n",
       "      <td>0.958000</td>\n",
       "      <td>0.996000</td>\n",
       "      <td>0.613000</td>\n",
       "      <td>0.888000</td>\n",
       "      <td>0.957000</td>\n",
       "      <td>0.924000</td>\n",
       "      <td>0.967000</td>\n",
       "    </tr>\n",
       "  </tbody>\n",
       "</table>\n",
       "</div>"
      ],
      "text/plain": [
       "       popularity    duration    loudness       tempo  time_signature  \\\n",
       "count  679.000000  677.000000  677.000000  677.000000      677.000000   \n",
       "mean    65.911635  191.767517   -6.045161  125.622576        3.983752   \n",
       "std      8.279831   58.351411    2.626339   14.175669        0.183737   \n",
       "min     53.000000   67.030070  -21.167000   75.373000        1.000000   \n",
       "25%     59.000000  154.960590   -7.324000  120.959000        4.000000   \n",
       "50%     64.000000  181.904750   -5.801000  124.914000        4.000000   \n",
       "75%     71.500000  217.708920   -4.353000  127.980000        4.000000   \n",
       "max     94.000000  627.096800    1.260000  194.992000        5.000000   \n",
       "\n",
       "              key        mode  danceability      energy  speechiness  \\\n",
       "count  677.000000  677.000000    677.000000  677.000000   677.000000   \n",
       "mean     5.156573    0.516987      0.688096    0.786997     0.082994   \n",
       "std      3.557932    0.500081      0.108053    0.141652     0.079172   \n",
       "min      0.000000    0.000000      0.279000    0.264000     0.024000   \n",
       "25%      2.000000    0.000000      0.623000    0.712000     0.040000   \n",
       "50%      5.000000    1.000000      0.690000    0.821000     0.052900   \n",
       "75%      8.000000    1.000000      0.758000    0.896000     0.087900   \n",
       "max     11.000000    1.000000      0.958000    0.996000     0.613000   \n",
       "\n",
       "       acousticness  instrumentalness    liveness     valence  \n",
       "count    677.000000        677.000000  677.000000  677.000000  \n",
       "mean       0.113448          0.247822    0.195597    0.436634  \n",
       "std        0.176822          0.340570    0.154561    0.245510  \n",
       "min        0.000025          0.000000    0.026500    0.026000  \n",
       "25%        0.008030          0.000077    0.096600    0.242000  \n",
       "50%        0.034000          0.014300    0.130000    0.441000  \n",
       "75%        0.143000          0.557000    0.252000    0.630000  \n",
       "max        0.888000          0.957000    0.924000    0.967000  "
      ]
     },
     "execution_count": 7,
     "metadata": {},
     "output_type": "execute_result"
    }
   ],
   "source": [
    "playlist_duration = round(float(input('Playlist duration (hours)?')), 2)\n",
    "for i in range(1, len(playlist_tracklist_df)):\n",
    "    duration = round(playlist_tracklist_df['duration'].iloc[:i].sum()/3600, 2)\n",
    "    if (duration >= playlist_duration-0.1) and (duration <= playlist_duration+0.1):\n",
    "        truncated_tracklist = playlist_tracklist_df.iloc[:i]\n",
    "print(f\"Length: {len(truncated_tracklist)} tracks\")\n",
    "print(f\"Duration: {round(truncated_tracklist['duration'].sum()/3600, 2)} hours\")\n",
    "truncated_tracklist.describe()"
   ]
  },
  {
   "cell_type": "code",
   "execution_count": 8,
   "metadata": {},
   "outputs": [],
   "source": [
    "def build_neighbor_list(start_index, data, labels, n_neighbors, k):\n",
    "    neighbor_list = [start_index]\n",
    "    visited_indices = set([start_index])\n",
    "    current_label = labels[start_index]\n",
    "\n",
    "    while len(neighbor_list) < n_neighbors:\n",
    "        current_coords = data[neighbor_list[-1]]\n",
    "\n",
    "        nbrs = NearestNeighbors(n_neighbors=k+1).fit(data)\n",
    "        distances, indices = nbrs.kneighbors([current_coords], n_neighbors=n_neighbors)\n",
    "        indices = indices[0]\n",
    "        distances = distances[0]\n",
    "\n",
    "        for i in range(1, n_neighbors):\n",
    "            if indices[i] not in visited_indices and labels[indices[i]] == current_label:\n",
    "                neighbor_list.append(indices[i])\n",
    "                visited_indices.add(indices[i])\n",
    "                break\n",
    "\n",
    "        else:\n",
    "            for i in range(1, n_neighbors):\n",
    "                if indices[i] not in visited_indices and labels[indices[i]] != current_label:\n",
    "                    neighbor_list.append(indices[i])\n",
    "                    visited_indices.add(indices[i])\n",
    "                    current_label = labels[indices[i]]\n",
    "                    break\n",
    "\n",
    "            else:\n",
    "                break\n",
    "\n",
    "    return neighbor_list"
   ]
  },
  {
   "cell_type": "code",
   "execution_count": 20,
   "metadata": {},
   "outputs": [],
   "source": [
    "def sort_tracklist(tracklist):\n",
    "    # Sort tracks by search name\n",
    "    global tracklist_df\n",
    "    tracklist_df = pd.DataFrame(tracklist).drop_duplicates(subset=['id'])\n",
    "    tracklist_df = tracklist_df.drop_duplicates(subset=['search'])\n",
    "    le = LabelEncoder()\n",
    "    tracklist_df = tracklist_df.sort_values('search', ascending=True)\n",
    "    tracklist_df.reset_index(inplace=True, drop=True)\n",
    "\n",
    "    duration_mean = round(tracklist_df['duration'].mean(),3)\n",
    "    duration_na = tracklist_df['duration'][tracklist_df['duration'].isna() == True].index\n",
    "    tracklist_df['duration'].iloc[duration_na] = duration_mean\n",
    "\n",
    "    loudness_mean = round(tracklist_df['loudness'].mean(),3)\n",
    "    loudness_na = tracklist_df['loudness'][tracklist_df['loudness'].isna() == True].index\n",
    "    tracklist_df['loudness'].iloc[loudness_na] = loudness_mean\n",
    "\n",
    "    tempo_mean = round(tracklist_df['tempo'].mean(),3)\n",
    "    tempo_high = round(tracklist_df['tempo'].max(),3)\n",
    "    tempo_na = tracklist_df['tempo'][tracklist_df['tempo'].isna() == True].index\n",
    "    tempo_high = tracklist_df['tempo'][tracklist_df['tempo'] >= 240].index\n",
    "    tracklist_df['tempo'].iloc[tempo_na] = tempo_mean\n",
    "    tracklist_df['tempo'].iloc[tempo_high] = tempo_mean\n",
    "\n",
    "    time_signature_mean = round(tracklist_df['time_signature'].mean(),0)\n",
    "    time_signature_na = tracklist_df['time_signature'][tracklist_df['time_signature'].isna() == True].index\n",
    "    tracklist_df['time_signature'].iloc[time_signature_na] = time_signature_mean\n",
    "\n",
    "    key_mean = round(tracklist_df['key'].mean(),0)\n",
    "    key_na = tracklist_df['key'][tracklist_df['key'].isna() == True].index\n",
    "    tracklist_df['key'].iloc[key_na] = key_mean\n",
    "\n",
    "    mode_mean = round(tracklist_df['mode'].mean(),0)\n",
    "    mode_na = tracklist_df['mode'][tracklist_df['mode'].isna() == True].index\n",
    "    tracklist_df['mode'].iloc[mode_na] = mode_mean\n",
    "\n",
    "    danceability_mean = round(tracklist_df['danceability'].mean(),3)\n",
    "    danceability_na = tracklist_df['danceability'][tracklist_df['danceability'].isna() == True].index\n",
    "    tracklist_df['danceability'].iloc[danceability_na] = danceability_mean\n",
    "\n",
    "    energy_mean = round(tracklist_df['energy'].mean(),3)\n",
    "    energy_na = tracklist_df['energy'][tracklist_df['energy'].isna() == True].index\n",
    "    tracklist_df['energy'].iloc[energy_na] = energy_mean\n",
    "\n",
    "    speechiness_mean = tracklist_df['speechiness'].mean()\n",
    "    speechiness_na = tracklist_df['speechiness'][tracklist_df['speechiness'].isna() == True].index\n",
    "    tracklist_df['speechiness'].iloc[speechiness_na] = speechiness_mean\n",
    "\n",
    "    acousticness_mean = round(tracklist_df['acousticness'].mean(),5)\n",
    "    acousticness_na = tracklist_df['acousticness'][tracklist_df['acousticness'].isna() == True].index\n",
    "    tracklist_df['acousticness'].iloc[acousticness_na] = acousticness_mean\n",
    "\n",
    "    instrumentalness_mean = round(tracklist_df['instrumentalness'].mean(),3)\n",
    "    instrumentalness_na = tracklist_df['instrumentalness'][tracklist_df['instrumentalness'].isna() == True].index\n",
    "    tracklist_df['instrumentalness'].iloc[instrumentalness_na] = instrumentalness_mean\n",
    "\n",
    "    liveness_mean = round(tracklist_df['liveness'].mean(),3)\n",
    "    liveness_na = tracklist_df['liveness'][tracklist_df['liveness'].isna() == True].index\n",
    "    tracklist_df['liveness'].iloc[liveness_na] = liveness_mean\n",
    "\n",
    "    valence_mean = round(tracklist_df['valence'].mean(),3)\n",
    "    valence_na = tracklist_df['valence'][tracklist_df['valence'].isna() == True].index\n",
    "    tracklist_df['valence'].iloc[valence_na] = valence_mean\n",
    "\n",
    "    len_tracklist = len(tracklist_df)\n",
    "\n",
    "    # Numeric values\n",
    "    numeric_df = tracklist_df.drop(columns=['search', 'id', 'href', 'mode'])\n",
    "\n",
    "    # Scale values\n",
    "    scaler = MinMaxScaler(feature_range=(0, 10))\n",
    "    numeric_scaled = pd.DataFrame(scaler.fit_transform(numeric_df), columns=numeric_df.columns)\n",
    "\n",
    "    # Reduce dimensions\n",
    "    pca = PCA(n_components=2)\n",
    "    pca.fit(numeric_scaled)\n",
    "    global numeric_scaled_pca\n",
    "    numeric_scaled_pca = pca.transform(numeric_scaled)\n",
    "    tempo_array = np.array(numeric_scaled['tempo'])\n",
    "    tempo_array = tempo_array.reshape(-1, 1)\n",
    "    numeric_scaled_pca = np.concatenate((numeric_scaled_pca, tempo_array), axis=1)\n",
    "    X_PCA = pd.DataFrame(numeric_scaled_pca, columns=(['col1', 'col2', 'col3']))\n",
    "\n",
    "    component_names = []\n",
    "    for component in pca.components_:\n",
    "        abs_loadings = np.abs(component)\n",
    "        max_loading_index = np.argmax(abs_loadings)\n",
    "        component_names.append(numeric_scaled.columns[max_loading_index])\n",
    "\n",
    "    print(f'The three main components are: {component_names[0]}, {component_names[1]}, and tempo.')\n",
    "\n",
    "    # Option to pick the columns\n",
    "    # X_PCA = pd.DataFrame(np.asarray(numeric_scaled[['tempo', 'key','valence']]), columns=(['col1', 'col2', 'col3']))\n",
    "\n",
    "    # Get the suggested number of clusters (k) from the elbow method\n",
    "    elbow_m = KElbowVisualizer(KMeans(n_init='auto'), k=15, show=False)\n",
    "    elbow_m.fit(X_PCA)\n",
    "    k = elbow_m.elbow_value_\n",
    "    plt.close()\n",
    "\n",
    "    # Get cluster labels\n",
    "    n_clusters = k\n",
    "    clusterer = AgglomerativeClustering(n_clusters=n_clusters)\n",
    "    cluster_labels = clusterer.fit_predict(X_PCA)\n",
    "\n",
    "    # Add clusters to dataframes\n",
    "    X_PCA['clusters'] = cluster_labels\n",
    "    numeric_scaled['clusters'] = cluster_labels\n",
    "\n",
    "    # Show data points\n",
    "    PCA_show = X_PCA.copy()\n",
    "    x = PCA_show['col1']\n",
    "    y = PCA_show['col2']\n",
    "    z = PCA_show['col3']\n",
    "    PCA_show['name'] = tracklist_df['search']\n",
    "    fig = px.scatter_3d(PCA_show, x=x, y=y, z=z, color='clusters', hover_name='name', hover_data=['clusters'])\n",
    "    fig.show()\n",
    "\n",
    "    # Get nearest neighbors from lowest tempo song\n",
    "    random_pick = np.random.randint(0,20,size=1)\n",
    "    start_index = numeric_scaled.sort_values('tempo').head(20).iloc[random_pick].index.values[0]\n",
    "    n_neighbors = len_tracklist\n",
    "    data = np.squeeze(np.asarray(X_PCA.drop(columns=['clusters'])))\n",
    "    labels = np.array(X_PCA['clusters'].values)\n",
    "    neighbor_list = build_neighbor_list(start_index, data, labels, n_neighbors, k)\n",
    "    sorted_tracklist = tracklist_df.iloc[neighbor_list]\n",
    "    sorted_tracklist_names = list(sorted_tracklist['search'].values)\n",
    "    tracklist_ids = list(sorted_tracklist['id'].values)\n",
    "\n",
    "\n",
    "    return sorted_tracklist_names, tracklist_ids"
   ]
  },
  {
   "cell_type": "code",
   "execution_count": 23,
   "metadata": {},
   "outputs": [
    {
     "name": "stdout",
     "output_type": "stream",
     "text": [
      "The three main components are: instrumentalness, key, and tempo\n"
     ]
    },
    {
     "data": {
      "application/vnd.plotly.v1+json": {
       "config": {
        "plotlyServerURL": "https://plot.ly"
       },
       "data": [
        {
         "customdata": [
          [
           0
          ],
          [
           0
          ],
          [
           3
          ],
          [
           0
          ],
          [
           0
          ],
          [
           0
          ],
          [
           3
          ],
          [
           0
          ],
          [
           0
          ],
          [
           3
          ],
          [
           1
          ],
          [
           0
          ],
          [
           3
          ],
          [
           3
          ],
          [
           0
          ],
          [
           3
          ],
          [
           3
          ],
          [
           3
          ],
          [
           1
          ],
          [
           4
          ],
          [
           0
          ],
          [
           0
          ],
          [
           1
          ],
          [
           4
          ],
          [
           3
          ],
          [
           0
          ],
          [
           2
          ],
          [
           1
          ],
          [
           3
          ],
          [
           3
          ],
          [
           4
          ],
          [
           0
          ],
          [
           2
          ],
          [
           0
          ],
          [
           0
          ],
          [
           4
          ],
          [
           2
          ],
          [
           1
          ],
          [
           1
          ],
          [
           1
          ],
          [
           3
          ],
          [
           4
          ],
          [
           0
          ],
          [
           3
          ],
          [
           3
          ],
          [
           1
          ],
          [
           0
          ],
          [
           3
          ],
          [
           3
          ],
          [
           0
          ],
          [
           3
          ],
          [
           1
          ],
          [
           1
          ],
          [
           0
          ],
          [
           3
          ],
          [
           3
          ],
          [
           3
          ],
          [
           1
          ],
          [
           3
          ],
          [
           1
          ],
          [
           0
          ],
          [
           0
          ],
          [
           1
          ],
          [
           3
          ],
          [
           3
          ],
          [
           2
          ],
          [
           3
          ],
          [
           0
          ],
          [
           0
          ],
          [
           3
          ],
          [
           4
          ],
          [
           1
          ],
          [
           2
          ],
          [
           4
          ],
          [
           2
          ],
          [
           3
          ],
          [
           0
          ],
          [
           3
          ],
          [
           1
          ],
          [
           0
          ],
          [
           0
          ],
          [
           1
          ],
          [
           4
          ],
          [
           4
          ],
          [
           0
          ],
          [
           1
          ],
          [
           1
          ],
          [
           0
          ],
          [
           0
          ],
          [
           0
          ],
          [
           0
          ],
          [
           3
          ],
          [
           1
          ],
          [
           0
          ],
          [
           0
          ],
          [
           0
          ],
          [
           4
          ],
          [
           0
          ],
          [
           0
          ],
          [
           0
          ],
          [
           0
          ],
          [
           0
          ],
          [
           1
          ],
          [
           0
          ],
          [
           4
          ],
          [
           0
          ],
          [
           3
          ],
          [
           4
          ],
          [
           1
          ],
          [
           3
          ],
          [
           0
          ],
          [
           2
          ],
          [
           1
          ],
          [
           3
          ],
          [
           2
          ],
          [
           3
          ],
          [
           2
          ],
          [
           4
          ],
          [
           3
          ],
          [
           0
          ],
          [
           1
          ],
          [
           4
          ],
          [
           0
          ],
          [
           0
          ],
          [
           0
          ],
          [
           4
          ],
          [
           2
          ],
          [
           0
          ],
          [
           2
          ],
          [
           0
          ],
          [
           4
          ],
          [
           0
          ],
          [
           3
          ],
          [
           0
          ],
          [
           1
          ],
          [
           0
          ],
          [
           3
          ],
          [
           0
          ],
          [
           0
          ],
          [
           2
          ],
          [
           2
          ],
          [
           4
          ],
          [
           3
          ],
          [
           0
          ],
          [
           0
          ],
          [
           0
          ],
          [
           1
          ],
          [
           4
          ],
          [
           2
          ],
          [
           0
          ],
          [
           0
          ],
          [
           1
          ],
          [
           0
          ],
          [
           3
          ],
          [
           2
          ],
          [
           1
          ],
          [
           0
          ],
          [
           1
          ],
          [
           0
          ],
          [
           0
          ],
          [
           0
          ],
          [
           0
          ],
          [
           1
          ],
          [
           3
          ],
          [
           1
          ],
          [
           1
          ],
          [
           3
          ],
          [
           0
          ],
          [
           1
          ],
          [
           0
          ],
          [
           1
          ],
          [
           3
          ],
          [
           2
          ],
          [
           2
          ],
          [
           0
          ],
          [
           0
          ],
          [
           0
          ],
          [
           4
          ],
          [
           4
          ],
          [
           3
          ],
          [
           4
          ],
          [
           4
          ],
          [
           0
          ],
          [
           0
          ],
          [
           3
          ],
          [
           4
          ],
          [
           3
          ],
          [
           4
          ],
          [
           1
          ],
          [
           3
          ],
          [
           0
          ],
          [
           3
          ],
          [
           3
          ],
          [
           0
          ],
          [
           3
          ],
          [
           2
          ],
          [
           0
          ],
          [
           0
          ],
          [
           0
          ],
          [
           4
          ],
          [
           0
          ],
          [
           3
          ],
          [
           3
          ],
          [
           3
          ],
          [
           3
          ],
          [
           0
          ],
          [
           1
          ],
          [
           2
          ],
          [
           1
          ],
          [
           1
          ],
          [
           0
          ],
          [
           1
          ],
          [
           1
          ],
          [
           0
          ],
          [
           3
          ],
          [
           4
          ],
          [
           4
          ],
          [
           4
          ],
          [
           3
          ],
          [
           0
          ],
          [
           0
          ],
          [
           0
          ],
          [
           0
          ],
          [
           4
          ],
          [
           3
          ],
          [
           0
          ],
          [
           3
          ],
          [
           3
          ],
          [
           0
          ],
          [
           0
          ],
          [
           0
          ],
          [
           0
          ],
          [
           3
          ],
          [
           4
          ],
          [
           1
          ],
          [
           3
          ],
          [
           1
          ],
          [
           3
          ],
          [
           0
          ],
          [
           0
          ],
          [
           0
          ],
          [
           0
          ],
          [
           0
          ],
          [
           0
          ],
          [
           3
          ],
          [
           1
          ],
          [
           0
          ],
          [
           1
          ],
          [
           1
          ],
          [
           0
          ],
          [
           4
          ],
          [
           0
          ],
          [
           1
          ],
          [
           4
          ],
          [
           2
          ],
          [
           3
          ],
          [
           4
          ],
          [
           3
          ],
          [
           3
          ],
          [
           3
          ],
          [
           2
          ],
          [
           0
          ],
          [
           0
          ],
          [
           4
          ],
          [
           0
          ],
          [
           0
          ],
          [
           1
          ],
          [
           3
          ],
          [
           0
          ],
          [
           2
          ],
          [
           4
          ],
          [
           3
          ],
          [
           3
          ],
          [
           3
          ],
          [
           0
          ],
          [
           0
          ],
          [
           1
          ],
          [
           2
          ],
          [
           0
          ],
          [
           0
          ],
          [
           0
          ],
          [
           0
          ],
          [
           0
          ],
          [
           2
          ],
          [
           1
          ],
          [
           3
          ],
          [
           0
          ],
          [
           2
          ],
          [
           3
          ],
          [
           1
          ],
          [
           2
          ],
          [
           3
          ],
          [
           1
          ],
          [
           1
          ],
          [
           0
          ],
          [
           4
          ],
          [
           3
          ],
          [
           1
          ],
          [
           0
          ],
          [
           0
          ],
          [
           0
          ],
          [
           2
          ],
          [
           1
          ],
          [
           2
          ],
          [
           4
          ],
          [
           1
          ],
          [
           1
          ],
          [
           1
          ],
          [
           1
          ],
          [
           1
          ],
          [
           4
          ],
          [
           0
          ],
          [
           0
          ],
          [
           0
          ],
          [
           1
          ],
          [
           2
          ],
          [
           1
          ],
          [
           4
          ],
          [
           3
          ],
          [
           0
          ],
          [
           0
          ],
          [
           3
          ],
          [
           0
          ],
          [
           3
          ],
          [
           0
          ],
          [
           1
          ],
          [
           0
          ],
          [
           3
          ],
          [
           1
          ],
          [
           0
          ],
          [
           1
          ],
          [
           3
          ],
          [
           1
          ],
          [
           3
          ],
          [
           4
          ],
          [
           2
          ],
          [
           3
          ],
          [
           0
          ],
          [
           0
          ],
          [
           1
          ],
          [
           4
          ],
          [
           0
          ],
          [
           1
          ],
          [
           0
          ],
          [
           0
          ],
          [
           0
          ],
          [
           0
          ],
          [
           0
          ],
          [
           1
          ],
          [
           2
          ],
          [
           4
          ],
          [
           0
          ],
          [
           3
          ],
          [
           0
          ],
          [
           3
          ],
          [
           3
          ],
          [
           3
          ],
          [
           3
          ],
          [
           0
          ],
          [
           4
          ],
          [
           3
          ],
          [
           1
          ],
          [
           0
          ],
          [
           0
          ],
          [
           2
          ],
          [
           3
          ],
          [
           3
          ],
          [
           0
          ],
          [
           0
          ],
          [
           2
          ],
          [
           0
          ],
          [
           2
          ],
          [
           3
          ],
          [
           3
          ],
          [
           1
          ],
          [
           0
          ],
          [
           1
          ],
          [
           0
          ],
          [
           3
          ],
          [
           0
          ],
          [
           0
          ],
          [
           3
          ],
          [
           0
          ],
          [
           0
          ],
          [
           0
          ],
          [
           0
          ],
          [
           0
          ],
          [
           2
          ],
          [
           0
          ],
          [
           0
          ],
          [
           0
          ],
          [
           1
          ],
          [
           0
          ],
          [
           3
          ],
          [
           0
          ],
          [
           1
          ],
          [
           0
          ],
          [
           0
          ],
          [
           0
          ],
          [
           1
          ],
          [
           3
          ],
          [
           4
          ],
          [
           3
          ],
          [
           3
          ],
          [
           3
          ],
          [
           0
          ],
          [
           3
          ],
          [
           4
          ],
          [
           1
          ],
          [
           0
          ],
          [
           0
          ],
          [
           1
          ],
          [
           0
          ],
          [
           2
          ],
          [
           1
          ],
          [
           3
          ],
          [
           0
          ],
          [
           0
          ],
          [
           2
          ],
          [
           3
          ],
          [
           2
          ],
          [
           2
          ],
          [
           3
          ],
          [
           3
          ],
          [
           1
          ],
          [
           4
          ],
          [
           2
          ],
          [
           0
          ],
          [
           0
          ],
          [
           3
          ],
          [
           3
          ],
          [
           2
          ],
          [
           1
          ],
          [
           1
          ],
          [
           0
          ],
          [
           0
          ],
          [
           2
          ],
          [
           4
          ],
          [
           1
          ],
          [
           4
          ],
          [
           0
          ],
          [
           0
          ],
          [
           4
          ],
          [
           2
          ],
          [
           4
          ],
          [
           3
          ],
          [
           3
          ],
          [
           2
          ],
          [
           1
          ],
          [
           0
          ],
          [
           3
          ],
          [
           0
          ],
          [
           3
          ],
          [
           3
          ],
          [
           4
          ],
          [
           2
          ],
          [
           0
          ],
          [
           1
          ],
          [
           2
          ],
          [
           0
          ],
          [
           4
          ],
          [
           0
          ],
          [
           2
          ],
          [
           0
          ],
          [
           0
          ],
          [
           1
          ],
          [
           4
          ],
          [
           3
          ],
          [
           1
          ],
          [
           2
          ],
          [
           1
          ],
          [
           3
          ],
          [
           0
          ],
          [
           0
          ],
          [
           0
          ],
          [
           0
          ],
          [
           4
          ],
          [
           4
          ],
          [
           4
          ],
          [
           3
          ],
          [
           4
          ],
          [
           0
          ],
          [
           0
          ],
          [
           0
          ],
          [
           3
          ],
          [
           4
          ],
          [
           2
          ],
          [
           1
          ],
          [
           3
          ],
          [
           4
          ],
          [
           4
          ],
          [
           0
          ],
          [
           3
          ],
          [
           0
          ],
          [
           0
          ],
          [
           4
          ],
          [
           1
          ],
          [
           0
          ],
          [
           4
          ],
          [
           0
          ],
          [
           0
          ],
          [
           0
          ],
          [
           2
          ],
          [
           2
          ],
          [
           4
          ],
          [
           0
          ],
          [
           0
          ],
          [
           3
          ],
          [
           0
          ],
          [
           4
          ],
          [
           0
          ],
          [
           4
          ],
          [
           4
          ],
          [
           0
          ],
          [
           0
          ],
          [
           0
          ],
          [
           0
          ],
          [
           0
          ],
          [
           1
          ],
          [
           0
          ],
          [
           3
          ],
          [
           0
          ],
          [
           3
          ],
          [
           0
          ],
          [
           3
          ],
          [
           1
          ],
          [
           0
          ],
          [
           4
          ],
          [
           1
          ],
          [
           0
          ],
          [
           3
          ],
          [
           0
          ],
          [
           4
          ],
          [
           0
          ],
          [
           1
          ],
          [
           0
          ],
          [
           3
          ],
          [
           4
          ],
          [
           1
          ],
          [
           0
          ],
          [
           0
          ],
          [
           0
          ],
          [
           0
          ],
          [
           3
          ],
          [
           0
          ],
          [
           1
          ],
          [
           3
          ],
          [
           1
          ],
          [
           2
          ],
          [
           3
          ],
          [
           0
          ],
          [
           3
          ],
          [
           0
          ],
          [
           2
          ],
          [
           2
          ],
          [
           0
          ],
          [
           0
          ],
          [
           2
          ],
          [
           2
          ],
          [
           0
          ],
          [
           1
          ],
          [
           0
          ],
          [
           1
          ],
          [
           1
          ],
          [
           2
          ],
          [
           1
          ],
          [
           4
          ],
          [
           4
          ],
          [
           0
          ],
          [
           0
          ],
          [
           4
          ],
          [
           1
          ],
          [
           2
          ],
          [
           0
          ],
          [
           4
          ],
          [
           4
          ],
          [
           3
          ],
          [
           1
          ],
          [
           3
          ],
          [
           1
          ],
          [
           4
          ],
          [
           3
          ],
          [
           3
          ],
          [
           0
          ],
          [
           3
          ],
          [
           0
          ],
          [
           0
          ],
          [
           1
          ],
          [
           4
          ],
          [
           4
          ],
          [
           1
          ],
          [
           4
          ],
          [
           0
          ],
          [
           3
          ],
          [
           2
          ],
          [
           0
          ],
          [
           0
          ],
          [
           3
          ],
          [
           0
          ],
          [
           0
          ],
          [
           1
          ],
          [
           4
          ],
          [
           0
          ],
          [
           2
          ],
          [
           3
          ],
          [
           2
          ],
          [
           0
          ],
          [
           4
          ],
          [
           1
          ],
          [
           4
          ],
          [
           1
          ],
          [
           0
          ],
          [
           1
          ],
          [
           3
          ],
          [
           0
          ],
          [
           3
          ],
          [
           2
          ],
          [
           0
          ],
          [
           3
          ],
          [
           0
          ],
          [
           4
          ],
          [
           2
          ],
          [
           1
          ],
          [
           3
          ],
          [
           3
          ],
          [
           0
          ],
          [
           0
          ],
          [
           0
          ],
          [
           3
          ],
          [
           0
          ],
          [
           1
          ],
          [
           0
          ],
          [
           0
          ],
          [
           0
          ],
          [
           3
          ],
          [
           1
          ],
          [
           0
          ],
          [
           0
          ],
          [
           3
          ],
          [
           0
          ],
          [
           0
          ],
          [
           2
          ],
          [
           1
          ],
          [
           3
          ],
          [
           3
          ],
          [
           0
          ],
          [
           3
          ],
          [
           4
          ],
          [
           0
          ],
          [
           0
          ],
          [
           0
          ],
          [
           3
          ],
          [
           0
          ],
          [
           0
          ],
          [
           3
          ],
          [
           1
          ],
          [
           0
          ],
          [
           0
          ],
          [
           0
          ],
          [
           3
          ],
          [
           0
          ],
          [
           0
          ],
          [
           0
          ],
          [
           2
          ],
          [
           4
          ],
          [
           1
          ],
          [
           3
          ],
          [
           3
          ],
          [
           1
          ],
          [
           3
          ],
          [
           0
          ],
          [
           4
          ],
          [
           0
          ],
          [
           0
          ],
          [
           0
          ],
          [
           3
          ],
          [
           0
          ],
          [
           1
          ]
         ],
         "hovertemplate": "<b>%{hovertext}</b><br><br>col1=%{x}<br>col2=%{y}<br>col3=%{z}<br>clusters=%{marker.color}<extra></extra>",
         "hovertext": [
          "10 Out Of 10 (feat. Kylie Minogue) - Oliver Heldens",
          "10:35 - Tiësto",
          "1x1 - Galantis",
          "2 Be Loved (Am I Ready) [PNAU Remix] - Lizzo",
          "2 Die 4 (Jax Jones Midnight Snacks Remix) - Tove Lo",
          "21 Reasons (feat. Ella Henderson) - Nathan Dawe",
          "A Milli - SIDEPIECE Remix - Lil Wayne",
          "A Second to Midnight - Kylie Minogue",
          "ANGRY BIRDS PHONK - RXDXVIL",
          "ANUBIS - KUTE",
          "AVOID ME - KUTE",
          "About Damn Time - Purple Disco Machine Remix - Lizzo",
          "Afraid To Feel - LF SYSTEM",
          "Afterparty - Loud Luxury",
          "Aguila ft. Cumbiafrica - HUGEL",
          "All By Myself - Alok",
          "All Day (feat. Nonô) - Welshy",
          "All I've Ever Known - Vandelux",
          "All In A Dream - LP Giobbi",
          "All Night Long - Y.V.E. 48 Remix - Nora Van Elken",
          "All Nighter - Tiësto",
          "All Or Nothing - Topic",
          "Allein Allein - INNERVERSE",
          "Always - Monkey Safari Remix - RÜFÜS DU SOL",
          "Another Life (feat. FLETCHER & Josh Golden) - Surf Mesa",
          "Another Love - Tiësto Remix - Tom Odell",
          "Another Time - TWO LANES",
          "Another You - BONNIE X CLYDE",
          "Anti-Hero - Jayda G Remix - Taylor Swift",
          "Antibodies - LP Giobbi Remix - Tensnake",
          "Anywhere - Lonely in the Rain",
          "Anywhere With You - AFROJACK",
          "Apollo - Original Mix - Charlotte de Witte",
          "Arena - Fabian Mazur",
          "Ask Me - Duck Sauce",
          "Assassin - Sultan + Shepard",
          "Atlas - Lane 8",
          "Attack of the Killer Beast (Phonk) - SXCREDMANE",
          "B.O.T.A. (Baddest Of Them All) - Edit - Eliza Rose",
          "B.O.T.A. (Baddest Of Them All) - Eliza Rose",
          "BALADINHA SINISTRA - $werve",
          "BLAST EM' - Aega",
          "BRAND NEW BITCH - COBRAH",
          "BREAK MY SOUL - Beyoncé",
          "BREATHE - yatashigang",
          "BULLET - FORGOTTENAGE",
          "Baby Don't Hurt Me - David Guetta",
          "Baby Girl - Disco Lines",
          "Baby again.. - Fred again..",
          "Bad Memories (feat. Elley Duhé & FAST BOY) - MEDUZA",
          "Bad Memories - Felix Jaehn Remix - MEDUZA",
          "Baianá - Bakermat",
          "Baila Conmigo - Tiësto",
          "Be My Lover (feat. La Bouche) - 2023 Mix - Hypaton",
          "Be My One - Sonny Fodera",
          "Be The One - Eli Brown",
          "Beat Goes On (Rhythm to the Brain) - Campbell",
          "Beat das Trevas - DJ MENOR DA ZN",
          "Beautiful Life - John De Sohn",
          "Because You Move Me - Tinlicker",
          "Beg for You (feat. Rina Sawayama) - Charli XCX",
          "Beggin' - Chris Lake",
          "Bel Mercy - Jengi",
          "Believe (feat. Goodboys) - ACRAZE",
          "Believe (feat. Goodboys) [Galantis Remix] - ACRAZE",
          "Believer - Marsh's Guatape Remix - Above & Beyond",
          "Belly Dancer - Imanbek",
          "Best Is Yet To Come (with Kyle Reynolds) - Gryffin",
          "Better (feat. Teddy Swims) - MK",
          "Better Days - Regard Remix - NEIKED",
          "Better Love - Eliza Rose",
          "Better Than This - John Summit",
          "Beyond Beliefs - Ben Böhmer",
          "Beyond Us - Hatshepsut Version - Eynka",
          "Beyond the Fire - Don Diablo",
          "Big City Life - Luude",
          "Billie (Loving Arms) - Fred again..",
          "Birdz - Wuki",
          "Black Mascara. - RAYE",
          "Body Talk - Ofenbach",
          "Bones - twocolors Remix - Imagine Dragons",
          "Brazilian Phonk Mano - Slowboy",
          "Breaking Apart - Jerro",
          "Breathing - Ben Böhmer",
          "Bright Lights (feat. AR/CO) - Kx5",
          "Broken - AVAION",
          "Broken Lady - VØJ",
          "Burning My Bridges - CLMD",
          "By The End Of The Night - southstar Remix - Ellie Goulding",
          "By Your Side (feat. Tom Grennan) - Calvin Harris",
          "By Your Side (feat. Tom Grennan) - Oliver Heldens Remix - Calvin Harris",
          "CAN'T TOUCH THIS - R3HAB Remix - BIA",
          "CLASH - Edit - The Blaze",
          "COLLAPSE - SHADXWBXRN",
          "COWBELL GOTH - DRAGONMANE",
          "COWBELL WARRIOR! - SXMPRA",
          "CRIME - NORTMIRAGE",
          "Call It Love - Felix Jaehn",
          "Call On Me (feat. Georgia Ku) - Sam Feldt",
          "Can We Be Free - KUURO",
          "Can't Get You out of My Head - Peggy Gou’s Midnight Remix - Kylie Minogue",
          "Can't Help But Think About You - Lincoln Jesser",
          "Can't Tame Her - VIZE Remix - Zara Larsson",
          "Candle Flame - Jungle",
          "Canopée des Cîmes - Jan Blomqvist",
          "Can’t Fight The Feeling - Matroda",
          "Cardboard Box - Happi Remix - FLO",
          "Catch - Jones Meadow",
          "Catching Eyes - 49th & Main",
          "Caught A Body (with Ty Dolla $ign) - Alesso",
          "Chasing Stars (feat. James Bay) - Alesso",
          "Children - Radio Edit - Deborah de Luca",
          "Chill Like That - Sunday Scaries",
          "Chills (LA Hills) - Tiësto",
          "Cimmerian - Lipless",
          "Clap Your Hands - Kungs",
          "Close Eyes - DVRST",
          "Clouds - BUNT.",
          "Cold Heart - PNAU Remix - Elton John",
          "Colourblind - Jess Bays",
          "Coma Cat - Purple Disco Machine Re-Work - Tensnake",
          "Consciousness - Eric Prydz Remix - Anyma",
          "Crazy - PLÜM",
          "Crazy What Love Can Do - David Guetta",
          "Crying On The Dancefloor (feat. Violet Days) - Sam Feldt",
          "Crystals - Isolate.exe",
          "Cynnes - il:lo",
          "DAMN - JOYRYDE",
          "DEMONS IN MY SOUL - SCXR SOUL",
          "DEUS DA GUERRA - $pidxrs?808",
          "DIE LIEBE KOMMT NICHT AUS BERLIN - Brutalismus 3000",
          "DNA - Craig David",
          "DRIVE - MoonDeity",
          "Dance All Over Me - Jax Jones Remix - George Ezra",
          "Dance With Somebody - Sam Feldt",
          "Dance on My Own (feat. Richard Judge) - Frank Walker",
          "Dancing Feet (feat. DNCE) - Kygo",
          "Dancing is Healing - Rudimental",
          "Danielle (Smile on My Face) - Fred again..",
          "Dark Side - Slowed + Reverb - XAN$X",
          "Daybreak - Alice DiMar",
          "Deadly Vice - MUPP",
          "Deep Down (feat. Never Dull) - Alok",
          "Deja Vu - Oliver Heldens",
          "Delilah (Pull Me Out of This) - Fred again..",
          "Delilah (pull me out of this) - Fred again..",
          "Demons - Massane Remix - Jerro",
          "Designer Love - Short Version - MARIA Die RUHE",
          "Devil Eyes - ZODIVK",
          "Dies Irae feat. Black Prez - Apashe",
          "Different Side - Michael Bibi",
          "Disaster - KSLV Noh",
          "Disco Inferno - Syzz",
          "Do It To It - Tiësto Remix - ACRAZE",
          "Do You Feel The Same? - OCULA Remix - Emmit Fenn",
          "Don't Give Up - Latroit",
          "Don't Go Yet - Major Lazer Remix - Camila Cabello",
          "Don't Stop - Biscits",
          "Don’t Wake Me Up - Jonas Blue",
          "Doses & Mimosas (Vintage Culture & Zerky Remix) - Radio Edit - Vintage Culture",
          "Drinks on MI - Minelli",
          "Drive (feat. Wes Nelson) - Topic VIP Remix - Clean Bandit",
          "Drugs From Amsterdam - Mau P",
          "Désenchantée (Oli’s EuroRave Mix) - Oliver Heldens",
          "ECHO OF TERROR - requi3m",
          "ERROR - ROMANTICA",
          "Easy - Nicky Romero",
          "Ecstasy Of Soul - Zeds Dead",
          "Edge of Seventeen - Wuki",
          "El Merengue - Marshmello",
          "Electricity - DubVision",
          "Enjoy Your Life - Romy",
          "Envy - Christian Löffler",
          "Erase - Ben Böhmer",
          "Escape (feat. Hayla) - Kx5",
          "Escape - John Summit Remix - deadmau5",
          "Esta Vida - Marshmello",
          "Eternity - Anyma",
          "Euphoria - Claptone",
          "Everything You Have Done - Meduza Edit - GENESI",
          "Explore Your Future - Anyma",
          "Eyes - TWO LANES",
          "FEELING GUD - NGHTMRE",
          "Fearless - Guapdad 4000",
          "Feel Your Ghost - Tiësto",
          "Feel Your Weight - Poolside Remix - Rhye",
          "Feeling Good - Austin Millz Remix - Nina Simone",
          "Feels - Wh0",
          "Feels Just Like it - LP Giobbi",
          "Feels Like Love (feat. MIYA MIYA) - Syn Cole",
          "Feels This Good - Sigala",
          "Ferrari - James Hype",
          "Ferrari - Oliver Heldens Remix - James Hype",
          "Fever - Lewis Thompson",
          "Fight Back - EBEN",
          "Flare - Hensonn",
          "Follow - Martin Garrix",
          "Follow Me - Sick Individuals Remix - Sam Feldt",
          "Fool 4 U (feat. Enisa) - Galantis",
          "Forever And A Day - Diplo Remix - LP Giobbi",
          "Forever And A Day - LP Giobbi",
          "Forget You (with Gabry Ponte) - LUM!X",
          "Freaky Deaky - R3HAB Remix - Tyga",
          "Free Yourself - Jessie Ware",
          "Friday (feat. Mufasa & Hypeman) - Dopamine Re-Edit - Riton",
          "Friends - Dimitri Vegas",
          "Friends - Emmit Fenn",
          "Fruit&Sun - ford.",
          "Fuck what u heard - The Blessed Madonna",
          "GHOST! - phonk.me",
          "Gassed Up - Zeds Dead",
          "Get Up - Eats Everything",
          "Get Up Off The Floor - FORTELLA",
          "Ghost - Merk & Kremont Remix - Ava Max",
          "Ghost Town - VIZE",
          "Ghostkeeper - Klangkarussell",
          "GigaChad Theme - Phonk House Version - g3ox_em",
          "Gimme That Bounce - Mau P",
          "Give It To Me - Full Vocal Mix - Matt Sassari",
          "Giving Me - Jazzy",
          "God On The Weekend - Ian Asher",
          "Good Feeling (feat. Rhys Lewis) - Bakermat",
          "Good Feeling - Duvall",
          "Good Lies - Overmono",
          "Good Love - Hannah Laing",
          "Good Ones - Joel Corry Remix - Charli XCX",
          "Good Things - MÖWE",
          "Good Time - Jodie Harsh",
          "Goodies - Dillon Francis",
          "Gratitude - Above & Beyond",
          "Green Green Grass - Sam Feldt Remix - George Ezra",
          "Griztronics - GRiZ",
          "Griztronics II (Another Level) - GRiZ",
          "Guddi Riddim - DJ Snake",
          "Gyrate (ft. Wreckno) - Rezz",
          "HIMARS - SCXR SOUL",
          "HOJE EU VOU COMER NOVINHA 02 - DJ AG O GRINGO",
          "HOLD YOU - Angrybaby",
          "HUMBLE. - SKRILLEX REMIX - Skrillex",
          "Hallucination - Navos Remix - Regard",
          "Happy Music - Supershy",
          "Hear Me Say - Jonas Blue",
          "Heartaches - Shallou",
          "Heaven - Dimitri Vegas & Like Mike",
          "Heaven Takes You Home (feat. Connie Constance) - Swedish House Mafia",
          "Here - Shallou",
          "Here We Go Again - Oliver Tree",
          "Here With Me - PEEKABOO",
          "Hero - Alan Walker",
          "Hero - Martin Garrix",
          "Heute Nacht - Maddix",
          "High Heels - Party Down Under - Sam Feldt vs. Flo Rida - Flo Rida",
          "High On You - Lonely in the Rain",
          "High Tide - Shallou",
          "Hiraeth (feat. Kim Van Loo) - Fejká",
          "Hit 'Em Up Style (Oops!) - ESSEL",
          "Hold Me - Lavern",
          "Hold Me Closer - Elton John",
          "Hold Me Closer - Joel Corry Remix - Elton John",
          "Hollow - Dabin",
          "Hopeful - ODESZA",
          "Hot In It - Tiësto",
          "House Of The Rising Sun - Nora Van Elken",
          "How Do I Make You Love Me? - Sebastian Ingrosso & Salvatore Ganacci Remix - The Weeknd",
          "How Do I Say Goodbye - Tiësto Remix - Dean Lewis",
          "How Will I Know - Whitney Houston",
          "Howl - Elderbrook",
          "Hurt - Maikubi",
          "I Can't See - ROW",
          "I Do - PLÜM",
          "I FEEL LIKE DANCING - Hardwell",
          "I Go Dancing (feat. Ella Henderson) - Frank Walker",
          "I Got A Feeling - Felix Jaehn",
          "I Knew It Was You - Tungevaag",
          "I Know - Kanii",
          "I Love It (feat. Charli XCX) - I Don’t Care 2022 Re-Edit - Icona Pop",
          "I Need You - Elderbrook",
          "I Never Really Cared - Stoto",
          "I Wanna Dance with Somebody (Who Loves Me) - David Solomon Remix - Whitney Houston",
          "I Was Made For Lovin' You (feat. Nile Rodgers & House Gospel Choir) - Oliver Heldens",
          "I'm Good (Blue) - David Guetta",
          "IMMACULATE - VISXGE",
          "IMY (feat. Bella Renee) - REAPER",
          "INCOMING - MC ORSEN",
          "If Love Is A Skill - LP Giobbi",
          "If The World Just Danced - MOTi Remix - Diana Ross",
          "If We’ll Ever Be Remembered - Martin Garrix",
          "In Control - Innellea Remix - Forma",
          "In My Zone - Tungevaag",
          "In The Yuma (feat. Aatig) - Chris Lake",
          "Indulgence - Nora En Pure",
          "Infinity - Borgeous",
          "Ininna Tora - Timmy Trumpet",
          "Inner Light - Elderbrook",
          "It's Quiet Now (feat. Dope Earth Alien) - Honey Dijon",
          "I’ll Find My Way To You - Elderbrook",
          "JOY (God Only Knows) - Joy Anonymous",
          "JUDAS - SAY3AM",
          "Jacaré - Sofi Tukker",
          "Journey (Take Me Where You Wanna) - Don Diablo",
          "Joy - salute",
          "Judgement Day - Hardwell",
          "Jungle - Fred again..",
          "Just - Amtrac",
          "Just Over - Yotto",
          "Just Say - Coco & Breezy",
          "KILL DEM - Jamie xx",
          "Kamili - Francis Mercier",
          "Ke Shy - Major Lazer",
          "Keep On Dancing - AVAION",
          "Keraunos - PlayaPhonk",
          "Kernkraft 400 (A Better Day) - Topic",
          "Killing Me - Aluna",
          "LAND OF FIRE - Kordhell",
          "LET'S RIDE! - Drift Phonk - SXMPRA",
          "LILITH - ZODIVK",
          "La Danza - John Summit",
          "Laidback - Memphis Cult",
          "Laserbeam - Ray Volpe",
          "Lavender Haze - Felix Jaehn Remix - Taylor Swift",
          "Lavender Haze - Snakehips Remix - Taylor Swift",
          "Lay Low - Tiësto",
          "Leave Me Low - Devault",
          "Left and Right (feat. Jung Kook of BTS) - Galantis Remix - Charlie Puth",
          "Legit - Erlandsson",
          "Let Me Love U - Baauer",
          "Let Me Take You - CID",
          "Let Somebody Go - Kygo Remix - Coldplay",
          "Let You Do This (with Buy Now) - Salvatore Ganacci",
          "Let You Go - Diplo",
          "Life Is Good - Justin Caruso",
          "Life in Rio - Slowboy",
          "Life on Hold - Nora En Pure",
          "Life's Too Short - Two Friends",
          "Light Of Day - ODESZA",
          "Light Up - nimino",
          "Lightning To Strike - J. Worra",
          "Like Crazy (Deep House Remix) - Jimin",
          "Like I Used To - Sonny Fodera",
          "Like Wooh Wooh - Radio Edit - Rnbstylerz",
          "Like Wooh Wooh - Rnbstylerz",
          "Like You Do - D.O.D",
          "Live Another Day - Kordhell",
          "Long Summer Nights - Oliver Nelson",
          "Lose Control - 220 KID",
          "Lose Control - James Hype",
          "Lose My Mind - Jamie Jones",
          "Lose You - Felix Jaehn Remix - Sam Smith",
          "Lost - Le Youth",
          "Lost In Space - Emmit Fenn",
          "Lost My Mind (Wake Up) - BUNT.",
          "Love Again - Imanbek Remix - Dua Lipa",
          "Love Like We're Dying - Scorz",
          "Love You Back - Madeon",
          "Loved By U - TOKiMONSTA",
          "Loving You (feat. Katy Alex) - Piero Pirupa",
          "MAMI - Chris Lorenzo",
          "ME WITHOUT U - Kaleena Zanders",
          "MEGAZORD - GRiZ",
          "METAMORPHOSIS - INTERWORLD",
          "METAMORPHOSIS 3 - INTERWORLD",
          "MIDNIGHT - PLAYAMANE",
          "MONEY ON THE DASH - Elley Duhé",
          "MONTAGEM - MELODIA ENVOLVENTE 4 - DJ Dudah",
          "MOZART PHONK - NUEKI",
          "MTG - REBOLA NO MEU C4RALHO - DJ LA BEAT",
          "MURDER PLOT - Kordhell",
          "Made You Look - Joel Corry Remix - Meghan Trainor",
          "Make Me - Borai & Denham Audio",
          "Make Me Feel - The Chainsmokers",
          "Make Me Feel Good - Belters Only",
          "Manila Palm - Parra for Cuva",
          "Maria Maria - TECH IT DEEP",
          "Marianela (Que Pasa) - HUGEL",
          "Matter of Time - Vandelux",
          "Medicine - Lucas Estrada",
          "Memories (feat. Kid Cudi) - 2021 Remix - David Guetta",
          "Mercy - Jauz",
          "Message In A Bottle (Fat Max G Remix) (Taylor’s Version) - Taylor Swift",
          "Mexico - Dimitri Vegas & Like Mike",
          "Midnight Rapture - Anabel Englund",
          "Million Dollar Baby - Nathan Dawe Remix - Ava Max",
          "Mine To Love - Ross Quinn",
          "Miracle (with Ellie Goulding) - Calvin Harris",
          "Miracle Maker - Dom Dolla",
          "Misbehave - Ship Wrek",
          "Miss You - Oliver Tree",
          "Mom's Here - TTM",
          "More Love - Noizu",
          "More Than A Woman - SG's Paradise Edit - Bee Gees",
          "More Than I Can Say - GAMPER & DADONI",
          "Moth To A Flame (feat. The Weeknd) - Adriatique Remix - Swedish House Mafia",
          "Motion - Vandelux",
          "Move Your Body - Öwnboss",
          "Murder In My Mind - Kordhell",
          "My Feelings For You - Don Diablo Remix - Avicii",
          "My Feelings For You - Mark Knight Remix - Avicii",
          "My Head & My Heart - Claptone Remix - Ava Max",
          "My Universe - Galantis Remix - Coldplay",
          "NEON BLADE - MoonDeity",
          "Name Drop - Excision",
          "Need Somebody - Jerro",
          "Need You There - M-22",
          "Never Ending - Bob Moses",
          "Never Going Home - Kungs",
          "Never Gonna Not Dance Again - Sam Feldt Remix - P!nk",
          "New Bottega - Torren Foot",
          "New Fires - Christian Löffler",
          "New Gold (feat. Tame Impala and Bootie Brown) - Dom Dolla Remix - Gorillaz",
          "Next To You (feat. Kane Brown) - Loud Luxury",
          "Night Feels - AR/CO",
          "Night Ride - FindMyName",
          "No Fun - Lane 8",
          "North Memphis - Pharmacist",
          "Numb - Alok Remix - Marshmello",
          "Numb - Marshmello",
          "OUT OUT (feat. Charli XCX & Saweetie) - Joel Corry",
          "Obsolete - Sullivan King Remix - Of Mice & Men",
          "Oceanside Girl - Holo",
          "Off The Ground - Sub Focus",
          "Oh, Miles - Lane 8",
          "Old School - Marshmello",
          "On & On - Armin van Buuren",
          "On Repeat - Robin Schulz",
          "One Last Dance - Audien",
          "One Three Nine - Zeds Dead",
          "Ordel - Parra for Cuva",
          "Original Sin - Felix Jaehn Remix - Sofi Tukker",
          "Original Sin - Sofi Tukker",
          "Other Side - ILLENIUM",
          "Out of Time - KAYTRANADA Remix - The Weeknd",
          "Over You - Dillistone",
          "Override - KSLV Noh",
          "Own Paradise - LXAES",
          "PHONK (200mg) - DEHA INC.",
          "PHONKGASKAR - Rushex",
          "POOR - gqtis",
          "PRINCE OF DARKNESS - SHADXWBXRN",
          "PSYCHO CRUISE - ONIMXRU",
          "Paradox - Lipless",
          "People Ain't Dancing (feat. Kah-Lo) - Billen Ted",
          "Pepas - Farruko",
          "Phonk Drift - VØJ",
          "Phonky Town - PlayaPhonk",
          "Phonky Tribu - Funk Tribu",
          "Players (with David Guetta) - David Guetta Remix - Coi Leray",
          "Players - DJ Smallz 732 - Jersey Club Remix - Coi Leray",
          "Point Of No Return - Adam Port",
          "Poltergeist - RAIZHELL",
          "Praising You (feat. Fatboy Slim) - Rita Ora",
          "Pretty People (feat. INJI) - Dillon Francis",
          "Pump It Louder - Tiësto",
          "Pump It Up - Endor",
          "Push To Start (feat. No/Me) - Noizu",
          "Push Up - Original Mix - Creeds",
          "Puzzle Box - Rezz",
          "Pyramids - Otto Knows",
          "Quiver - SILK",
          "RAPTURE - INTERWORLD",
          "RATATA - Skrillex",
          "RAVE - Dxrk ダーク",
          "REACT - Switch Disco",
          "RITMADINHA DANÇANTE - DJ GUDOG",
          "Rainfall (Praise You) - Tom Santa",
          "Rasputin - Majestic",
          "Raye - Sultan + Shepard",
          "Ready To Fly - Sub Focus & Dimension - Sub Focus",
          "Reaper (feat. JID) - Boombox Cartel",
          "Rebirth - Tinlicker",
          "Red Lights - EMBRZ Remix - Lane 8",
          "Redlight - Swedish House Mafia",
          "Relax My Eyes - ANOTR",
          "Relight My Love - Matisse & Sadko",
          "Rely On Me - Sigala",
          "Remember (feat. Stevie Appleton) - Sonny Fodera",
          "Remember - Becky Hill",
          "Remember - King Henry",
          "Revolution - Hardwell",
          "Rewind.. (But I Love You) - WHIPPED CREAM",
          "Rhyme Dust - MK",
          "Rhythm (Of The Night) - Something Good",
          "Rise (Sam Feldt Remix) - Calum Scott",
          "Risk It All - Ella Henderson",
          "Ritmo - Raffa Fl",
          "Rock My Body - R3HAB",
          "Rolling Back - TWO LANES",
          "Ronda - Christian Löffler",
          "Rumble - Skrillex",
          "Run - Becky Hill",
          "Run - NORRA",
          "Running up That Hill - Dayne S",
          "SHADOW - ONIMXRU",
          "SHOOTERS - FORGOTTENAGE",
          "SLAUGHTER HOUSE - Phonkha",
          "SMOKE IT OFF! - Lumi Athena",
          "STARFALL - MoonDeity",
          "SUCCUMB - Dxrk ダーク",
          "SUICIDE YEAR - WEEDMANE",
          "SUNRISE (Slowed + Reverb) - Xantesha",
          "Sacrifice (Remix) (feat. Swedish House Mafia) - The Weeknd",
          "Sacrifice - Kaskade",
          "Sacrificial - Rezz",
          "Safe - Joris Voorn Remix - Monkey Safari",
          "Sahara - Hensonn",
          "Salta - Sultan + Shepard",
          "Satisfaction - David Guetta",
          "Saved My Life (with R3HAB) [R3HAB VIP Remix] - Andy Grammer",
          "Say It To Me - Otto Knows",
          "Say Say Say (feat. Paul McCartney & Michael Jackson) - Kygo",
          "Scary Garry - Kaito Shoma",
          "Scopin - Kordhell",
          "Sea Of Problems - glichery",
          "Seasons - Arinity",
          "See In Color - Wax Motif",
          "See You - Shallou",
          "Selfish Soul - ODESZA Remix - Sudan Archives",
          "Serotonin Moonbeams - The Blessed Madonna",
          "Set Me Free - D.O.D",
          "Set You Free - Lucas & Steve",
          "Sete - BLOND:ISH",
          "Shackles (Praise You) - MALARKEY",
          "Shades Of Love (feat. The Joy) - The Blessed Madonna",
          "Shadow - Syn Cole",
          "Shit We Do For Love - Icona Pop",
          "Shivers (Dillon Francis Remix) [Main Mix] - Ed Sheeran",
          "Side Effects - Becky Hill",
          "Sinnerman - Sofi Tukker Remix - Nina Simone",
          "Slapper - Fast & Furious: Drift Tape/Phonk Vol 1 - DVRST",
          "Smack Yo' - Beltran",
          "Somebody To Love - MARF",
          "Something About - CRi",
          "Something About Your Love - SG Lewis",
          "Something Was Real - Eli & Fur",
          "Sometimes… (with Daya & Earthgang) - Snakehips",
          "Sorry (with Madonna) - BLOND:ISH",
          "Speakerbox (feat. Lafa Taylor) - Bassnectar",
          "Spirits Pt. 2 - Party Favor",
          "Spring Embers - Nora En Pure",
          "Stargazing - Monocule",
          "Starlight (Keep Me Afloat) - Martin Garrix",
          "Stay With Me (with Justin Timberlake, Halsey, & Pharrell) - Calvin Harris",
          "Stay the Night - Sigala",
          "Steal My Clothes (ft. Bea Miller) – LP Giobbi Remix - Kito",
          "Step Back! - 1nonly",
          "Stop This Flame - Celeste x MK - Celeste",
          "Strong - Romy",
          "Substitution - Purple Disco Machine",
          "Suenos Bravos - Bodysync",
          "Suffer In Silence - Rezz",
          "Sugar (feat. Soaky Siren) - Riton",
          "Summer In New York - Sofi Tukker",
          "Summertime - Imanbek Remix - Lana Del Rey",
          "Sun Will Shine - Robin Schulz",
          "Sunrays - AK",
          "Sunrise Bang Ur Head Against Tha Wall - Nia Archives",
          "Sunroof - Loud Luxury Remix - Nicky Youre",
          "Sunshine - MOTi Remix - OneRepublic",
          "Survive - Lane 8",
          "Swaggin' at the Partment - Ghostface Playa",
          "Sweet Caroline - Dimitri Vegas & Like Mike",
          "Sweet Nothings (feat. Minke) - Holiday87",
          "Sweetest Pie - David Guetta Dance Remix - Megan Thee Stallion",
          "THE ONE - INJI",
          "TOKYO DRIFT - PRXSXNT FXTURE",
          "TOTALITARIANISM II - STAYSOLD",
          "TRUSTFALL - Drove Remix - P!nk",
          "TUTUTUTU - NUEKI",
          "Take Me Away - ACRAZE",
          "Take Me Home - Maikubi",
          "Take Me To The Sunshine (feat. BullySongs) - Matoma",
          "Tal - pølaroit",
          "Talk It Over - Elderbrook",
          "Tears - Tim Green",
          "Tell It To My Heart (feat. Hozier) - Tiësto Remix - MEDUZA",
          "Tell Me Something Good - Ewan McVicar",
          "Tell Me Why - MEDUZA Remix - Supermode",
          "Temptation - Bakermat",
          "The Best Part - gardenstate",
          "The Best Part of Life (Imanbek Remix) - SAINt JHN",
          "The Calling - Tchami",
          "The Chase - Emmit Fenn",
          "The Drop - Dimitri Vegas",
          "The Fall - The Chainsmokers",
          "The Funk - TIEKS",
          "The Hard Way - PNAU",
          "The Last Goodbye - ODESZA",
          "The Motto - Tiësto",
          "The Music Began To Play - Mark Knight",
          "The Observer - Kasper Koman",
          "The Sign - CamelPhat",
          "The Way We Were (feat. Plested) - Kygo",
          "There For You - Y.V.E. 48",
          "These Are The Days (feat. Liv Dawson) - Anton Powers",
          "These Nights - Loud Luxury",
          "These Things Will Come To Be - DJ Seinfeld",
          "This Is The Sound - Riva Starr",
          "Those Eyes - ARTY",
          "Thunder - Gabry Ponte",
          "Thunder - Lucas Estrada",
          "Time to Groove (feat. Nonô) - Majestic",
          "Tina - Vintage Culture",
          "Titanium (feat. Sia) - David Guetta & MORTEN Future Rave Remix - David Guetta",
          "Togetherness - LP Giobbi",
          "Transmission - Joris Voorn Remix - Eelke Kleijn",
          "Trials - NGHTMRE",
          "Trompeta - San Pacho",
          "Turn Back Time - Marc Benjamin",
          "Turn On The Lights again.. (feat. Future) - Anyma Remix - Fred again..",
          "Turn On The Lights again.. (feat. Future) - Fred again..",
          "Turning Away - Parra for Cuva Remix - Monolink",
          "Twilight - GRAVECHILL",
          "Twin Flame - KAYTRANADA",
          "U Ok? - PARISI",
          "Unholy (feat. Kim Petras) - Disclosure Remix - Sam Smith",
          "Unstoppable - R3HAB Remix - Sia",
          "Until We Leave the Ground - Steve James Remix - Emmit Fenn",
          "Upside Down (feat. Poppy Baskcomb) - MEDUZA",
          "V I B R A T I O N - Kaleena Zanders",
          "VAI DJ NPC SOCA COM VONTADE / MACHUCA MACHUCA - DJ NpcSize",
          "VUK VUK - Kordhell",
          "Voodoo - Gorgon City",
          "Voodoo - Tinlicker",
          "WAKE UP! - MoonDeity",
          "WORTH NOTHING (feat. Oliver Tree) - Fast & Furious: Drift Tape/Phonk Vol 1 - TWISTED",
          "Wait For It - salute",
          "Wake Up! (feat. Kaleta) - Purple Disco Machine",
          "Waterfall - Disclosure",
          "We Are The People - southstar Remix - Empire of the Sun",
          "We Will Meet Again - San Holo",
          "Weekends - Jonas Blue",
          "What A Life (feat. Stevie Appleton) - John Summit",
          "What It Feels Like - Navos",
          "What You Say? - Young Marco",
          "When I'm Gone (with Katy Perry) [VIP Mix] - Alesso",
          "When I’m Gone (with Katy Perry) - Alesso",
          "Where Are You Now - Lost Frequencies",
          "Where Did You Go? (feat. MNEK) - Jax Jones",
          "Where You Are - John Summit",
          "Where did you go - AVAION",
          "Whistle (feat. Calum Scott) - Jax Jones",
          "Who Do You Love - ARTY",
          "Why - Bobby Love",
          "Why Not - Ghostface Playa",
          "Wings (I Won't Let You Down) - Armand Van Helden",
          "Wish I Could Forget (with blackbear & Bring Me The Horizon) - SLANDER",
          "With My Friends - Tungevaag",
          "Woke Up in Love - Kygo",
          "Woman - Lane 8",
          "Won't Forget You (Edit) - Shouse",
          "Words (feat. Zara Larsson) - Alesso",
          "Work With My Love - Alok",
          "World Hold On - FISHER Rework - Bob Sinclar",
          "Wounded - Ferry Corsten",
          "Wrong or Right (The Riddle) - Bassjackers",
          "Yahyuppiyah (feat. Pcee, EeQue & Chley) - Uncle Waffles",
          "Yeah The Girls - FISHER",
          "You Know What I Need - PNAU",
          "You Make Me Feel - Solardo",
          "You Only Love Me - Shift K3Y Remix - Rita Ora",
          "You're Free - Icona Pop",
          "You've Got To Let Go If You Want To Be Free - Disclosure",
          "Young Right Now - Robin Schulz",
          "Your Love Keeps Lifting Me Higher - Revival",
          "Your Mind - CamelPhat",
          "classical phonk - 0to8",
          "dashstar* - Yellow Claw Trap Edit - Knock2",
          "dropitlikeitshot! - Sadfriendd",
          "edamame (feat. Rich Brian) - Diplo Remix - bbno$",
          "go - goddard. Remix - Cat Burns",
          "golden hour - R3HAB Remix - JVKE",
          "gutter - venbee",
          "help urself - HXI",
          "messy in heaven - venbee",
          "mine (Ty Sunderland Remix) - Kelly Clarkson",
          "on & on - piri",
          "vendetta! - MUPP",
          "what would you do? - Galantis Remix - Tate McRae",
          "|BONKERS| - staplegun"
         ],
         "legendgroup": "",
         "marker": {
          "color": [
           0,
           0,
           3,
           0,
           0,
           0,
           3,
           0,
           0,
           3,
           1,
           0,
           3,
           3,
           0,
           3,
           3,
           3,
           1,
           4,
           0,
           0,
           1,
           4,
           3,
           0,
           2,
           1,
           3,
           3,
           4,
           0,
           2,
           0,
           0,
           4,
           2,
           1,
           1,
           1,
           3,
           4,
           0,
           3,
           3,
           1,
           0,
           3,
           3,
           0,
           3,
           1,
           1,
           0,
           3,
           3,
           3,
           1,
           3,
           1,
           0,
           0,
           1,
           3,
           3,
           2,
           3,
           0,
           0,
           3,
           4,
           1,
           2,
           4,
           2,
           3,
           0,
           3,
           1,
           0,
           0,
           1,
           4,
           4,
           0,
           1,
           1,
           0,
           0,
           0,
           0,
           3,
           1,
           0,
           0,
           0,
           4,
           0,
           0,
           0,
           0,
           0,
           1,
           0,
           4,
           0,
           3,
           4,
           1,
           3,
           0,
           2,
           1,
           3,
           2,
           3,
           2,
           4,
           3,
           0,
           1,
           4,
           0,
           0,
           0,
           4,
           2,
           0,
           2,
           0,
           4,
           0,
           3,
           0,
           1,
           0,
           3,
           0,
           0,
           2,
           2,
           4,
           3,
           0,
           0,
           0,
           1,
           4,
           2,
           0,
           0,
           1,
           0,
           3,
           2,
           1,
           0,
           1,
           0,
           0,
           0,
           0,
           1,
           3,
           1,
           1,
           3,
           0,
           1,
           0,
           1,
           3,
           2,
           2,
           0,
           0,
           0,
           4,
           4,
           3,
           4,
           4,
           0,
           0,
           3,
           4,
           3,
           4,
           1,
           3,
           0,
           3,
           3,
           0,
           3,
           2,
           0,
           0,
           0,
           4,
           0,
           3,
           3,
           3,
           3,
           0,
           1,
           2,
           1,
           1,
           0,
           1,
           1,
           0,
           3,
           4,
           4,
           4,
           3,
           0,
           0,
           0,
           0,
           4,
           3,
           0,
           3,
           3,
           0,
           0,
           0,
           0,
           3,
           4,
           1,
           3,
           1,
           3,
           0,
           0,
           0,
           0,
           0,
           0,
           3,
           1,
           0,
           1,
           1,
           0,
           4,
           0,
           1,
           4,
           2,
           3,
           4,
           3,
           3,
           3,
           2,
           0,
           0,
           4,
           0,
           0,
           1,
           3,
           0,
           2,
           4,
           3,
           3,
           3,
           0,
           0,
           1,
           2,
           0,
           0,
           0,
           0,
           0,
           2,
           1,
           3,
           0,
           2,
           3,
           1,
           2,
           3,
           1,
           1,
           0,
           4,
           3,
           1,
           0,
           0,
           0,
           2,
           1,
           2,
           4,
           1,
           1,
           1,
           1,
           1,
           4,
           0,
           0,
           0,
           1,
           2,
           1,
           4,
           3,
           0,
           0,
           3,
           0,
           3,
           0,
           1,
           0,
           3,
           1,
           0,
           1,
           3,
           1,
           3,
           4,
           2,
           3,
           0,
           0,
           1,
           4,
           0,
           1,
           0,
           0,
           0,
           0,
           0,
           1,
           2,
           4,
           0,
           3,
           0,
           3,
           3,
           3,
           3,
           0,
           4,
           3,
           1,
           0,
           0,
           2,
           3,
           3,
           0,
           0,
           2,
           0,
           2,
           3,
           3,
           1,
           0,
           1,
           0,
           3,
           0,
           0,
           3,
           0,
           0,
           0,
           0,
           0,
           2,
           0,
           0,
           0,
           1,
           0,
           3,
           0,
           1,
           0,
           0,
           0,
           1,
           3,
           4,
           3,
           3,
           3,
           0,
           3,
           4,
           1,
           0,
           0,
           1,
           0,
           2,
           1,
           3,
           0,
           0,
           2,
           3,
           2,
           2,
           3,
           3,
           1,
           4,
           2,
           0,
           0,
           3,
           3,
           2,
           1,
           1,
           0,
           0,
           2,
           4,
           1,
           4,
           0,
           0,
           4,
           2,
           4,
           3,
           3,
           2,
           1,
           0,
           3,
           0,
           3,
           3,
           4,
           2,
           0,
           1,
           2,
           0,
           4,
           0,
           2,
           0,
           0,
           1,
           4,
           3,
           1,
           2,
           1,
           3,
           0,
           0,
           0,
           0,
           4,
           4,
           4,
           3,
           4,
           0,
           0,
           0,
           3,
           4,
           2,
           1,
           3,
           4,
           4,
           0,
           3,
           0,
           0,
           4,
           1,
           0,
           4,
           0,
           0,
           0,
           2,
           2,
           4,
           0,
           0,
           3,
           0,
           4,
           0,
           4,
           4,
           0,
           0,
           0,
           0,
           0,
           1,
           0,
           3,
           0,
           3,
           0,
           3,
           1,
           0,
           4,
           1,
           0,
           3,
           0,
           4,
           0,
           1,
           0,
           3,
           4,
           1,
           0,
           0,
           0,
           0,
           3,
           0,
           1,
           3,
           1,
           2,
           3,
           0,
           3,
           0,
           2,
           2,
           0,
           0,
           2,
           2,
           0,
           1,
           0,
           1,
           1,
           2,
           1,
           4,
           4,
           0,
           0,
           4,
           1,
           2,
           0,
           4,
           4,
           3,
           1,
           3,
           1,
           4,
           3,
           3,
           0,
           3,
           0,
           0,
           1,
           4,
           4,
           1,
           4,
           0,
           3,
           2,
           0,
           0,
           3,
           0,
           0,
           1,
           4,
           0,
           2,
           3,
           2,
           0,
           4,
           1,
           4,
           1,
           0,
           1,
           3,
           0,
           3,
           2,
           0,
           3,
           0,
           4,
           2,
           1,
           3,
           3,
           0,
           0,
           0,
           3,
           0,
           1,
           0,
           0,
           0,
           3,
           1,
           0,
           0,
           3,
           0,
           0,
           2,
           1,
           3,
           3,
           0,
           3,
           4,
           0,
           0,
           0,
           3,
           0,
           0,
           3,
           1,
           0,
           0,
           0,
           3,
           0,
           0,
           0,
           2,
           4,
           1,
           3,
           3,
           1,
           3,
           0,
           4,
           0,
           0,
           0,
           3,
           0,
           1
          ],
          "coloraxis": "coloraxis",
          "symbol": "circle"
         },
         "mode": "markers",
         "name": "",
         "scene": "scene",
         "showlegend": false,
         "type": "scatter3d",
         "x": [
          -2.1582676813488266,
          -3.5685493998679565,
          -3.043406918013281,
          -3.9149890336167066,
          -0.9811212633345654,
          -4.007057301609483,
          -4.056816741019377,
          -2.920042781624965,
          -4.143051534982774,
          -2.165392185188321,
          1.9183243910296817,
          -3.5439717956676278,
          -4.565279649560904,
          -3.705319382581685,
          -1.6825838029944293,
          -4.651825509451594,
          -3.8348775271277735,
          -1.8141608883769367,
          1.6687051003058957,
          7.529519578832445,
          -1.8254566428456436,
          -2.208864423061794,
          1.5335844435100374,
          5.354581999704013,
          -2.662376181658839,
          -2.132752176213648,
          9.204403346094951,
          0.539198862497902,
          -3.646883901266187,
          -1.4330995983229946,
          7.0207162406086825,
          -2.601198151464051,
          6.3911129094478,
          -2.5733721748150176,
          -2.352769175851035,
          6.960349123884461,
          9.043692125633193,
          1.6684659531664325,
          1.1568859818604849,
          2.206827163443008,
          -4.736829946968444,
          5.9208550630290375,
          -1.8039500055142064,
          -4.730172811541573,
          -1.8122144186929587,
          2.016223193723488,
          -2.491268916080515,
          -1.8315612854301824,
          -2.1878523670935905,
          -3.3962452700117285,
          -2.6441021943213863,
          3.2722284432127706,
          2.320506625807665,
          -1.7838800060542814,
          -3.993920503352373,
          -2.3338362090785534,
          -3.0882169756726756,
          0.4731586796683972,
          -1.2139209080151439,
          0.6925329735182921,
          -2.196184867719883,
          -1.2833424663078394,
          2.4049589726713156,
          -3.00057515694562,
          -3.3009416223061883,
          6.83836712715609,
          -3.540696479642282,
          -3.035721712034971,
          -3.949347259617582,
          -3.1206447722091775,
          4.791192613260123,
          2.447057178417978,
          10.04069697698919,
          6.1785022173579485,
          10.276745227070709,
          -2.721043940332975,
          -2.2492344233244195,
          -2.6639926648320484,
          -0.17204350610245456,
          -3.095258051624695,
          -2.0588698135312113,
          -0.4797543631368385,
          5.569142174971387,
          5.745089244890276,
          -2.157356305058753,
          1.391174461005181,
          1.3605394306257754,
          -1.8664946966722904,
          -0.9909016702285184,
          -4.300620497568538,
          -1.7651332288953656,
          -4.182994609019356,
          0.0003292899329968846,
          0.11245276658360709,
          -1.474830151329442,
          -4.6376424063975366,
          7.218671862685846,
          -4.111044710443283,
          -2.7723765280190182,
          -1.750021067756513,
          -1.5782478682840981,
          -0.17421274739086687,
          -0.6127915216551076,
          -2.5447103547315875,
          6.099518948087876,
          -3.4531749789654755,
          -2.9796647727101004,
          6.052523853486776,
          1.2309931858429313,
          -3.015227410527261,
          -1.5889593679571778,
          6.002762898530851,
          2.589087315619799,
          -3.274996575724122,
          7.688774249321435,
          -4.9072205606612265,
          5.869284373032844,
          6.629550870418061,
          -5.135119654314272,
          -2.6781746242050404,
          2.8353558857876653,
          5.429820364538247,
          -0.8358578696346008,
          -2.927691429768637,
          -1.6750911709622,
          6.2646532706734295,
          7.245094849637954,
          -3.432654417169017,
          5.722633072199379,
          -1.0842209112797663,
          4.576530097016476,
          -3.2007727098635437,
          -3.0864201008490246,
          -2.042396884790046,
          -0.9493483225748904,
          -1.9995048374423885,
          -3.187957862675522,
          -2.148670693213658,
          -2.260940619730739,
          5.476111090409869,
          6.247485777847244,
          6.913660182363517,
          -5.299861387193858,
          -0.998980062397695,
          -2.4574379574548977,
          -2.480848978640365,
          0.666248830249796,
          7.85705224502183,
          5.182719622541825,
          -2.1954706155144152,
          -1.3416911160240783,
          0.12761250032580496,
          -2.858483207622757,
          -2.3602506453145513,
          7.392986370605722,
          3.21234394294517,
          -2.189496316238288,
          -0.0679870465978993,
          -1.4015842074156337,
          -2.937547169200532,
          -2.480378401809376,
          -2.0092962273040156,
          2.8338996490101427,
          -2.148560087806609,
          -0.649833109045957,
          2.2617184749848627,
          -3.6571143537630397,
          -0.8094192188016447,
          2.185672214146399,
          -3.5442637841238605,
          1.3437419856832853,
          -4.7284758539325304,
          9.81349342712469,
          6.265874757549127,
          -0.9191023486602077,
          -0.4214779593488076,
          -2.478316912359797,
          5.968977909190464,
          6.6658824050582375,
          -1.639792858265912,
          4.539087371794774,
          7.824276584653759,
          -2.6096806852769836,
          -4.321867451353182,
          -3.2577869584786727,
          6.254875372581436,
          -2.6104490429761125,
          4.3764555215550764,
          1.078186744534343,
          -3.737191550992348,
          -3.8841650849883216,
          -3.9536078185731682,
          -1.8711970386713503,
          -2.727549320938807,
          -2.3056434320570376,
          6.934987187903198,
          1.1389106391373949,
          -1.7524244935384194,
          -1.5128340375516514,
          4.941221244240329,
          -0.6748483733548963,
          -1.597255850772314,
          -2.2923758318385286,
          -4.423248871052044,
          -5.0988222323671515,
          -4.077372690494347,
          0.11874897879992063,
          9.108370124618881,
          2.4245080852569285,
          0.3154140522311244,
          -2.581852674708421,
          3.1157516640163583,
          3.197220082080812,
          -2.1676574085322216,
          -2.79752667524958,
          5.756029349677853,
          6.1838094011938995,
          6.328600108701786,
          -4.825223574788861,
          -1.5043854621770194,
          -1.8820674409399625,
          -3.345255685759768,
          -2.4154656899711755,
          5.2602591727661645,
          -2.4498649638918706,
          -2.5007983256507,
          -2.9326314932751933,
          -5.171767098198231,
          -3.773868743939027,
          -0.35012249505633997,
          -3.8123732361815326,
          -2.7008657215920526,
          -4.325053255682069,
          5.772250386479057,
          2.7327872491079077,
          -3.048171570293054,
          0.6634892049926137,
          -0.8279187756947488,
          -4.557618947868808,
          -2.502659053610639,
          0.310690918421203,
          -3.045629388017034,
          -0.7335920359924082,
          -2.965160927391483,
          -1.586490617464613,
          2.9704818338942385,
          -2.5785347497937634,
          0.8525182442069048,
          -0.9723552846157497,
          -0.786283156714495,
          3.693658656939416,
          -4.063181645309832,
          2.7782594111482113,
          4.2426164747326265,
          8.010226270150765,
          -3.4836669464357684,
          7.000570318463182,
          -3.422609065168828,
          -2.0118143481260633,
          -3.139382740071969,
          5.515128112007459,
          -3.9179754403196805,
          0.7021218811405578,
          3.462651489625265,
          -0.7139134345498228,
          -2.9936848898212842,
          -0.9071587643551621,
          -3.211565437356472,
          -1.9795778076928734,
          6.108582598872767,
          5.621017990192111,
          -2.19747971250033,
          -2.901969279819892,
          -2.4241420078126303,
          0.5573998274061769,
          -3.535662265969764,
          1.9649743210219377,
          10.753167613339073,
          -1.6278817992595194,
          -3.5765996612429314,
          -3.0214974827525922,
          -1.6471333207874532,
          -2.406091877421257,
          4.679843954869071,
          1.593636503511684,
          -1.7764117746098282,
          -1.4259715786806184,
          5.944711011608149,
          -2.544612407858998,
          1.9397966209273307,
          7.794707856732488,
          -1.7386909261032557,
          2.508582716078946,
          -0.9369528672818519,
          -2.0706338608774653,
          5.333798438556547,
          -3.406233200882058,
          1.6608814687333426,
          -3.304465704192101,
          -1.7090574125031326,
          -3.6527028548248817,
          5.575131250045967,
          1.01284144644698,
          6.613553249799436,
          5.943131911691443,
          -1.4354571346157874,
          0.2969274852885753,
          0.18821113212307472,
          -0.5781029294376782,
          0.5216435619455845,
          6.218750255868766,
          -1.502683474325042,
          -2.3120696514560946,
          -2.792762503388759,
          0.5220466028801317,
          4.61824714964091,
          2.6693311762511396,
          5.81132990924463,
          -1.5810558856912207,
          -2.923393030600255,
          -1.8270236993974989,
          -3.6117533243143884,
          0.9163902852660657,
          -3.514598774319563,
          -0.8902982976423737,
          2.4805398414153306,
          -3.9709573080042997,
          -1.6054942699379973,
          0.1514137054540244,
          -2.412018496267625,
          -0.816181441184844,
          -2.48795715642206,
          3.614047566090411,
          -2.56920125083474,
          6.60368136043422,
          11.341854688307356,
          -2.941042709083449,
          -2.792515409958404,
          -2.743514629736863,
          3.2593951574873827,
          4.860878704579221,
          -2.4587417631799164,
          3.5272744466967807,
          -1.7558858122760703,
          -2.7379809254115037,
          -1.5717080398812433,
          -2.334387652202662,
          -2.4344758794841925,
          2.587840870195225,
          4.300713368773728,
          6.1157043113441985,
          -3.677107179883553,
          -0.7592877796240491,
          -0.5067853005030764,
          -2.0994838009801557,
          -3.92193038774059,
          -3.4607885106456173,
          -4.434378613124139,
          -2.290843421494606,
          8.105596472171442,
          -3.5454157306823264,
          0.36643488004859187,
          -1.6419404824591228,
          -1.1744695163171759,
          4.234181663259713,
          -1.8740534054924711,
          -4.869396890690847,
          -1.5153056667345388,
          -3.4476833085272274,
          4.477075365884609,
          -2.145332799241454,
          7.502535803736431,
          -2.6407272249624896,
          -4.10679462797138,
          1.6412766793774445,
          -0.5903570283235475,
          -0.20913676370736523,
          -4.159596698821491,
          -2.257786809326872,
          -2.0691139171172517,
          -1.3430255159327895,
          -3.4731280551779435,
          0.02775633720255488,
          -1.826027793390712,
          0.8511272135729409,
          -1.5443208343556998,
          -1.7072465113356154,
          6.730276055770662,
          -1.671669910101494,
          0.1005531565812739,
          -2.075286129754158,
          2.1434306101856078,
          -0.9957860064866498,
          -2.6950043468622646,
          -3.8503418816480712,
          -1.1501852683860518,
          -3.7498981894986487,
          -2.856691501384412,
          -3.16324777383228,
          3.342140563785037,
          -2.846546069598274,
          5.941476896717231,
          -1.6971317505403893,
          -1.1502470715109534,
          -4.650991450978887,
          -2.2148832979438913,
          -3.8028204137746737,
          4.665553077285585,
          -0.15897944891094584,
          -2.7879188121084337,
          -1.7222960496276385,
          1.4623871885804027,
          -1.0597705183393573,
          2.417595383309715,
          -1.5260405370176255,
          -4.000715675325342,
          -3.9300332757649077,
          -2.211722843145437,
          4.545113886792878,
          -0.5573697684496117,
          6.995488139288542,
          5.222526262537363,
          -3.80539214792431,
          -2.0173349754789647,
          -0.9603696891148231,
          5.188005312981383,
          9.928240301319644,
          -2.168127342787275,
          -1.1150270973546792,
          -1.457902688014983,
          -2.4203270368918166,
          5.8935015851692505,
          0.49199889685920195,
          2.064692491064129,
          -4.486351352957412,
          -3.45322592482853,
          5.189764238697135,
          4.879763894842819,
          3.84879401724364,
          6.291238365043432,
          -3.4338706920510207,
          -2.658235305227315,
          5.007798158196956,
          4.836545852036713,
          4.907102730702573,
          -3.369920758418564,
          -3.247925771255236,
          6.865925727881336,
          -0.21275278800774564,
          -3.183415643402034,
          -2.8437598117194356,
          -4.2893526914641935,
          -3.6573581449726715,
          -1.584227918428819,
          4.328811350170847,
          6.889167630700405,
          -0.7297039206115896,
          3.155353036174403,
          5.134584256026381,
          -2.36423561295748,
          6.108978939346897,
          -2.8163577352127387,
          3.9215169737614834,
          -2.956110610139198,
          -4.1382087404865535,
          1.2180131333258717,
          3.1352962903630384,
          -2.4565765427997546,
          0.8214432192932183,
          6.743756670317648,
          -0.14958312526674145,
          -2.5687690235708036,
          -0.5740146984318822,
          -3.5171841753110913,
          -2.0377719117978264,
          -2.384391078418697,
          6.1412938971233215,
          5.137939714624993,
          6.7206287916616745,
          -3.022048546986933,
          5.093422898444635,
          -1.7203333141931367,
          -1.8654709254103825,
          -3.733258890283948,
          -3.221242674635095,
          6.065359387138432,
          10.408311072556092,
          0.313402627613673,
          -3.6999467155477577,
          8.198144947811818,
          7.076878917654932,
          -0.4437427924382069,
          -3.1059962720796226,
          -3.2563247143559737,
          -1.8049694884151428,
          6.636825453176488,
          -0.06432419609362316,
          -2.512223728650673,
          5.82285595467039,
          -2.796718016485957,
          -1.8595317856849771,
          -0.7913450332407553,
          4.178978410049483,
          6.56979155233984,
          8.209497676528661,
          -1.2469889080272847,
          -1.357304136693086,
          -2.1595246036357016,
          -1.8887580435822677,
          3.7744666806533065,
          -2.8684117454224185,
          4.9974050336893585,
          8.210145910237692,
          -1.7370301641339183,
          -1.8156983383843353,
          -1.414400901754513,
          -1.331033971297862,
          -4.677888458819181,
          2.0867011815538086,
          -3.9528009227552037,
          -3.677581221974949,
          -2.720668065702785,
          -3.2840549162069617,
          -2.665930183772369,
          -3.3236504774138105,
          -0.16231472133643093,
          0.5000192526203563,
          4.054239332606709,
          0.10117370896676703,
          -2.407496746673548,
          -1.0996277031659543,
          -1.278026154918908,
          6.5545036702064055,
          -3.1933341923485106,
          4.112171750954157,
          -2.4895110072074758,
          -2.524426393700784,
          7.544018685306456,
          -0.5352431774204176,
          -1.0275945881581101,
          -3.163582088906879,
          -2.490478931550268,
          -1.8529019980007124,
          -3.293184450370963,
          -3.7178992610351997,
          -1.0804779704242253,
          -4.672714691295268,
          1.3376630643704366,
          6.146963510683596,
          -3.802749859189756,
          -3.0749056873407143,
          -4.435256903462939,
          -1.9691070924360832,
          9.301295381395528,
          5.583231026396217,
          -2.2156989091962194,
          -2.5557574428220136,
          8.680803939861635,
          4.3894114997464335,
          -1.1688755415244199,
          2.923814629479771,
          -2.9457631463573746,
          3.7116480745909044,
          0.0522477609177634,
          5.792583955408137,
          -0.8804405121089158,
          5.138696623081232,
          4.1784343157058,
          -2.3795294483250755,
          -2.4207210007066067,
          9.406076541041795,
          0.7984307518742271,
          5.456253612859704,
          -2.1497173749864564,
          4.5364308556128865,
          6.249728594184726,
          -2.496852275106709,
          -0.24687596773029996,
          -3.3631939552447907,
          -0.8525085904267491,
          7.921357251135961,
          -2.039938621366711,
          -2.768822960006182,
          -2.8295345708212647,
          -4.435984067315666,
          -1.2954874862853796,
          -2.760736329248535,
          3.432176323431493,
          5.550403829201354,
          5.067838871703184,
          -0.9384579647813968,
          5.278140885101402,
          -1.6027882344312794,
          -1.9861201328599467,
          7.473917588025236,
          -0.6585767077402999,
          -4.193499538157972,
          -3.5093626412971557,
          -2.461769655873866,
          -4.067041395171806,
          0.3594947302019792,
          4.4179000709037695,
          -2.8911179710717327,
          7.031846350425649,
          -2.1850387034467156,
          4.762885273137846,
          -1.827272954031831,
          5.6816583516886325,
          0.8065019464048298,
          4.46624748063867,
          2.6360295671964398,
          -1.5643806172493995,
          0.2573533047930005,
          -1.9059898907558448,
          -1.7026311100998723,
          -1.0581461935029515,
          5.391965705698208,
          -2.1389067041495444,
          -3.2738567538931775,
          -4.834689401376291,
          4.485852608199785,
          7.148369371566851,
          1.6484065430949881,
          -1.2559816260414476,
          -4.385723522550562,
          -3.9960422388544137,
          -2.9183677552063196,
          -0.8525624582135676,
          -0.9677568506009548,
          -3.77861649476264,
          0.562684489881928,
          -2.2129652154863804,
          -1.5958184943895963,
          -2.5329832327775654,
          -4.44271175648568,
          -0.7116197944702294,
          -2.6552237743939204,
          -1.060245294003213,
          -1.8069908482765267,
          -2.8610944303082553,
          -3.1416851956886225,
          6.141506239093625,
          3.059659560892734,
          -5.092335789812727,
          -1.6433215568282848,
          -3.050071631444185,
          -1.0110755178696316,
          8.353595109721782,
          -2.2144992979475755,
          -2.0468664096839126,
          -3.704170341331007,
          -5.0397738149388305,
          -2.0400670628419637,
          -2.242255329669801,
          -1.672587566137283,
          3.1082252304573696,
          -4.238929688280383,
          -2.881657464854074,
          -3.332053083733264,
          -4.39949315107485,
          -2.366650010918367,
          -2.119655903107664,
          -3.7890830884359628,
          4.624048258726105,
          4.866857116144622,
          0.8101093631468501,
          -2.9159416727236525,
          -3.250398133283376,
          -0.3423342602408215,
          -3.6893890262726785,
          -3.3770211432611417,
          2.7446136215678116,
          -2.48267329368565,
          -1.169815296338729,
          -3.391355318956524,
          -4.409582944874584,
          -2.454931284672034,
          3.843692760505848
         ],
         "y": [
          4.594702572519554,
          2.95297064219677,
          -2.533881762915837,
          -0.736793780207446,
          4.458372362095017,
          1.1438873814949007,
          -3.488361032450743,
          0.2506949711115099,
          -0.3816124048711989,
          -3.5265995623922013,
          0.9963642078750865,
          4.900670681536543,
          -3.19218918694309,
          -3.370437085550675,
          0.7989193054508732,
          -4.075966784564609,
          -4.245624004476168,
          -2.760129712477055,
          -3.0905728910281836,
          3.469236680817913,
          5.540654308402903,
          0.045814087672849835,
          0.5537399852519183,
          1.9458078450507166,
          -4.390920719772221,
          -0.9504714188344316,
          0.6350068194816685,
          -4.829725760785832,
          -3.3355444398915295,
          -1.8672080394048218,
          0.8541375339836565,
          1.1597988839320241,
          -4.708218099734231,
          0.13575022862259464,
          -0.6798274982232134,
          4.45960432645378,
          -0.24204458070115473,
          -1.100043298032236,
          -4.960313830415625,
          -4.960012164454551,
          -4.360262813355116,
          2.6564020453538664,
          2.7557621186398715,
          -3.1052439220307693,
          -2.942834880328898,
          -4.301359643970776,
          1.7701753926919865,
          -2.7806541636972466,
          -2.830360101559604,
          0.23085908753912335,
          -3.6837949950449906,
          -2.941463565054921,
          1.3951891424891762,
          2.9137970881001225,
          -4.2169946988124325,
          -4.522261581299014,
          -4.556743526101936,
          0.03815108126319447,
          -1.652381792817176,
          -3.02990786023237,
          3.675568986058646,
          2.6664993385588005,
          -4.234473529471316,
          -3.4835315638459257,
          -3.383999509187544,
          -2.904720063654015,
          -3.5991338825757753,
          -0.5397567549043275,
          1.318908384744686,
          -4.357647393096591,
          2.938465465297629,
          3.1114823969841208,
          -4.805087377473165,
          -0.772378555214117,
          -1.2365090813152937,
          -1.741617362454775,
          0.3356717315306759,
          -3.0618148642421166,
          -3.73701216646536,
          1.0724439475459788,
          3.1795077585023748,
          -3.9936963378890757,
          1.030484874161723,
          4.520975262061372,
          -0.875390747665351,
          2.577913851976506,
          -3.984900975189435,
          1.7832848433716677,
          3.659127282085871,
          2.2783562315221677,
          -0.8259606485780688,
          -3.2179967597438313,
          -4.3713855146464775,
          5.212576175481294,
          0.05270916520817079,
          -2.314062614788233,
          4.395225876221674,
          0.5389803279802248,
          1.1270271520840731,
          5.580343410682819,
          3.7155139041097804,
          4.5069125821466205,
          0.9291108589751956,
          4.450432593210856,
          1.8777409093843072,
          2.887845257021015,
          -3.191661560811151,
          4.525516161645451,
          0.6674262407612376,
          -3.4510617352829773,
          4.6890725700019225,
          -4.620981294353496,
          4.878313436706968,
          -4.458014772133655,
          -2.1025514895599984,
          -3.1159367491095322,
          -5.58113079179173,
          2.5288291666561045,
          -3.268527526748405,
          2.9579582349769202,
          3.3042363548661675,
          1.3605887678000506,
          1.7773054384509561,
          -0.7587096961272627,
          5.014485787044231,
          4.478785735438485,
          -1.7468993404411903,
          -0.5664671544718298,
          -3.6108414863833587,
          4.413425519143926,
          0.11806002933197733,
          4.134621870113598,
          -4.425537930411649,
          5.799554310622957,
          -1.0365370899712847,
          0.203383540074398,
          -4.167937675570891,
          -2.744548855917108,
          -0.006493327365714431,
          -3.5106350697045596,
          -1.801387702822544,
          4.432549615197213,
          -4.029290257603309,
          1.7070663982932643,
          4.831408154679297,
          4.829111637483267,
          -2.9216322292888353,
          3.399213705592389,
          -3.66712134118446,
          0.08415877763231505,
          1.7086193269831105,
          -4.875342682316081,
          0.12246486136553648,
          -2.6156883812324745,
          -3.6849845279160824,
          2.286727954498551,
          4.5832394908621135,
          -3.85997586566133,
          5.500641104532743,
          0.2389681521729745,
          3.0075881195716163,
          4.6319009498116985,
          2.127893794072782,
          -3.4903912124312244,
          -0.5310670306379086,
          4.065485451237872,
          -4.20120139368639,
          5.569574170347121,
          -0.6013602205107178,
          2.833768580248686,
          0.44709193335963643,
          -4.053475967466324,
          1.5624186748993723,
          -4.246255546127275,
          3.98894218299494,
          3.4725505118067828,
          0.09931081409926779,
          1.7263713270633443,
          0.9284201584820018,
          -2.719553174496028,
          4.706637583725449,
          0.7272678908438941,
          0.1837621044908552,
          -0.5218218115408372,
          -3.222567988525256,
          0.18433322301556987,
          -2.4814961697053017,
          2.4641035663568966,
          -0.07983111820009371,
          -4.234650295780644,
          1.4876981137205783,
          -3.5192602062073965,
          -3.632526654085791,
          2.836595636386929,
          -1.7197210450041431,
          -2.059577581143223,
          5.12069028953351,
          1.1074407071264192,
          5.4498827005229575,
          2.756064717070696,
          1.802860334035767,
          -1.8572004050790878,
          -2.6636180021792564,
          -4.134701321656562,
          -2.303312430967521,
          -0.6903931485766363,
          0.7199735799837723,
          -1.1469977840560108,
          -4.6581079435196395,
          -4.818668518987636,
          -0.8516684342281983,
          -5.055858887315614,
          -1.517303393315083,
          5.497766622754682,
          -4.424871202819981,
          0.10787023163918201,
          2.7275192387363436,
          1.4657667525801035,
          -3.3726868317568997,
          1.8267337912174397,
          5.6072163652184335,
          0.2894227631551873,
          3.8021651892214563,
          4.129488389922724,
          -3.481113264457833,
          4.750786853469002,
          -4.3935478403010535,
          -3.850462918650098,
          0.17267794392456037,
          4.439518748825251,
          3.1382171516371358,
          5.706087214616754,
          -4.092991256593119,
          2.5356165781505484,
          0.4732078022382604,
          -2.536719517136366,
          3.2609536527548353,
          -3.4538106528330332,
          5.670967591535305,
          1.0869803809337342,
          5.2283467055195585,
          0.1870495350764202,
          1.833554493420288,
          3.825570154261317,
          -4.713439752188615,
          1.513308547821344,
          2.7661621130784,
          -3.897386259545855,
          -0.11585397408706502,
          3.649410645501464,
          4.729355732961147,
          1.2989308261493937,
          2.3341063323443096,
          1.1986123007111869,
          -5.640721752546245,
          -3.595468410244074,
          2.518449929691677,
          -4.345891696019163,
          -4.461961074412217,
          -2.248221559498133,
          -1.6381637486262866,
          1.939419612724115,
          3.817817235463796,
          1.113385737185557,
          2.657949763834388,
          1.1771554678940064,
          -0.8163109761554751,
          -3.296548575702169,
          2.9105143755541283,
          -4.520890138968033,
          0.2131428403914222,
          -1.7060741102005021,
          -2.306557434428721,
          -2.5773321094130353,
          5.2281095829620945,
          3.1639088324738207,
          3.297883165055762,
          -0.43851779020911136,
          1.2816523465387764,
          4.765460474559631,
          2.0497721035136762,
          2.098148715172476,
          -0.7965610138757024,
          -3.7857630114184784,
          3.4747333378576606,
          -2.6788376873689543,
          5.128488328244551,
          -5.5172001649534,
          -1.624714399128095,
          -4.144620771389588,
          -1.0864246406955254,
          -2.5599128879005093,
          -5.059048097726354,
          -1.0516347376114674,
          0.14770319525941625,
          0.024650121210143677,
          -2.3528941028965393,
          -4.654654450671433,
          2.0632629136321476,
          1.851909858038338,
          -0.6476617096194179,
          -4.620153874958266,
          -3.9467931456158105,
          -5.556984727465213,
          0.9465256010647259,
          -0.02761436943595067,
          -2.895175008518591,
          -1.169734693125299,
          0.8124722821475552,
          0.8118724359379467,
          0.7121346944788833,
          5.609317822183586,
          1.0172606449844082,
          -0.9387507076757616,
          1.3822829724959589,
          -3.526345309384873,
          0.3058785458621859,
          2.7794335883552126,
          -3.6887851462391863,
          2.064664575202598,
          4.819608276113704,
          -3.310717441978487,
          4.495713305667667,
          -2.4181865599895986,
          5.473388425112205,
          -0.7442521123932928,
          1.3302463723028641,
          -4.465474788716937,
          1.5640035991283319,
          1.977181962819159,
          -3.766344729826697,
          -2.4591487174882,
          -5.15482664926206,
          -4.401572661016876,
          3.1323657415264448,
          2.476633228017705,
          -2.396170250518254,
          0.4441157637490788,
          0.1251443735726594,
          -4.356717378775456,
          3.644178113651657,
          0.9580631964089228,
          2.7329759539322964,
          0.051879321000756436,
          4.200455952175638,
          3.6641262612859054,
          4.777417042857622,
          3.3325819285448324,
          -3.1674376311609485,
          -2.335643528906021,
          3.247289689486208,
          1.1073590989813413,
          -4.667926324182154,
          5.46370153960713,
          -1.7058633818045041,
          -2.377277793080186,
          -1.6408015833070864,
          -3.2525396959674437,
          5.688622289911761,
          0.5691118894337001,
          -3.502378855445256,
          -3.9455718307399015,
          2.6307107375374557,
          5.563099081924755,
          -3.540868248894805,
          -3.0112484025367636,
          -2.402128247488816,
          5.315027370886743,
          4.8397121471872415,
          -4.281703210281442,
          1.852470118819316,
          -4.6850047877599215,
          -4.376145779045628,
          -3.489134137943678,
          1.4214188643289862,
          2.7537319075817344,
          -0.15312135682974604,
          3.982957645909441,
          -2.5117427662040095,
          0.9548294708016122,
          5.561525971846087,
          -4.312456461880854,
          1.6230507527540619,
          3.486618276924372,
          4.228635450934555,
          4.6120493917975205,
          0.8294324873927146,
          -0.8932672829861754,
          1.0919876303010894,
          4.310017996933363,
          1.24880964529769,
          -5.044652324133031,
          1.9112305790225979,
          -2.8407298318195857,
          4.645142954100608,
          0.7483424033267745,
          5.905421725570002,
          3.9621935478511303,
          -0.6018057158258189,
          1.6203139336364132,
          -3.4399529212550943,
          1.968215703409119,
          -4.394582694285643,
          -3.6144440403366165,
          -4.236449952053404,
          4.8797043528908945,
          -4.346548379913768,
          0.22548783727956706,
          -0.9899470476166333,
          -0.6956096745591575,
          1.852706565613688,
          -4.0505537309125526,
          1.7415913081302081,
          -4.226838034440867,
          0.17927258535422766,
          -4.438004649298243,
          2.883361840448998,
          -2.794431602761703,
          -2.4207819506448773,
          -4.773160113681914,
          -3.7600946455317916,
          -4.463420504631544,
          -4.257543768273743,
          -3.4151836799719595,
          -1.0221781506838394,
          4.561963898681988,
          4.312615870269203,
          5.780669928607913,
          5.6012174374069525,
          -3.3461985545655795,
          -3.5230812687131547,
          -4.491306925786711,
          -1.1759921061148089,
          1.4859856819999047,
          2.129569315646366,
          2.119833891021817,
          -5.39506767025652,
          1.9150918006594806,
          -0.6742668798353835,
          2.689604842720053,
          0.1260832095593895,
          1.8154290840431813,
          1.871438277146787,
          -4.669317140486114,
          4.591834477135953,
          -3.5213255181159075,
          -3.5461979988181147,
          -1.9211184593350734,
          -2.4886343244102025,
          3.0146999541190675,
          -4.442395912087722,
          -0.1348385125670512,
          -3.5275963030107476,
          -3.7803646225514926,
          0.9467347006932461,
          -4.563786540330563,
          1.8504686408510809,
          0.2690427501240974,
          -5.509267291741869,
          3.533926249464651,
          1.6959930699178432,
          0.9633588078029457,
          -4.492576576877911,
          0.19170330773471156,
          1.1418840375289157,
          -4.722678788793726,
          2.166846268017824,
          -3.6584092848851997,
          2.4647878264355296,
          -1.8388204163126844,
          -3.010731744495374,
          -1.595790668541703,
          5.595157486645386,
          0.2888519583717213,
          0.35112093915048814,
          2.7362275591974754,
          4.773342266259231,
          1.526334507697918,
          -0.17864336008483372,
          -1.712433278645353,
          3.9216710161796655,
          4.625512599023345,
          -0.011997729550764405,
          2.2243682799022007,
          -2.259647405158398,
          1.891192372789063,
          -3.1135283223056964,
          -4.138537093273538,
          -2.4836648186547468,
          3.3423164470563353,
          0.9412390912852542,
          1.5727273371567156,
          -3.547971734234984,
          2.3635106775972323,
          3.175061710004887,
          1.6628529610118994,
          -1.1136905740751675,
          0.91090204714238,
          3.5843459444677044,
          1.0853004152725831,
          0.9172699501736838,
          2.0011134230535434,
          -4.24213997698577,
          -3.7799190266221694,
          0.7329325274434948,
          5.305098405975254,
          2.826081190465616,
          -3.6277814436556333,
          4.510943146129642,
          2.216905356471581,
          2.6869304105173626,
          1.0237527246775375,
          4.272699351757516,
          4.572603182304981,
          3.7243084257876142,
          3.907164547881178,
          2.910474408976671,
          1.3281543877342494,
          -0.17783984287358426,
          1.4113424516463375,
          -4.296492945066539,
          2.8884760823226707,
          -4.390213847303444,
          -0.8575603564173055,
          -2.540129407246509,
          -0.1485283224376882,
          5.209455380688965,
          4.718267199780183,
          1.5412124927996136,
          0.15583978805068616,
          -4.473472734947555,
          2.8234825451963936,
          2.0053570598667445,
          -0.43527795308026873,
          -5.191989113735472,
          2.9416085209727907,
          -2.7237028223269215,
          2.4675941799112002,
          -2.8491892400475165,
          3.6297620906050088,
          4.047286004095832,
          1.8765072456065988,
          3.7980310064449574,
          -3.624708711323407,
          3.2314217230932187,
          -0.7493696778537307,
          -4.1690442047881655,
          -2.9595434415794495,
          -1.748139718241589,
          -3.473350700767341,
          4.984004826724265,
          -3.33171648394071,
          0.9986849284199588,
          -3.939424139323955,
          -3.4409367162958704,
          4.765050627862808,
          0.18483887584437644,
          -4.680342511780319,
          -4.09284783290394,
          5.598952654570969,
          -4.1290442713599536,
          5.962428934292642,
          -4.023545230166643,
          -3.0923965670314755,
          -5.4471058282964675,
          -0.18951799635039634,
          4.616507576321036,
          4.852098066688901,
          4.169779182418264,
          1.1078631476869674,
          3.3078466719606903,
          1.66086937433758,
          -3.670280914636516,
          5.691411213647978,
          2.2412742267349453,
          0.05012566246219699,
          -3.6159204327930987,
          -1.0209946663389664,
          -3.391676399902297,
          0.8635330697485533,
          1.824493293042144,
          -4.644048142687998,
          -4.43030974312768,
          5.921380633658068,
          -4.12631744681096,
          3.5162828947635134,
          1.8223257641881445,
          -1.325749628590145,
          0.9215714500671869,
          1.0199911869532268,
          -2.7309553756550144,
          2.0857999666772904,
          3.8196581942433228,
          -2.724011089755754,
          -1.7634915861748255,
          3.6364517694879197,
          0.6139795741988627,
          -3.314855942794268,
          2.0426183799241677,
          5.972139490237777,
          -0.10000116637149964,
          4.028326813111791,
          4.745024642985392,
          -3.790767094925017,
          -2.435201590408052,
          -3.581638326028061,
          1.3634872020119821,
          0.9035740261822742,
          0.717304417901006,
          0.09891574461685038,
          -1.5922753289976592,
          1.9573040409272837,
          -3.172805897981431,
          -3.507568212290954,
          0.8686841177443305,
          -4.614502826024954,
          -2.783859457321259,
          4.907478271162968,
          -3.4988775980260405,
          2.3990396548463893,
          0.1612191421618575,
          -1.075557793293895,
          -4.894010580471425,
          -2.7959222091374643,
          -3.348468588743825,
          2.5409488595391223,
          5.702159414995266,
          1.6334420768836808,
          -3.4861823372522034,
          1.2215512372349369,
          1.4823998813275132,
          0.140174918836274,
          0.8784840761180607,
          3.948014687963915,
          -3.9730256357291154,
          0.8262827496148729,
          2.0115276390606103,
          3.854134772733725,
          -4.450787497964547,
          4.63535220599424,
          0.2770507628364065,
          -5.472259967985913,
          3.209115748680564,
          -3.12289939586545,
          -2.75978702650158,
          -0.7454016481106007,
          -2.8134854089367956,
          1.5973804383345036,
          1.9231842617680948,
          4.6623620523772695,
          1.300446185596157,
          -3.2320632548596815,
          4.769575835745848,
          0.5428050108564022,
          -3.5654026699563794,
          2.127179536771685,
          1.171560114583463,
          4.9180620702368465,
          2.3593985506151065,
          -1.400059560396377,
          -0.7150189468897843,
          0.10445618747737911,
          2.413579234046984,
          -3.163012093300203,
          1.0185568106637577,
          -3.991753872241537,
          -3.467465153646522,
          -4.34526819851302,
          0.686130720522224,
          -3.2666861945386616,
          -3.267957248302415,
          5.019006525710677,
          2.8378530810271143,
          5.444080534639094,
          -0.6273720527039652,
          -3.4049270560025953,
          3.8995061731190215,
          -5.372131199749589
         ],
         "z": [
          3.9008017121025924,
          3.7310126317725443,
          3.733102600757406,
          4.817880102659276,
          4.149926015097935,
          4.061812922696228,
          4.399886305687223,
          3.8991297369147047,
          3.743385248162917,
          2.8926842725653943,
          3.22975447044366,
          3.6464106872654005,
          4.388684071928373,
          3.893779416313463,
          4.14883923122581,
          3.984985662812764,
          4.068166428410202,
          3.73678094617076,
          3.729675051622233,
          3.062306155376654,
          4.14716725603792,
          4.233859169529924,
          4.0655748668689755,
          4.064906076793821,
          4.149926015097935,
          3.985403656609736,
          3.228834884090319,
          3.901637699696537,
          3.732684606960432,
          4.151096397729458,
          3.394527625210041,
          4.222573337011679,
          5.236208294668908,
          2.0626321905382925,
          4.065825663147158,
          3.7303438416973895,
          3.8980429530425775,
          5.9166185973800145,
          5.151606350161765,
          5.1503523687708475,
          4.8161245287119945,
          4.398214330499335,
          3.984149675218821,
          3.307835711718039,
          5.554635969202217,
          4.152684774157952,
          4.394870380123559,
          3.811685434588152,
          4.314531972345532,
          4.064989675553215,
          5.240304633879233,
          3.8949497989449844,
          4.396542355311447,
          4.232605188139009,
          3.8093446693251076,
          5.066670010617043,
          5.1533619241090465,
          2.254324145829675,
          2.484220734164304,
          3.9811401198806218,
          4.402561465987845,
          4.230348021635359,
          4.317959521480701,
          4.0627325090495665,
          4.063484897884115,
          3.898628144358338,
          3.8967053728922663,
          3.901470502177747,
          4.147418052316103,
          3.733771390832561,
          5.574198078900509,
          4.151263595248246,
          4.066160058184736,
          4.231769200545064,
          3.393691637616098,
          0.9745107382606442,
          4.405571021326044,
          5.824074770730403,
          3.8147785886857433,
          3.8958693852983215,
          4.06415368795927,
          4.570427774851823,
          3.9000493232680435,
          8.996480492229495,
          3.975288206723012,
          3.7354433660204487,
          4.398548725536913,
          3.7332697982761944,
          6.2352134694321135,
          4.065992860665948,
          4.068918817244753,
          4.2284252501692885,
          3.735610563539237,
          3.9838152801812425,
          5.657044449460371,
          7.666340631505029,
          4.151597990285825,
          2.897198605572693,
          2.4726841053678763,
          1.6432172146565343,
          4.233859169529924,
          4.069420409801119,
          4.985746411523253,
          3.984233273978213,
          3.902222891012298,
          4.233859169529924,
          4.064655280515637,
          3.732684606960432,
          4.243473026860282,
          3.563229921667962,
          1.4628110918833963,
          4.984408831372943,
          4.065825663147158,
          3.3119320509283634,
          3.8141933973699826,
          4.06565846562837,
          1.739522985478895,
          4.571430959964554,
          3.3990419582173397,
          4.31678913884918,
          3.899380533192887,
          4.22959563280081,
          2.479455604878823,
          3.9708574724751093,
          4.23151840426688,
          2.060040628997066,
          3.2293364766466857,
          6.236551049582423,
          2.059288240162515,
          5.06775679448917,
          7.493458397077387,
          3.8989625393959146,
          4.563321880303296,
          4.1485048361882315,
          4.56282028774693,
          4.058301774801662,
          2.556115667243497,
          7.563932151246877,
          4.5685050033857495,
          8.313144232939582,
          3.9777125707454504,
          4.3200494904655615,
          4.228341651409893,
          3.8967889716516604,
          4.895292553858501,
          4.895292553858501,
          3.894531805148012,
          4.31678913884918,
          2.257584497446058,
          5.830261078925589,
          4.397796336702364,
          3.48431269279964,
          4.234862354642657,
          4.149006428744598,
          3.8997985269898594,
          4.066661650741103,
          4.141566139158495,
          4.31829391651828,
          4.06641085446292,
          3.9008853108619865,
          4.236032737274178,
          4.23394276828932,
          4.147585249834893,
          5.393708357367976,
          3.5743485566674194,
          3.3158611926199013,
          4.063819292921692,
          6.257367140671634,
          4.399301114371464,
          4.063652095402904,
          4.229762830319598,
          3.9849020640533697,
          3.562226736555229,
          4.052282664125264,
          4.237704712462066,
          4.23168560178567,
          4.063484897884115,
          4.1525175766391635,
          4.145996873406399,
          4.147836046113077,
          4.063819292921692,
          3.230005266721842,
          8.223442764109382,
          2.7251523587389963,
          4.820053670403532,
          3.0606341801887664,
          3.2202242118726963,
          4.14733445355671,
          3.8109330457536013,
          3.9045636562753403,
          4.067163243297469,
          4.149090027503992,
          4.145160885812454,
          4.241215860356632,
          5.408588936540181,
          6.241232580108512,
          4.3230590458037605,
          4.231769200545064,
          3.8140261998511944,
          4.14867203370702,
          4.153771558030079,
          5.826248338474657,
          4.233524774492346,
          3.649169446325417,
          3.9798861384897046,
          4.313946781029769,
          4.563071084025112,
          2.7303354818214496,
          4.39963550940904,
          4.151263595248246,
          5.405161387405012,
          4.314113978548558,
          3.8999657245086476,
          4.230682416672937,
          5.404743393608039,
          2.558372833747147,
          4.39963550940904,
          4.236116336033574,
          4.234611558364475,
          4.321387070615873,
          4.159874267465871,
          6.067096364289955,
          4.1495080213009645,
          4.23394276828932,
          5.405997374998955,
          4.1454952808500325,
          3.98339728638427,
          4.390857639672627,
          4.233106780695375,
          4.403731848619368,
          3.725829508690091,
          0.002340765263042499,
          5.825245153361924,
          4.399384713130858,
          2.4761116545030477,
          1.8931775052458226,
          4.57092936740819,
          4.73244217055819,
          6.241817771424272,
          4.146164070925187,
          4.0645716817562425,
          3.8960365828171115,
          3.726832693802824,
          4.066327255703524,
          4.151848786564009,
          2.6397980253973037,
          4.5636562753408745,
          1.226728195353581,
          4.236032737274178,
          7.755958501575837,
          4.987000392914168,
          3.561975940277047,
          3.810849446994207,
          3.6422307492956802,
          3.730093045419207,
          4.147585249834893,
          3.730761835494362,
          4.235781940995996,
          4.23168560178567,
          5.822653591820697,
          3.722067564517343,
          3.985320057850342,
          3.5627283291115956,
          4.066160058184736,
          4.8181308989374605,
          3.646912279821767,
          4.314030379789165,
          4.143238114346382,
          3.8959529840577174,
          3.7314306255695167,
          4.736872904806092,
          2.885494779257475,
          4.151012798970064,
          4.24380742189786,
          4.907247176451903,
          4.2274220650565555,
          4.397879935461758,
          4.149926015097935,
          4.143405311865172,
          4.234862354642657,
          4.402895861025422,
          3.5577960023073247,
          8.246766817980422,
          4.146749262240948,
          3.901470502177747,
          3.7310126317725443,
          4.2144642573504205,
          3.73092903301315,
          4.395204775161136,
          4.234695157123869,
          3.8967889716516604,
          4.145996873406399,
          5.235372307074962,
          3.8160325700766604,
          3.982310502512143,
          3.7321830144040655,
          4.728095035069681,
          4.14733445355671,
          4.154022354308263,
          4.057131392170141,
          4.738043287437615,
          6.239393407401836,
          4.894623763783346,
          3.730845434253756,
          3.982394101271537,
          3.7301766441785995,
          4.399886305687223,
          3.731932218125883,
          3.146072112289853,
          4.061394928899255,
          6.240396592514569,
          4.2302644228759645,
          4.065073274312609,
          6.2360494570260565,
          5.402151832066813,
          3.730845434253756,
          4.232019996823246,
          0.1546577048796589,
          6.236885444620003,
          3.7301766441785995,
          2.883572007791405,
          3.8901010709001076,
          4.151263595248246,
          3.8998821257492535,
          4.06415368795927,
          4.069253212282331,
          4.230766015432331,
          7.249433618405104,
          4.065825663147158,
          4.402895861025422,
          4.232103595582642,
          4.489922169555004,
          3.8978757555237875,
          2.0614618079067695,
          2.064220566966786,
          3.3791454534814696,
          4.148421237428836,
          3.9868248355194416,
          4.147668848594287,
          4.147668848594287,
          4.1495080213009645,
          4.06641085446292,
          3.3131860323192805,
          2.06012422775646,
          3.8364306673688953,
          4.400471497002985,
          4.065324070590791,
          5.40173383826984,
          3.8119362308663343,
          2.143890184669659,
          4.806092677584664,
          3.730678236734966,
          4.063652095402904,
          2.5617167841229245,
          3.4760364156195918,
          4.564157867897239,
          4.234193564567502,
          4.06791563213202,
          7.925496785627701,
          8.329863984818466,
          3.7305110392161778,
          3.905316045109891,
          3.7344401809077157,
          4.570093379814243,
          3.5676606559158666,
          4.573938922746387,
          5.419456775261454,
          4.483819460119213,
          4.564993855491186,
          4.0625653115307765,
          4.066327255703524,
          2.97920898853861,
          4.398465126777519,
          4.0685844222071745,
          3.311681254650181,
          3.732935403238616,
          4.201004857087921,
          6.241399777627302,
          3.3937752363754923,
          4.069922002357486,
          3.562226736555229,
          4.82306322574173,
          3.736530149892576,
          5.654452887919143,
          4.39963550940904,
          4.068166428410202,
          5.821316011670388,
          5.404325399811067,
          4.063819292921692,
          2.510805139651727,
          4.398799521815097,
          3.731848619366489,
          3.731765020607095,
          4.15301916919553,
          3.727919477674951,
          4.2272548675377655,
          4.065407669350187,
          3.897290564208027,
          3.732768205719828,
          1.6407092518747017,
          0,
          3.815530977520294,
          3.9789665521363657,
          3.56924903234436,
          3.901470502177747,
          4.0607261388241005,
          4.3160367500146295,
          3.39770437806703,
          4.318461114037068,
          3.646995878581163,
          4.234695157123869,
          3.7234887434270467,
          3.8999657245086476,
          7.690918666766987,
          4.3182103177588855,
          3.727919477674951,
          4.062648910290171,
          9.747949740425852,
          3.561975940277047,
          8.245930830386477,
          4.066160058184736,
          5.819644036482498,
          4.402561465987845,
          3.9780469657830286,
          3.7301766441785995,
          4.148086842391259,
          1.2231334486996213,
          4.1495080213009645,
          4.066912447019287,
          0.5480734665897558,
          2.7512351716700527,
          4.0645716817562425,
          2.979543383576188,
          3.7293406565846565,
          4.058134577282874,
          4.5725177438366815,
          3.7322666131634614,
          4.066076459425342,
          3.7333533970355886,
          4.064070089199876,
          4.150176811376119,
          4.566833028197862,
          1.8394235029552162,
          4.145913274647003,
          7.073374631120475,
          4.148421237428836,
          5.072521923774652,
          3.8969561691704504,
          3.7285046689907118,
          3.9788829533769716,
          4.568672200904538,
          4.23377557077053,
          4.487079811735593,
          4.4009730895593515,
          7.079477340556266,
          1.6461431712353383,
          3.9827284963091154,
          4.652856151614711,
          2.477198438375175,
          4.061812922696228,
          3.723906737224021,
          4.23168560178567,
          10,
          4.4028122622660275,
          4.402895861025422,
          3.897457761726817,
          8.24216888621373,
          6.236467450823031,
          4.062481712771382,
          4.066076459425342,
          4.148755632466414,
          4.731856979242427,
          4.230097225357176,
          4.146080472165793,
          4.397796336702364,
          4.052533460403448,
          4.066494453222314,
          5.400897850675897,
          4.569591787257877,
          4.402394268469055,
          3.8938630150728555,
          3.902222891012298,
          4.067664835853836,
          4.0657420643877655,
          4.0715939775453736,
          3.566824668321922,
          3.7302602429379954,
          5.4009814494352915,
          4.066243656944132,
          4.0657420643877655,
          3.8133574097760397,
          3.7311798292913325,
          3.7300094466598113,
          3.3123500447253376,
          6.096606726356183,
          4.568672200904538,
          2.4768640433375966,
          4.415853668731555,
          3.705097016360278,
          3.900300119546226,
          4.565997040603919,
          7.4886932677919065,
          4.2342771633268965,
          3.3141056186726194,
          3.729089860306474,
          4.234193564567502,
          3.7243247310209915,
          4.569842583536061,
          3.560136767570369,
          6.57136408095704,
          1.8926759126894561,
          4.399217515612068,
          3.309842081943505,
          4.31829391651828,
          4.48607662662286,
          2.6458171360737017,
          4.652187361539554,
          4.566415034400891,
          4.233608373251742,
          4.149424422541569,
          3.7384529213586477,
          4.153771558030079,
          4.061060533861677,
          5.573780085103537,
          4.0675812370944415,
          4.201004857087921,
          4.067414039575653,
          1.2227990536620439,
          4.315284361180081,
          4.562402293949959,
          4.068417224688386,
          3.899631329471071,
          8.910708165090831,
          2.561131592807162,
          4.064404484237454,
          8.408446818649214,
          5.903911585952065,
          3.898377348080154,
          3.9780469657830286,
          4.3160367500146295,
          4.2302644228759645,
          4.067999230891414,
          4.149090027503992,
          4.399217515612068,
          4.0657420643877655,
          4.899221695550039,
          4.066661650741103,
          3.733771390832561,
          1.810665529723539,
          4.150427607654302,
          3.48623546426571,
          3.897541360486211,
          4.23151840426688,
          4.148170441150653,
          7.074043421195628,
          3.9730310402193636,
          4.23151840426688,
          9.099139768765834,
          1.437731464065073,
          6.231953117815732,
          3.732851804479222,
          4.23586553975539,
          3.8121034283851225,
          3.641896354258102,
          4.5510328626723195,
          4.1475016510754985,
          4.566415034400891,
          4.235614743477208,
          3.81962731673062,
          3.9817253111963824,
          3.7303438416973895,
          4.154858341902206,
          3.8143605948887727,
          4.396458756552053,
          4.230348021635359,
          4.231351206748092,
          3.7315978230883067,
          3.9824777000309313,
          4.399468311890252,
          4.148337638669443,
          9.922503950041381,
          3.899464131952281,
          3.8962037803358998,
          3.8949497989449844,
          3.728922662787684,
          3.3109288658156304,
          3.5596351750140025,
          4.317792323961913,
          3.8141933973699826,
          3.895367792741955,
          3.9010525083807766,
          3.059213001279061,
          4.060809737583495,
          3.7330190019980103,
          4.232187194342036,
          4.2322707931014305,
          3.571255402569826,
          2.160442739029752,
          4.145160885812454,
          4.400722293281169,
          4.400137101965407,
          4.234109965808108,
          4.234109965808108,
          4.065324070590791,
          4.550196875078373,
          4.232855984417191,
          4.242637039266337,
          4.2342771633268965,
          4.73453213954305,
          3.481219538702045,
          4.065407669350187,
          2.099666440950016,
          4.570678571130004,
          4.398715923055701,
          2.224897382522843,
          4.06641085446292,
          4.396793151589631,
          4.3141975773079535,
          4.578871249550658,
          3.568831038547388,
          4.486661817938622,
          4.064989675553215,
          4.146916459759736,
          5.392705172255243,
          4.819050485290799,
          3.901303304658959,
          4.402728663506635,
          6.236551049582423,
          4.9738753876892465,
          6.153788277781959,
          4.233859169529924,
          4.148588434947626,
          5.070849948586763,
          4.155527131977363,
          4.151597990285825,
          3.811518237069362,
          4.318795509074646,
          4.235698342236602,
          4.0675812370944415,
          4.067246842056865,
          4.23168560178567,
          2.560379203972613,
          3.7293406565846565,
          4.23151840426688,
          3.720897181885822,
          4.144074101940327,
          2.5616331853635286,
          4.064906076793821,
          4.3160367500146295,
          4.067330440816257,
          4.062398114011988,
          4.31662194133039,
          4.151597990285825,
          4.1426529230306235,
          3.064981315677275,
          4.232939583176587,
          2.891346692415085,
          4.816458923749571,
          4.316705540089786,
          4.148254039910047,
          4.05846897232045,
          3.9848184652939755,
          3.7282538727125294,
          4.315535157458263,
          4.14867203370702,
          6.241316178867906,
          4.572768540114866,
          3.8970397679298445,
          1.2205418871583946,
          4.228508848928681,
          7.241909730059606,
          0.5895384512493829,
          8.084668823514658,
          4.313612385992191,
          8.244509651476772,
          4.232939583176587,
          3.8101806569190524,
          6.073784265041506
         ]
        }
       ],
       "layout": {
        "coloraxis": {
         "colorbar": {
          "title": {
           "text": "clusters"
          }
         },
         "colorscale": [
          [
           0,
           "#0d0887"
          ],
          [
           0.1111111111111111,
           "#46039f"
          ],
          [
           0.2222222222222222,
           "#7201a8"
          ],
          [
           0.3333333333333333,
           "#9c179e"
          ],
          [
           0.4444444444444444,
           "#bd3786"
          ],
          [
           0.5555555555555556,
           "#d8576b"
          ],
          [
           0.6666666666666666,
           "#ed7953"
          ],
          [
           0.7777777777777778,
           "#fb9f3a"
          ],
          [
           0.8888888888888888,
           "#fdca26"
          ],
          [
           1,
           "#f0f921"
          ]
         ]
        },
        "legend": {
         "tracegroupgap": 0
        },
        "margin": {
         "t": 60
        },
        "scene": {
         "domain": {
          "x": [
           0,
           1
          ],
          "y": [
           0,
           1
          ]
         },
         "xaxis": {
          "title": {
           "text": "col1"
          }
         },
         "yaxis": {
          "title": {
           "text": "col2"
          }
         },
         "zaxis": {
          "title": {
           "text": "col3"
          }
         }
        },
        "template": {
         "data": {
          "bar": [
           {
            "error_x": {
             "color": "#2a3f5f"
            },
            "error_y": {
             "color": "#2a3f5f"
            },
            "marker": {
             "line": {
              "color": "#E5ECF6",
              "width": 0.5
             },
             "pattern": {
              "fillmode": "overlay",
              "size": 10,
              "solidity": 0.2
             }
            },
            "type": "bar"
           }
          ],
          "barpolar": [
           {
            "marker": {
             "line": {
              "color": "#E5ECF6",
              "width": 0.5
             },
             "pattern": {
              "fillmode": "overlay",
              "size": 10,
              "solidity": 0.2
             }
            },
            "type": "barpolar"
           }
          ],
          "carpet": [
           {
            "aaxis": {
             "endlinecolor": "#2a3f5f",
             "gridcolor": "white",
             "linecolor": "white",
             "minorgridcolor": "white",
             "startlinecolor": "#2a3f5f"
            },
            "baxis": {
             "endlinecolor": "#2a3f5f",
             "gridcolor": "white",
             "linecolor": "white",
             "minorgridcolor": "white",
             "startlinecolor": "#2a3f5f"
            },
            "type": "carpet"
           }
          ],
          "choropleth": [
           {
            "colorbar": {
             "outlinewidth": 0,
             "ticks": ""
            },
            "type": "choropleth"
           }
          ],
          "contour": [
           {
            "colorbar": {
             "outlinewidth": 0,
             "ticks": ""
            },
            "colorscale": [
             [
              0,
              "#0d0887"
             ],
             [
              0.1111111111111111,
              "#46039f"
             ],
             [
              0.2222222222222222,
              "#7201a8"
             ],
             [
              0.3333333333333333,
              "#9c179e"
             ],
             [
              0.4444444444444444,
              "#bd3786"
             ],
             [
              0.5555555555555556,
              "#d8576b"
             ],
             [
              0.6666666666666666,
              "#ed7953"
             ],
             [
              0.7777777777777778,
              "#fb9f3a"
             ],
             [
              0.8888888888888888,
              "#fdca26"
             ],
             [
              1,
              "#f0f921"
             ]
            ],
            "type": "contour"
           }
          ],
          "contourcarpet": [
           {
            "colorbar": {
             "outlinewidth": 0,
             "ticks": ""
            },
            "type": "contourcarpet"
           }
          ],
          "heatmap": [
           {
            "colorbar": {
             "outlinewidth": 0,
             "ticks": ""
            },
            "colorscale": [
             [
              0,
              "#0d0887"
             ],
             [
              0.1111111111111111,
              "#46039f"
             ],
             [
              0.2222222222222222,
              "#7201a8"
             ],
             [
              0.3333333333333333,
              "#9c179e"
             ],
             [
              0.4444444444444444,
              "#bd3786"
             ],
             [
              0.5555555555555556,
              "#d8576b"
             ],
             [
              0.6666666666666666,
              "#ed7953"
             ],
             [
              0.7777777777777778,
              "#fb9f3a"
             ],
             [
              0.8888888888888888,
              "#fdca26"
             ],
             [
              1,
              "#f0f921"
             ]
            ],
            "type": "heatmap"
           }
          ],
          "heatmapgl": [
           {
            "colorbar": {
             "outlinewidth": 0,
             "ticks": ""
            },
            "colorscale": [
             [
              0,
              "#0d0887"
             ],
             [
              0.1111111111111111,
              "#46039f"
             ],
             [
              0.2222222222222222,
              "#7201a8"
             ],
             [
              0.3333333333333333,
              "#9c179e"
             ],
             [
              0.4444444444444444,
              "#bd3786"
             ],
             [
              0.5555555555555556,
              "#d8576b"
             ],
             [
              0.6666666666666666,
              "#ed7953"
             ],
             [
              0.7777777777777778,
              "#fb9f3a"
             ],
             [
              0.8888888888888888,
              "#fdca26"
             ],
             [
              1,
              "#f0f921"
             ]
            ],
            "type": "heatmapgl"
           }
          ],
          "histogram": [
           {
            "marker": {
             "pattern": {
              "fillmode": "overlay",
              "size": 10,
              "solidity": 0.2
             }
            },
            "type": "histogram"
           }
          ],
          "histogram2d": [
           {
            "colorbar": {
             "outlinewidth": 0,
             "ticks": ""
            },
            "colorscale": [
             [
              0,
              "#0d0887"
             ],
             [
              0.1111111111111111,
              "#46039f"
             ],
             [
              0.2222222222222222,
              "#7201a8"
             ],
             [
              0.3333333333333333,
              "#9c179e"
             ],
             [
              0.4444444444444444,
              "#bd3786"
             ],
             [
              0.5555555555555556,
              "#d8576b"
             ],
             [
              0.6666666666666666,
              "#ed7953"
             ],
             [
              0.7777777777777778,
              "#fb9f3a"
             ],
             [
              0.8888888888888888,
              "#fdca26"
             ],
             [
              1,
              "#f0f921"
             ]
            ],
            "type": "histogram2d"
           }
          ],
          "histogram2dcontour": [
           {
            "colorbar": {
             "outlinewidth": 0,
             "ticks": ""
            },
            "colorscale": [
             [
              0,
              "#0d0887"
             ],
             [
              0.1111111111111111,
              "#46039f"
             ],
             [
              0.2222222222222222,
              "#7201a8"
             ],
             [
              0.3333333333333333,
              "#9c179e"
             ],
             [
              0.4444444444444444,
              "#bd3786"
             ],
             [
              0.5555555555555556,
              "#d8576b"
             ],
             [
              0.6666666666666666,
              "#ed7953"
             ],
             [
              0.7777777777777778,
              "#fb9f3a"
             ],
             [
              0.8888888888888888,
              "#fdca26"
             ],
             [
              1,
              "#f0f921"
             ]
            ],
            "type": "histogram2dcontour"
           }
          ],
          "mesh3d": [
           {
            "colorbar": {
             "outlinewidth": 0,
             "ticks": ""
            },
            "type": "mesh3d"
           }
          ],
          "parcoords": [
           {
            "line": {
             "colorbar": {
              "outlinewidth": 0,
              "ticks": ""
             }
            },
            "type": "parcoords"
           }
          ],
          "pie": [
           {
            "automargin": true,
            "type": "pie"
           }
          ],
          "scatter": [
           {
            "fillpattern": {
             "fillmode": "overlay",
             "size": 10,
             "solidity": 0.2
            },
            "type": "scatter"
           }
          ],
          "scatter3d": [
           {
            "line": {
             "colorbar": {
              "outlinewidth": 0,
              "ticks": ""
             }
            },
            "marker": {
             "colorbar": {
              "outlinewidth": 0,
              "ticks": ""
             }
            },
            "type": "scatter3d"
           }
          ],
          "scattercarpet": [
           {
            "marker": {
             "colorbar": {
              "outlinewidth": 0,
              "ticks": ""
             }
            },
            "type": "scattercarpet"
           }
          ],
          "scattergeo": [
           {
            "marker": {
             "colorbar": {
              "outlinewidth": 0,
              "ticks": ""
             }
            },
            "type": "scattergeo"
           }
          ],
          "scattergl": [
           {
            "marker": {
             "colorbar": {
              "outlinewidth": 0,
              "ticks": ""
             }
            },
            "type": "scattergl"
           }
          ],
          "scattermapbox": [
           {
            "marker": {
             "colorbar": {
              "outlinewidth": 0,
              "ticks": ""
             }
            },
            "type": "scattermapbox"
           }
          ],
          "scatterpolar": [
           {
            "marker": {
             "colorbar": {
              "outlinewidth": 0,
              "ticks": ""
             }
            },
            "type": "scatterpolar"
           }
          ],
          "scatterpolargl": [
           {
            "marker": {
             "colorbar": {
              "outlinewidth": 0,
              "ticks": ""
             }
            },
            "type": "scatterpolargl"
           }
          ],
          "scatterternary": [
           {
            "marker": {
             "colorbar": {
              "outlinewidth": 0,
              "ticks": ""
             }
            },
            "type": "scatterternary"
           }
          ],
          "surface": [
           {
            "colorbar": {
             "outlinewidth": 0,
             "ticks": ""
            },
            "colorscale": [
             [
              0,
              "#0d0887"
             ],
             [
              0.1111111111111111,
              "#46039f"
             ],
             [
              0.2222222222222222,
              "#7201a8"
             ],
             [
              0.3333333333333333,
              "#9c179e"
             ],
             [
              0.4444444444444444,
              "#bd3786"
             ],
             [
              0.5555555555555556,
              "#d8576b"
             ],
             [
              0.6666666666666666,
              "#ed7953"
             ],
             [
              0.7777777777777778,
              "#fb9f3a"
             ],
             [
              0.8888888888888888,
              "#fdca26"
             ],
             [
              1,
              "#f0f921"
             ]
            ],
            "type": "surface"
           }
          ],
          "table": [
           {
            "cells": {
             "fill": {
              "color": "#EBF0F8"
             },
             "line": {
              "color": "white"
             }
            },
            "header": {
             "fill": {
              "color": "#C8D4E3"
             },
             "line": {
              "color": "white"
             }
            },
            "type": "table"
           }
          ]
         },
         "layout": {
          "annotationdefaults": {
           "arrowcolor": "#2a3f5f",
           "arrowhead": 0,
           "arrowwidth": 1
          },
          "autotypenumbers": "strict",
          "coloraxis": {
           "colorbar": {
            "outlinewidth": 0,
            "ticks": ""
           }
          },
          "colorscale": {
           "diverging": [
            [
             0,
             "#8e0152"
            ],
            [
             0.1,
             "#c51b7d"
            ],
            [
             0.2,
             "#de77ae"
            ],
            [
             0.3,
             "#f1b6da"
            ],
            [
             0.4,
             "#fde0ef"
            ],
            [
             0.5,
             "#f7f7f7"
            ],
            [
             0.6,
             "#e6f5d0"
            ],
            [
             0.7,
             "#b8e186"
            ],
            [
             0.8,
             "#7fbc41"
            ],
            [
             0.9,
             "#4d9221"
            ],
            [
             1,
             "#276419"
            ]
           ],
           "sequential": [
            [
             0,
             "#0d0887"
            ],
            [
             0.1111111111111111,
             "#46039f"
            ],
            [
             0.2222222222222222,
             "#7201a8"
            ],
            [
             0.3333333333333333,
             "#9c179e"
            ],
            [
             0.4444444444444444,
             "#bd3786"
            ],
            [
             0.5555555555555556,
             "#d8576b"
            ],
            [
             0.6666666666666666,
             "#ed7953"
            ],
            [
             0.7777777777777778,
             "#fb9f3a"
            ],
            [
             0.8888888888888888,
             "#fdca26"
            ],
            [
             1,
             "#f0f921"
            ]
           ],
           "sequentialminus": [
            [
             0,
             "#0d0887"
            ],
            [
             0.1111111111111111,
             "#46039f"
            ],
            [
             0.2222222222222222,
             "#7201a8"
            ],
            [
             0.3333333333333333,
             "#9c179e"
            ],
            [
             0.4444444444444444,
             "#bd3786"
            ],
            [
             0.5555555555555556,
             "#d8576b"
            ],
            [
             0.6666666666666666,
             "#ed7953"
            ],
            [
             0.7777777777777778,
             "#fb9f3a"
            ],
            [
             0.8888888888888888,
             "#fdca26"
            ],
            [
             1,
             "#f0f921"
            ]
           ]
          },
          "colorway": [
           "#636efa",
           "#EF553B",
           "#00cc96",
           "#ab63fa",
           "#FFA15A",
           "#19d3f3",
           "#FF6692",
           "#B6E880",
           "#FF97FF",
           "#FECB52"
          ],
          "font": {
           "color": "#2a3f5f"
          },
          "geo": {
           "bgcolor": "white",
           "lakecolor": "white",
           "landcolor": "#E5ECF6",
           "showlakes": true,
           "showland": true,
           "subunitcolor": "white"
          },
          "hoverlabel": {
           "align": "left"
          },
          "hovermode": "closest",
          "mapbox": {
           "style": "light"
          },
          "paper_bgcolor": "white",
          "plot_bgcolor": "#E5ECF6",
          "polar": {
           "angularaxis": {
            "gridcolor": "white",
            "linecolor": "white",
            "ticks": ""
           },
           "bgcolor": "#E5ECF6",
           "radialaxis": {
            "gridcolor": "white",
            "linecolor": "white",
            "ticks": ""
           }
          },
          "scene": {
           "xaxis": {
            "backgroundcolor": "#E5ECF6",
            "gridcolor": "white",
            "gridwidth": 2,
            "linecolor": "white",
            "showbackground": true,
            "ticks": "",
            "zerolinecolor": "white"
           },
           "yaxis": {
            "backgroundcolor": "#E5ECF6",
            "gridcolor": "white",
            "gridwidth": 2,
            "linecolor": "white",
            "showbackground": true,
            "ticks": "",
            "zerolinecolor": "white"
           },
           "zaxis": {
            "backgroundcolor": "#E5ECF6",
            "gridcolor": "white",
            "gridwidth": 2,
            "linecolor": "white",
            "showbackground": true,
            "ticks": "",
            "zerolinecolor": "white"
           }
          },
          "shapedefaults": {
           "line": {
            "color": "#2a3f5f"
           }
          },
          "ternary": {
           "aaxis": {
            "gridcolor": "white",
            "linecolor": "white",
            "ticks": ""
           },
           "baxis": {
            "gridcolor": "white",
            "linecolor": "white",
            "ticks": ""
           },
           "bgcolor": "#E5ECF6",
           "caxis": {
            "gridcolor": "white",
            "linecolor": "white",
            "ticks": ""
           }
          },
          "title": {
           "x": 0.05
          },
          "xaxis": {
           "automargin": true,
           "gridcolor": "white",
           "linecolor": "white",
           "ticks": "",
           "title": {
            "standoff": 15
           },
           "zerolinecolor": "white",
           "zerolinewidth": 2
          },
          "yaxis": {
           "automargin": true,
           "gridcolor": "white",
           "linecolor": "white",
           "ticks": "",
           "title": {
            "standoff": 15
           },
           "zerolinecolor": "white",
           "zerolinewidth": 2
          }
         }
        }
       }
      }
     },
     "metadata": {},
     "output_type": "display_data"
    },
    {
     "data": {
      "text/plain": [
       "['Name Drop - Excision',\n",
       " 'Other Side - ILLENIUM',\n",
       " 'Big City Life - Luude',\n",
       " 'HIMARS - SCXR SOUL',\n",
       " 'Thunder - Gabry Ponte',\n",
       " 'Dancing Feet (feat. DNCE) - Kygo',\n",
       " 'Chills (LA Hills) - Tiësto',\n",
       " 'Better Days - Regard Remix - NEIKED',\n",
       " 'edamame (feat. Rich Brian) - Diplo Remix - bbno$',\n",
       " 'Shadow - Syn Cole',\n",
       " 'Hold Me Closer - Elton John',\n",
       " 'Easy - Nicky Romero',\n",
       " 'Feels Like Love (feat. MIYA MIYA) - Syn Cole',\n",
       " 'Shackles (Praise You) - MALARKEY',\n",
       " 'Be My One - Sonny Fodera',\n",
       " 'Numb - Marshmello',\n",
       " 'All Day (feat. Nonô) - Welshy',\n",
       " 'New Bottega - Torren Foot',\n",
       " 'On & On - Armin van Buuren',\n",
       " 'Million Dollar Baby - Nathan Dawe Remix - Ava Max',\n",
       " 'DRIVE - MoonDeity',\n",
       " 'Pretty People (feat. INJI) - Dillon Francis',\n",
       " 'Maria Maria - TECH IT DEEP',\n",
       " 'Another Life (feat. FLETCHER & Josh Golden) - Surf Mesa',\n",
       " 'The Fall - The Chainsmokers',\n",
       " 'Good Things - MÖWE',\n",
       " 'SHOOTERS - FORGOTTENAGE',\n",
       " 'Caught A Body (with Ty Dolla $ign) - Alesso',\n",
       " 'Believe (feat. Goodboys) - ACRAZE',\n",
       " 'Cardboard Box - Happi Remix - FLO',\n",
       " 'Hurt - Maikubi',\n",
       " 'Believe (feat. Goodboys) [Galantis Remix] - ACRAZE',\n",
       " 'Players (with David Guetta) - David Guetta Remix - Coi Leray',\n",
       " \"Hit 'Em Up Style (Oops!) - ESSEL\",\n",
       " 'Belly Dancer - Imanbek',\n",
       " 'METAMORPHOSIS 3 - INTERWORLD',\n",
       " 'Anti-Hero - Jayda G Remix - Taylor Swift',\n",
       " 'Lay Low - Tiësto',\n",
       " 'Afterparty - Loud Luxury',\n",
       " 'Sugar (feat. Soaky Siren) - Riton',\n",
       " 'Ferrari - James Hype',\n",
       " 'Marianela (Que Pasa) - HUGEL',\n",
       " \"CAN'T TOUCH THIS - R3HAB Remix - BIA\",\n",
       " 'vendetta! - MUPP',\n",
       " 'ME WITHOUT U - Kaleena Zanders',\n",
       " 'Summertime - Imanbek Remix - Lana Del Rey',\n",
       " 'Give It To Me - Full Vocal Mix - Matt Sassari',\n",
       " 'World Hold On - FISHER Rework - Bob Sinclar',\n",
       " \"Wings (I Won't Let You Down) - Armand Van Helden\",\n",
       " 'Clap Your Hands - Kungs',\n",
       " 'Afraid To Feel - LF SYSTEM',\n",
       " 'Wait For It - salute',\n",
       " 'A Milli - SIDEPIECE Remix - Lil Wayne',\n",
       " 'Pump It Up - Endor',\n",
       " 'The Best Part of Life (Imanbek Remix) - SAINt JHN',\n",
       " 'VAI DJ NPC SOCA COM VONTADE / MACHUCA MACHUCA - DJ NpcSize',\n",
       " 'Step Back! - 1nonly',\n",
       " 'dropitlikeitshot! - Sadfriendd',\n",
       " 'Feel Your Ghost - Tiësto',\n",
       " 'Players - DJ Smallz 732 - Jersey Club Remix - Coi Leray',\n",
       " 'Bad Memories - Felix Jaehn Remix - MEDUZA',\n",
       " 'Good Love - Hannah Laing',\n",
       " 'Désenchantée (Oli’s EuroRave Mix) - Oliver Heldens',\n",
       " 'BREATHE - yatashigang',\n",
       " 'WORTH NOTHING (feat. Oliver Tree) - Fast & Furious: Drift Tape/Phonk Vol 1 - TWISTED',\n",
       " 'We Will Meet Again - San Holo',\n",
       " 'HOLD YOU - Angrybaby',\n",
       " 'Push To Start (feat. No/Me) - Noizu',\n",
       " 'Ferrari - Oliver Heldens Remix - James Hype',\n",
       " 'Unholy (feat. Kim Petras) - Disclosure Remix - Sam Smith',\n",
       " 'Say It To Me - Otto Knows',\n",
       " 'On Repeat - Robin Schulz',\n",
       " 'Temptation - Bakermat',\n",
       " 'Move Your Body - Öwnboss',\n",
       " 'I Knew It Was You - Tungevaag',\n",
       " 'Do It To It - Tiësto Remix - ACRAZE',\n",
       " 'Freaky Deaky - R3HAB Remix - Tyga',\n",
       " 'Baby again.. - Fred again..',\n",
       " 'MTG - REBOLA NO MEU C4RALHO - DJ LA BEAT',\n",
       " 'Everything You Have Done - Meduza Edit - GENESI',\n",
       " 'Infinity - Borgeous',\n",
       " 'Baby Girl - Disco Lines',\n",
       " \"All I've Ever Known - Vandelux\",\n",
       " 'If The World Just Danced - MOTi Remix - Diana Ross',\n",
       " 'Wish I Could Forget (with blackbear & Bring Me The Horizon) - SLANDER',\n",
       " 'These Nights - Loud Luxury',\n",
       " 'Message In A Bottle (Fat Max G Remix) (Taylor’s Version) - Taylor Swift',\n",
       " 'Feeling Good - Austin Millz Remix - Nina Simone',\n",
       " '1x1 - Galantis',\n",
       " 'Shivers (Dillon Francis Remix) [Main Mix] - Ed Sheeran',\n",
       " 'Left and Right (feat. Jung Kook of BTS) - Galantis Remix - Charlie Puth',\n",
       " 'Run - Becky Hill',\n",
       " 'Rock My Body - R3HAB',\n",
       " 'Lightning To Strike - J. Worra',\n",
       " 'I Got A Feeling - Felix Jaehn',\n",
       " 'Life in Rio - Slowboy',\n",
       " 'Trials - NGHTMRE',\n",
       " 'In My Zone - Tungevaag',\n",
       " 'Relax My Eyes - ANOTR',\n",
       " 'Rhyme Dust - MK',\n",
       " 'MAMI - Chris Lorenzo',\n",
       " 'JOY (God Only Knows) - Joy Anonymous',\n",
       " 'Loving You (feat. Katy Alex) - Piero Pirupa',\n",
       " 'golden hour - R3HAB Remix - JVKE',\n",
       " 'When I’m Gone (with Katy Perry) - Alesso',\n",
       " 'All By Myself - Alok',\n",
       " 'Enjoy Your Life - Romy',\n",
       " 'Substitution - Purple Disco Machine',\n",
       " 'Never Going Home - Kungs',\n",
       " 'The Hard Way - PNAU',\n",
       " 'Free Yourself - Jessie Ware',\n",
       " 'Deep Down (feat. Never Dull) - Alok',\n",
       " 'Good Time - Jodie Harsh',\n",
       " 'BALADINHA SINISTRA - $werve',\n",
       " 'Griztronics II (Another Level) - GRiZ',\n",
       " 'Beat Goes On (Rhythm to the Brain) - Campbell',\n",
       " 'Ghost Town - VIZE',\n",
       " 'Be The One - Eli Brown',\n",
       " 'Hold Me Closer - Joel Corry Remix - Elton John',\n",
       " 'Where did you go - AVAION',\n",
       " 'Need You There - M-22',\n",
       " 'Heaven Takes You Home (feat. Connie Constance) - Swedish House Mafia',\n",
       " 'The Drop - Dimitri Vegas',\n",
       " 'Something About - CRi',\n",
       " 'Until We Leave the Ground - Steve James Remix - Emmit Fenn',\n",
       " \"Love Like We're Dying - Scorz\",\n",
       " 'Never Ending - Bob Moses',\n",
       " 'Yahyuppiyah (feat. Pcee, EeQue & Chley) - Uncle Waffles',\n",
       " 'ANUBIS - KUTE',\n",
       " 'Out of Time - KAYTRANADA Remix - The Weeknd',\n",
       " \"Life's Too Short - Two Friends\",\n",
       " 'Woke Up in Love - Kygo',\n",
       " 'Beautiful Life - John De Sohn',\n",
       " 'I Go Dancing (feat. Ella Henderson) - Frank Walker',\n",
       " 'Loved By U - TOKiMONSTA',\n",
       " 'Antibodies - LP Giobbi Remix - Tensnake',\n",
       " 'Fight Back - EBEN',\n",
       " 'Forget You (with Gabry Ponte) - LUM!X',\n",
       " 'Spirits Pt. 2 - Party Favor',\n",
       " 'Birdz - Wuki',\n",
       " 'Reaper (feat. JID) - Boombox Cartel',\n",
       " 'Laserbeam - Ray Volpe',\n",
       " 'Let Somebody Go - Kygo Remix - Coldplay',\n",
       " 'Off The Ground - Sub Focus',\n",
       " 'Hollow - Dabin',\n",
       " 'MURDER PLOT - Kordhell',\n",
       " 'Friday (feat. Mufasa & Hypeman) - Dopamine Re-Edit - Riton',\n",
       " 'BREAK MY SOUL - Beyoncé',\n",
       " 'Cold Heart - PNAU Remix - Elton John',\n",
       " \"You're Free - Icona Pop\",\n",
       " 'Friends - Dimitri Vegas',\n",
       " '2 Be Loved (Am I Ready) [PNAU Remix] - Lizzo',\n",
       " 'Joy - salute',\n",
       " 'With My Friends - Tungevaag',\n",
       " 'Crazy What Love Can Do - David Guetta',\n",
       " 'Best Is Yet To Come (with Kyle Reynolds) - Gryffin',\n",
       " 'My Universe - Galantis Remix - Coldplay',\n",
       " 'Next To You (feat. Kane Brown) - Loud Luxury',\n",
       " \"You've Got To Let Go If You Want To Be Free - Disclosure\",\n",
       " 'Ask Me - Duck Sauce',\n",
       " 'Bright Lights (feat. AR/CO) - Kx5',\n",
       " 'Another Love - Tiësto Remix - Tom Odell',\n",
       " 'By Your Side (feat. Tom Grennan) - Oliver Heldens Remix - Calvin Harris',\n",
       " 'Risk It All - Ella Henderson',\n",
       " 'Dance on My Own (feat. Richard Judge) - Frank Walker',\n",
       " \"It's Quiet Now (feat. Dope Earth Alien) - Honey Dijon\",\n",
       " 'Young Right Now - Robin Schulz',\n",
       " 'What It Feels Like - Navos',\n",
       " 'All Or Nothing - Topic',\n",
       " 'Esta Vida - Marshmello',\n",
       " 'Sunshine - MOTi Remix - OneRepublic',\n",
       " 'Like I Used To - Sonny Fodera',\n",
       " 'Disco Inferno - Syzz',\n",
       " 'Rainfall (Praise You) - Tom Santa',\n",
       " 'Who Do You Love - ARTY',\n",
       " 'Bad Memories (feat. Elley Duhé & FAST BOY) - MEDUZA',\n",
       " \"People Ain't Dancing (feat. Kah-Lo) - Billen Ted\",\n",
       " 'Rely On Me - Sigala',\n",
       " 'Goodies - Dillon Francis',\n",
       " 'Pump It Louder - Tiësto',\n",
       " 'ANGRY BIRDS PHONK - RXDXVIL',\n",
       " 'Those Eyes - ARTY',\n",
       " 'Call It Love - Felix Jaehn',\n",
       " 'You Know What I Need - PNAU',\n",
       " 'High Heels - Party Down Under - Sam Feldt vs. Flo Rida - Flo Rida',\n",
       " 'Love Again - Imanbek Remix - Dua Lipa',\n",
       " 'Work With My Love - Alok',\n",
       " 'Feels This Good - Sigala',\n",
       " 'Sete - BLOND:ISH',\n",
       " 'Better (feat. Teddy Swims) - MK',\n",
       " 'Let Me Take You - CID',\n",
       " '21 Reasons (feat. Ella Henderson) - Nathan Dawe',\n",
       " 'Rasputin - Majestic',\n",
       " 'Set Me Free - D.O.D',\n",
       " 'PHONK (200mg) - DEHA INC.',\n",
       " 'By Your Side (feat. Tom Grennan) - Calvin Harris',\n",
       " 'Wake Up! (feat. Kaleta) - Purple Disco Machine',\n",
       " 'Your Love Keeps Lifting Me Higher - Revival',\n",
       " 'Ritmo - Raffa Fl',\n",
       " 'Hot In It - Tiësto',\n",
       " 'Jacaré - Sofi Tukker',\n",
       " 'You Only Love Me - Shift K3Y Remix - Rita Ora',\n",
       " 'PHONKGASKAR - Rushex',\n",
       " \"I'm Good (Blue) - David Guetta\",\n",
       " 'Where Did You Go? (feat. MNEK) - Jax Jones',\n",
       " 'Let You Go - Diplo',\n",
       " \"Baby Don't Hurt Me - David Guetta\",\n",
       " 'Pepas - Farruko',\n",
       " 'Thunder - Lucas Estrada',\n",
       " 'Stay the Night - Sigala',\n",
       " 'Make Me Feel Good - Belters Only',\n",
       " \"Won't Forget You (Edit) - Shouse\",\n",
       " 'Night Feels - AR/CO',\n",
       " 'Journey (Take Me Where You Wanna) - Don Diablo',\n",
       " 'Giving Me - Jazzy',\n",
       " 'Different Side - Michael Bibi',\n",
       " 'No Fun - Lane 8',\n",
       " 'Deja Vu - Oliver Heldens',\n",
       " 'Motion - Vandelux',\n",
       " 'Heartaches - Shallou',\n",
       " 'Pyramids - Otto Knows',\n",
       " 'Forever And A Day - LP Giobbi',\n",
       " 'SHADOW - ONIMXRU',\n",
       " 'Mine To Love - Ross Quinn',\n",
       " 'Medicine - Lucas Estrada',\n",
       " 'Something About Your Love - SG Lewis',\n",
       " 'Saved My Life (with R3HAB) [R3HAB VIP Remix] - Andy Grammer',\n",
       " 'MONEY ON THE DASH - Elley Duhé',\n",
       " 'BRAND NEW BITCH - COBRAH',\n",
       " \"I Can't See - ROW\",\n",
       " 'Bones - twocolors Remix - Imagine Dragons',\n",
       " 'Be My Lover (feat. La Bouche) - 2023 Mix - Hypaton',\n",
       " \"Beggin' - Chris Lake\",\n",
       " 'Serotonin Moonbeams - The Blessed Madonna',\n",
       " 'How Do I Say Goodbye - Tiësto Remix - Dean Lewis',\n",
       " 'Escape - John Summit Remix - deadmau5',\n",
       " 'This Is The Sound - Riva Starr',\n",
       " 'Starlight (Keep Me Afloat) - Martin Garrix',\n",
       " 'Where You Are - John Summit',\n",
       " 'Escape (feat. Hayla) - Kx5',\n",
       " '2 Die 4 (Jax Jones Midnight Snacks Remix) - Tove Lo',\n",
       " 'Misbehave - Ship Wrek',\n",
       " 'Rise (Sam Feldt Remix) - Calum Scott',\n",
       " 'Words (feat. Zara Larsson) - Alesso',\n",
       " 'Wounded - Ferry Corsten',\n",
       " 'Drive (feat. Wes Nelson) - Topic VIP Remix - Clean Bandit',\n",
       " \"Don't Go Yet - Major Lazer Remix - Camila Cabello\",\n",
       " '10 Out Of 10 (feat. Kylie Minogue) - Oliver Heldens',\n",
       " 'Sunroof - Loud Luxury Remix - Nicky Youre',\n",
       " 'Never Gonna Not Dance Again - Sam Feldt Remix - P!nk',\n",
       " 'Lose My Mind - Jamie Jones',\n",
       " 'Good Ones - Joel Corry Remix - Charli XCX',\n",
       " 'Candle Flame - Jungle',\n",
       " 'Lose Control - 220 KID',\n",
       " 'My Head & My Heart - Claptone Remix - Ava Max',\n",
       " 'Heaven - Dimitri Vegas & Like Mike',\n",
       " 'Stay With Me (with Justin Timberlake, Halsey, & Pharrell) - Calvin Harris',\n",
       " 'DNA - Craig David',\n",
       " 'Whistle (feat. Calum Scott) - Jax Jones',\n",
       " 'Togetherness - LP Giobbi',\n",
       " 'You Make Me Feel - Solardo',\n",
       " 'Delilah (pull me out of this) - Fred again..',\n",
       " 'Delilah (Pull Me Out of This) - Fred again..',\n",
       " 'V I B R A T I O N - Kaleena Zanders',\n",
       " 'Crying On The Dancefloor (feat. Violet Days) - Sam Feldt',\n",
       " 'If We’ll Ever Be Remembered - Martin Garrix',\n",
       " 'Satisfaction - David Guetta',\n",
       " 'mine (Ty Sunderland Remix) - Kelly Clarkson',\n",
       " 'MONTAGEM - MELODIA ENVOLVENTE 4 - DJ Dudah',\n",
       " 'Made You Look - Joel Corry Remix - Meghan Trainor',\n",
       " 'Kernkraft 400 (A Better Day) - Topic',\n",
       " 'Don’t Wake Me Up - Jonas Blue',\n",
       " 'Fool 4 U (feat. Enisa) - Galantis',\n",
       " 'Midnight Rapture - Anabel Englund',\n",
       " 'Original Sin - Sofi Tukker',\n",
       " 'Legit - Erlandsson',\n",
       " 'Relight My Love - Matisse & Sadko',\n",
       " 'COLLAPSE - SHADXWBXRN',\n",
       " 'Happy Music - Supershy',\n",
       " 'Sinnerman - Sofi Tukker Remix - Nina Simone',\n",
       " 'Follow - Martin Garrix',\n",
       " 'Leave Me Low - Devault',\n",
       " 'Miracle Maker - Dom Dolla',\n",
       " 'House Of The Rising Sun - Nora Van Elken',\n",
       " \"Can't Help But Think About You - Lincoln Jesser\",\n",
       " 'Gratitude - Above & Beyond',\n",
       " 'DEUS DA GUERRA - $pidxrs?808',\n",
       " 'See In Color - Wax Motif',\n",
       " 'Say Say Say (feat. Paul McCartney & Michael Jackson) - Kygo',\n",
       " 'Take Me Home - Maikubi',\n",
       " 'what would you do? - Galantis Remix - Tate McRae',\n",
       " 'Good Feeling - Duvall',\n",
       " \"When I'm Gone (with Katy Perry) [VIP Mix] - Alesso\",\n",
       " 'RATATA - Skrillex',\n",
       " 'Beg for You (feat. Rina Sawayama) - Charli XCX',\n",
       " 'See You - Shallou',\n",
       " 'Lose Control - James Hype',\n",
       " \"Can't Get You out of My Head - Peggy Gou’s Midnight Remix - Kylie Minogue\",\n",
       " 'These Are The Days (feat. Liv Dawson) - Anton Powers',\n",
       " 'Steal My Clothes (ft. Bea Miller) – LP Giobbi Remix - Kito',\n",
       " 'Drinks on MI - Minelli',\n",
       " 'Colourblind - Jess Bays',\n",
       " 'Fever - Lewis Thompson',\n",
       " 'Shades Of Love (feat. The Joy) - The Blessed Madonna',\n",
       " 'Remember - Becky Hill',\n",
       " 'Here We Go Again - Oliver Tree',\n",
       " 'Praising You (feat. Fatboy Slim) - Rita Ora',\n",
       " 'Can’t Fight The Feeling - Matroda',\n",
       " 'El Merengue - Marshmello',\n",
       " '10:35 - Tiësto',\n",
       " 'Green Green Grass - Sam Feldt Remix - George Ezra',\n",
       " 'Stop This Flame - Celeste x MK - Celeste',\n",
       " 'I Love It (feat. Charli XCX) - I Don’t Care 2022 Re-Edit - Icona Pop',\n",
       " 'OUT OUT (feat. Charli XCX & Saweetie) - Joel Corry',\n",
       " 'SLAUGHTER HOUSE - Phonkha',\n",
       " 'Lavender Haze - Felix Jaehn Remix - Taylor Swift',\n",
       " 'The Motto - Tiësto',\n",
       " 'How Will I Know - Whitney Houston',\n",
       " 'Body Talk - Ofenbach',\n",
       " 'Sacrifice (Remix) (feat. Swedish House Mafia) - The Weeknd',\n",
       " 'REACT - Switch Disco',\n",
       " 'Anywhere With You - AFROJACK',\n",
       " 'Hallucination - Navos Remix - Regard',\n",
       " 'Like You Do - D.O.D',\n",
       " 'Killing Me - Aluna',\n",
       " 'Take Me To The Sunshine (feat. BullySongs) - Matoma',\n",
       " 'Mexico - Dimitri Vegas & Like Mike',\n",
       " 'Sun Will Shine - Robin Schulz',\n",
       " 'Follow Me - Sick Individuals Remix - Sam Feldt',\n",
       " 'More Love - Noizu',\n",
       " 'I Wanna Dance with Somebody (Who Loves Me) - David Solomon Remix - Whitney Houston',\n",
       " 'Turn Back Time - Marc Benjamin',\n",
       " 'More Than I Can Say - GAMPER & DADONI',\n",
       " 'Sacrifice - Kaskade',\n",
       " 'Aguila ft. Cumbiafrica - HUGEL',\n",
       " 'Wrong or Right (The Riddle) - Bassjackers',\n",
       " 'Billie (Loving Arms) - Fred again..',\n",
       " 'Remember (feat. Stevie Appleton) - Sonny Fodera',\n",
       " 'Somebody To Love - MARF',\n",
       " 'Danielle (Smile on My Face) - Fred again..',\n",
       " 'Like Crazy (Deep House Remix) - Jimin',\n",
       " 'A Second to Midnight - Kylie Minogue',\n",
       " 'Doses & Mimosas (Vintage Culture & Zerky Remix) - Radio Edit - Vintage Culture',\n",
       " 'Hear Me Say - Jonas Blue',\n",
       " 'SUICIDE YEAR - WEEDMANE',\n",
       " 'What You Say? - Young Marco',\n",
       " 'Miss You - Oliver Tree',\n",
       " 'COWBELL GOTH - DRAGONMANE',\n",
       " 'Dies Irae feat. Black Prez - Apashe',\n",
       " 'Shit We Do For Love - Icona Pop',\n",
       " 'Gassed Up - Zeds Dead',\n",
       " 'LAND OF FIRE - Kordhell',\n",
       " 'DAMN - JOYRYDE',\n",
       " 'Good Feeling (feat. Rhys Lewis) - Bakermat',\n",
       " 'Weekends - Jonas Blue',\n",
       " 'FEELING GUD - NGHTMRE',\n",
       " 'IMY (feat. Bella Renee) - REAPER',\n",
       " 'on & on - piri',\n",
       " 'COWBELL WARRIOR! - SXMPRA',\n",
       " 'gutter - venbee',\n",
       " 'Dancing is Healing - Rudimental',\n",
       " 'Obsolete - Sullivan King Remix - Of Mice & Men',\n",
       " 'Sacrificial - Rezz',\n",
       " 'We Are The People - southstar Remix - Empire of the Sun',\n",
       " 'SMOKE IT OFF! - Lumi Athena',\n",
       " 'Miracle (with Ellie Goulding) - Calvin Harris',\n",
       " 'Lose You - Felix Jaehn Remix - Sam Smith',\n",
       " 'By The End Of The Night - southstar Remix - Ellie Goulding',\n",
       " 'Hero - Martin Garrix',\n",
       " 'messy in heaven - venbee',\n",
       " 'Speakerbox (feat. Lafa Taylor) - Bassnectar',\n",
       " 'MEGAZORD - GRiZ',\n",
       " 'Sweet Caroline - Dimitri Vegas & Like Mike',\n",
       " 'Ecstasy Of Soul - Zeds Dead',\n",
       " 'I Know - Kanii',\n",
       " 'All Nighter - Tiësto',\n",
       " 'God On The Weekend - Ian Asher',\n",
       " 'Dance All Over Me - Jax Jones Remix - George Ezra',\n",
       " 'Original Sin - Felix Jaehn Remix - Sofi Tukker',\n",
       " 'Tell It To My Heart (feat. Hozier) - Tiësto Remix - MEDUZA',\n",
       " 'Ghost - Merk & Kremont Remix - Ava Max',\n",
       " 'Waterfall - Disclosure',\n",
       " 'Sweetest Pie - David Guetta Dance Remix - Megan Thee Stallion',\n",
       " 'The Funk - TIEKS',\n",
       " 'My Feelings For You - Mark Knight Remix - Avicii',\n",
       " 'Time to Groove (feat. Nonô) - Majestic',\n",
       " 'Make Me - Borai & Denham Audio',\n",
       " \"I Was Made For Lovin' You (feat. Nile Rodgers & House Gospel Choir) - Oliver Heldens\",\n",
       " 'Murder In My Mind - Kordhell',\n",
       " 'About Damn Time - Purple Disco Machine Remix - Lizzo',\n",
       " 'Summer In New York - Sofi Tukker',\n",
       " 'Lavender Haze - Snakehips Remix - Taylor Swift',\n",
       " 'Selfish Soul - ODESZA Remix - Sudan Archives',\n",
       " 'The Last Goodbye - ODESZA',\n",
       " 'IMMACULATE - VISXGE',\n",
       " 'Burning My Bridges - CLMD',\n",
       " 'Crazy - PLÜM',\n",
       " 'Twin Flame - KAYTRANADA',\n",
       " 'Unstoppable - R3HAB Remix - Sia',\n",
       " 'Long Summer Nights - Oliver Nelson',\n",
       " 'Arena - Fabian Mazur',\n",
       " 'Sometimes… (with Daya & Earthgang) - Snakehips',\n",
       " 'Fearless - Guapdad 4000',\n",
       " 'Call On Me (feat. Georgia Ku) - Sam Feldt',\n",
       " 'Scopin - Kordhell',\n",
       " 'Chasing Stars (feat. James Bay) - Alesso',\n",
       " 'Can We Be Free - KUURO',\n",
       " 'Love You Back - Madeon',\n",
       " \"More Than A Woman - SG's Paradise Edit - Bee Gees\",\n",
       " 'Griztronics - GRiZ',\n",
       " 'VUK VUK - Kordhell',\n",
       " 'Mercy - Jauz',\n",
       " 'HUMBLE. - SKRILLEX REMIX - Skrillex',\n",
       " 'HOJE EU VOU COMER NOVINHA 02 - DJ AG O GRINGO',\n",
       " 'Rebirth - Tinlicker',\n",
       " 'Broken - AVAION',\n",
       " 'If Love Is A Skill - LP Giobbi',\n",
       " 'I Need You - Elderbrook',\n",
       " 'Better Than This - John Summit',\n",
       " 'Coma Cat - Purple Disco Machine Re-Work - Tensnake',\n",
       " 'Why Not - Ghostface Playa',\n",
       " 'Live Another Day - Kordhell',\n",
       " \"Don't Give Up - Latroit\",\n",
       " 'Yeah The Girls - FISHER',\n",
       " 'Drugs From Amsterdam - Mau P',\n",
       " 'High On You - Lonely in the Rain',\n",
       " 'Own Paradise - LXAES',\n",
       " 'Matter of Time - Vandelux',\n",
       " 'AVOID ME - KUTE',\n",
       " 'Allein Allein - INNERVERSE',\n",
       " 'Electricity - DubVision',\n",
       " 'Catching Eyes - 49th & Main',\n",
       " 'Turn On The Lights again.. (feat. Future) - Fred again..',\n",
       " 'Friends - Emmit Fenn',\n",
       " 'Keep On Dancing - AVAION',\n",
       " 'What A Life (feat. Stevie Appleton) - John Summit',\n",
       " 'Talk It Over - Elderbrook',\n",
       " 'Let You Do This (with Buy Now) - Salvatore Ganacci',\n",
       " \"Smack Yo' - Beltran\",\n",
       " \"Can't Tame Her - VIZE Remix - Zara Larsson\",\n",
       " 'The Calling - Tchami',\n",
       " 'My Feelings For You - Don Diablo Remix - Avicii',\n",
       " 'Where Are You Now - Lost Frequencies',\n",
       " 'Ke Shy - Major Lazer',\n",
       " 'Just Say - Coco & Breezy',\n",
       " 'Numb - Alok Remix - Marshmello',\n",
       " 'Hero - Alan Walker',\n",
       " 'TRUSTFALL - Drove Remix - P!nk',\n",
       " 'Howl - Elderbrook',\n",
       " 'Dance With Somebody - Sam Feldt',\n",
       " 'Strong - Romy',\n",
       " 'New Gold (feat. Tame Impala and Bootie Brown) - Dom Dolla Remix - Gorillaz',\n",
       " 'The Best Part - gardenstate',\n",
       " 'Kamili - Francis Mercier',\n",
       " 'Override - KSLV Noh',\n",
       " 'SUCCUMB - Dxrk ダーク',\n",
       " 'Beat das Trevas - DJ MENOR DA ZN',\n",
       " 'go - goddard. Remix - Cat Burns',\n",
       " 'ECHO OF TERROR - requi3m',\n",
       " 'One Last Dance - Audien',\n",
       " 'Inner Light - Elderbrook',\n",
       " 'Memories (feat. Kid Cudi) - 2021 Remix - David Guetta',\n",
       " 'Side Effects - Becky Hill',\n",
       " 'Tina - Vintage Culture',\n",
       " 'Feels Just Like it - LP Giobbi',\n",
       " 'Set You Free - Lucas & Steve',\n",
       " 'Edge of Seventeen - Wuki',\n",
       " 'Let Me Love U - Baauer',\n",
       " 'Twilight - GRAVECHILL',\n",
       " 'Get Up Off The Floor - FORTELLA',\n",
       " 'The Music Began To Play - Mark Knight',\n",
       " 'PSYCHO CRUISE - ONIMXRU',\n",
       " 'Quiver - SILK',\n",
       " 'La Danza - John Summit',\n",
       " 'Baila Conmigo - Tiësto',\n",
       " 'Here - Shallou',\n",
       " 'NEON BLADE - MoonDeity',\n",
       " 'Gyrate (ft. Wreckno) - Rezz',\n",
       " 'ERROR - ROMANTICA',\n",
       " 'Chill Like That - Sunday Scaries',\n",
       " \"LET'S RIDE! - Drift Phonk - SXMPRA\",\n",
       " 'Attack of the Killer Beast (Phonk) - SXCREDMANE',\n",
       " 'KILL DEM - Jamie xx',\n",
       " 'U Ok? - PARISI',\n",
       " 'Redlight - Swedish House Mafia',\n",
       " 'Stargazing - Monocule',\n",
       " 'The Way We Were (feat. Plested) - Kygo',\n",
       " 'Poltergeist - RAIZHELL',\n",
       " 'TOKYO DRIFT - PRXSXNT FXTURE',\n",
       " 'Demons - Massane Remix - Jerro',\n",
       " 'Because You Move Me - Tinlicker',\n",
       " 'Suenos Bravos - Bodysync',\n",
       " 'All In A Dream - LP Giobbi',\n",
       " 'Lost - Le Youth',\n",
       " 'Baianá - Bakermat',\n",
       " 'THE ONE - INJI',\n",
       " 'Like Wooh Wooh - Radio Edit - Rnbstylerz',\n",
       " 'Sweet Nothings (feat. Minke) - Holiday87',\n",
       " 'Bel Mercy - Jengi',\n",
       " 'BULLET - FORGOTTENAGE',\n",
       " 'In The Yuma (feat. Aatig) - Chris Lake',\n",
       " 'JUDAS - SAY3AM',\n",
       " 'WAKE UP! - MoonDeity',\n",
       " 'Raye - Sultan + Shepard',\n",
       " 'Another You - BONNIE X CLYDE',\n",
       " 'GHOST! - phonk.me',\n",
       " 'CLASH - Edit - The Blaze',\n",
       " 'Disaster - KSLV Noh',\n",
       " 'MIDNIGHT - PLAYAMANE',\n",
       " 'Black Mascara. - RAYE',\n",
       " \"Don't Stop - Biscits\",\n",
       " 'Brazilian Phonk Mano - Slowboy',\n",
       " 'Life Is Good - Justin Caruso',\n",
       " 'Rumble - Skrillex',\n",
       " 'Jungle - Fred again..',\n",
       " 'Broken Lady - VØJ',\n",
       " 'Night Ride - FindMyName',\n",
       " 'Moth To A Flame (feat. The Weeknd) - Adriatique Remix - Swedish House Mafia',\n",
       " 'Fuck what u heard - The Blessed Madonna',\n",
       " 'Get Up - Eats Everything',\n",
       " 'Life on Hold - Nora En Pure',\n",
       " 'Sorry (with Madonna) - BLOND:ISH',\n",
       " 'Ininna Tora - Timmy Trumpet',\n",
       " 'B.O.T.A. (Baddest Of Them All) - Eliza Rose',\n",
       " 'B.O.T.A. (Baddest Of Them All) - Edit - Eliza Rose',\n",
       " 'dashstar* - Yellow Claw Trap Edit - Knock2',\n",
       " '|BONKERS| - staplegun',\n",
       " 'Here With Me - PEEKABOO',\n",
       " \"Swaggin' at the Partment - Ghostface Playa\",\n",
       " 'Devil Eyes - ZODIVK',\n",
       " 'DEMONS IN MY SOUL - SCXR SOUL',\n",
       " 'Sahara - Hensonn',\n",
       " 'Oh, Miles - Lane 8',\n",
       " 'Transmission - Joris Voorn Remix - Eelke Kleijn',\n",
       " 'Do You Feel The Same? - OCULA Remix - Emmit Fenn',\n",
       " \"Believer - Marsh's Guatape Remix - Above & Beyond\",\n",
       " 'Point Of No Return - Adam Port',\n",
       " 'Red Lights - EMBRZ Remix - Lane 8',\n",
       " 'Daybreak - Alice DiMar',\n",
       " 'Hopeful - ODESZA',\n",
       " 'Oceanside Girl - Holo',\n",
       " 'Your Mind - CamelPhat',\n",
       " 'Trompeta - San Pacho',\n",
       " 'INCOMING - MC ORSEN',\n",
       " 'LILITH - ZODIVK',\n",
       " 'MOZART PHONK - NUEKI',\n",
       " 'Make Me Feel - The Chainsmokers',\n",
       " 'Safe - Joris Voorn Remix - Monkey Safari',\n",
       " 'Phonky Town - PlayaPhonk',\n",
       " 'POOR - gqtis',\n",
       " 'In Control - Innellea Remix - Forma',\n",
       " 'Just - Amtrac',\n",
       " 'I Do - PLÜM',\n",
       " 'Over You - Dillistone',\n",
       " 'Erase - Ben Böhmer',\n",
       " 'Tears - Tim Green',\n",
       " 'Upside Down (feat. Poppy Baskcomb) - MEDUZA',\n",
       " 'Children - Radio Edit - Deborah de Luca',\n",
       " 'Apollo - Original Mix - Charlotte de Witte',\n",
       " 'TOTALITARIANISM II - STAYSOLD',\n",
       " 'Old School - Marshmello',\n",
       " 'Judgement Day - Hardwell',\n",
       " 'Sunrise Bang Ur Head Against Tha Wall - Nia Archives',\n",
       " 'Dark Side - Slowed + Reverb - XAN$X',\n",
       " 'RITMADINHA DANÇANTE - DJ GUDOG',\n",
       " 'North Memphis - Pharmacist',\n",
       " 'Flare - Hensonn',\n",
       " \"Mom's Here - TTM\",\n",
       " 'Voodoo - Tinlicker',\n",
       " 'Indulgence - Nora En Pure',\n",
       " 'These Things Will Come To Be - DJ Seinfeld',\n",
       " 'Cimmerian - Lipless',\n",
       " 'Cynnes - il:lo',\n",
       " 'Suffer In Silence - Rezz',\n",
       " 'Lost In Space - Emmit Fenn',\n",
       " 'RAPTURE - INTERWORLD',\n",
       " 'Why - Bobby Love',\n",
       " 'Close Eyes - DVRST',\n",
       " 'Puzzle Box - Rezz',\n",
       " 'Manila Palm - Parra for Cuva',\n",
       " 'Hiraeth (feat. Kim Van Loo) - Fejká',\n",
       " 'Sunrays - AK',\n",
       " 'Beyond Beliefs - Ben Böhmer',\n",
       " 'Ronda - Christian Löffler',\n",
       " 'Beyond the Fire - Don Diablo',\n",
       " 'I Never Really Cared - Stoto',\n",
       " 'Atlas - Lane 8',\n",
       " 'Another Time - TWO LANES',\n",
       " 'Envy - Christian Löffler',\n",
       " 'Light Up - nimino',\n",
       " 'Ordel - Parra for Cuva',\n",
       " 'Fruit&Sun - ford.',\n",
       " 'Survive - Lane 8',\n",
       " 'METAMORPHOSIS - INTERWORLD',\n",
       " 'The Chase - Emmit Fenn',\n",
       " 'Something Was Real - Eli & Fur',\n",
       " 'Breathing - Ben Böhmer',\n",
       " 'Phonky Tribu - Funk Tribu',\n",
       " 'Better Love - Eliza Rose',\n",
       " 'Forever And A Day - Diplo Remix - LP Giobbi',\n",
       " 'Feels - Wh0',\n",
       " 'Tell Me Something Good - Ewan McVicar',\n",
       " 'PRINCE OF DARKNESS - SHADXWBXRN',\n",
       " 'Always - Monkey Safari Remix - RÜFÜS DU SOL',\n",
       " 'Consciousness - Eric Prydz Remix - Anyma',\n",
       " 'Breaking Apart - Jerro',\n",
       " 'The Observer - Kasper Koman',\n",
       " 'Just Over - Yotto',\n",
       " 'Turn On The Lights again.. (feat. Future) - Anyma Remix - Fred again..',\n",
       " 'The Sign - CamelPhat',\n",
       " 'classical phonk - 0to8',\n",
       " 'Sea Of Problems - glichery',\n",
       " 'Voodoo - Gorgon City',\n",
       " 'Turning Away - Parra for Cuva Remix - Monolink',\n",
       " 'New Fires - Christian Löffler',\n",
       " 'I’ll Find My Way To You - Elderbrook',\n",
       " 'Tell Me Why - MEDUZA Remix - Supermode',\n",
       " 'Rewind.. (But I Love You) - WHIPPED CREAM',\n",
       " 'Beyond Us - Hatshepsut Version - Eynka',\n",
       " 'I FEEL LIKE DANCING - Hardwell',\n",
       " 'Euphoria - Claptone',\n",
       " 'Running up That Hill - Dayne S',\n",
       " 'Anywhere - Lonely in the Rain',\n",
       " 'Eyes - TWO LANES',\n",
       " 'Salta - Sultan + Shepard',\n",
       " 'Woman - Lane 8',\n",
       " 'Spring Embers - Nora En Pure',\n",
       " 'Hold Me - Lavern',\n",
       " 'Paradox - Lipless',\n",
       " 'GigaChad Theme - Phonk House Version - g3ox_em',\n",
       " \"BLAST EM' - Aega\",\n",
       " 'Guddi Riddim - DJ Snake',\n",
       " 'Need Somebody - Jerro',\n",
       " 'Canopée des Cîmes - Jan Blomqvist',\n",
       " 'RAVE - Dxrk ダーク',\n",
       " 'Rolling Back - TWO LANES',\n",
       " 'Eternity - Anyma',\n",
       " 'Gimme That Bounce - Mau P',\n",
       " 'STARFALL - MoonDeity',\n",
       " 'Clouds - BUNT.',\n",
       " 'Lost My Mind (Wake Up) - BUNT.',\n",
       " 'SUNRISE (Slowed + Reverb) - Xantesha',\n",
       " 'Rhythm (Of The Night) - Something Good',\n",
       " 'Good Lies - Overmono',\n",
       " 'One Three Nine - Zeds Dead',\n",
       " 'TUTUTUTU - NUEKI',\n",
       " 'Explore Your Future - Anyma',\n",
       " 'Take Me Away - ACRAZE',\n",
       " 'Titanium (feat. Sia) - David Guetta & MORTEN Future Rave Remix - David Guetta',\n",
       " 'Like Wooh Wooh - Rnbstylerz',\n",
       " 'Catch - Jones Meadow',\n",
       " 'Remember - King Henry',\n",
       " 'Deadly Vice - MUPP',\n",
       " 'CRIME - NORTMIRAGE',\n",
       " 'Assassin - Sultan + Shepard',\n",
       " 'All Night Long - Y.V.E. 48 Remix - Nora Van Elken',\n",
       " 'Seasons - Arinity',\n",
       " 'Run - NORRA',\n",
       " 'Designer Love - Short Version - MARIA Die RUHE',\n",
       " 'Tal - pølaroit',\n",
       " 'Light Of Day - ODESZA',\n",
       " 'Crystals - Isolate.exe',\n",
       " 'Slapper - Fast & Furious: Drift Tape/Phonk Vol 1 - DVRST',\n",
       " 'help urself - HXI',\n",
       " 'Laidback - Memphis Cult',\n",
       " 'Phonk Drift - VØJ',\n",
       " 'There For You - Y.V.E. 48',\n",
       " 'High Tide - Shallou',\n",
       " 'How Do I Make You Love Me? - Sebastian Ingrosso & Salvatore Ganacci Remix - The Weeknd',\n",
       " 'Revolution - Hardwell',\n",
       " 'Keraunos - PlayaPhonk',\n",
       " 'Push Up - Original Mix - Creeds',\n",
       " 'DIE LIEBE KOMMT NICHT AUS BERLIN - Brutalismus 3000',\n",
       " 'Scary Garry - Kaito Shoma',\n",
       " 'Ready To Fly - Sub Focus & Dimension - Sub Focus',\n",
       " 'Heute Nacht - Maddix',\n",
       " 'Feel Your Weight - Poolside Remix - Rhye',\n",
       " 'Ghostkeeper - Klangkarussell']"
      ]
     },
     "execution_count": 23,
     "metadata": {},
     "output_type": "execute_result"
    }
   ],
   "source": [
    "tracklist, tracklist_ids = sort_tracklist(truncated_tracklist)\n",
    "tracklist"
   ]
  },
  {
   "cell_type": "code",
   "execution_count": 34,
   "metadata": {},
   "outputs": [
    {
     "name": "stdout",
     "output_type": "stream",
     "text": [
      "Tracks added successfully!\n"
     ]
    }
   ],
   "source": [
    "redirect_uri = 'https://example.com/callback'\n",
    "scope = 'playlist-modify-private'\n",
    "\n",
    "sp = spotipy.Spotify(auth_manager=SpotifyOAuth(client_id=CLIENT_ID,\n",
    "                                                client_secret=SECRET_KEY,\n",
    "                                                redirect_uri=redirect_uri,\n",
    "                                                scope=scope))\n",
    "\n",
    "# Create a playlist\n",
    "playlist_name = input(\"Playlist name?\")\n",
    "playlist_description = input(\"Playlist description?\")\n",
    "user_id = sp.current_user()['id']\n",
    "playlist = sp.user_playlist_create(user_id, playlist_name, public=False, description=playlist_description)\n",
    "playlist_id = playlist['id']\n",
    "\n",
    "# Add tracks to the playlist\n",
    "for i in range(int(np.ceil(len(tracklist_ids)/100))):\n",
    "    sp.user_playlist_add_tracks(user_id, playlist_id, tracklist_ids[i*100:(i+1)*100])\n",
    "\n",
    "print('Tracks added successfully!')"
   ]
  }
 ],
 "metadata": {
  "kernelspec": {
   "display_name": "base",
   "language": "python",
   "name": "python3"
  },
  "language_info": {
   "codemirror_mode": {
    "name": "ipython",
    "version": 3
   },
   "file_extension": ".py",
   "mimetype": "text/x-python",
   "name": "python",
   "nbconvert_exporter": "python",
   "pygments_lexer": "ipython3",
   "version": "3.10.9"
  },
  "orig_nbformat": 4
 },
 "nbformat": 4,
 "nbformat_minor": 2
}
