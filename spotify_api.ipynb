{
 "cells": [
  {
   "cell_type": "code",
   "execution_count": 11,
   "metadata": {},
   "outputs": [],
   "source": [
    "import pandas as pd\n",
    "import spotipy\n",
    "from spotipy.oauth2 import SpotifyClientCredentials\n",
    "from spotipy.oauth2 import SpotifyOAuth\n",
    "from sklearn.cluster import KMeans\n",
    "from sklearn.cluster import AgglomerativeClustering\n",
    "from sklearn.preprocessing import MinMaxScaler\n",
    "from sklearn.preprocessing import StandardScaler\n",
    "from sklearn.preprocessing import LabelEncoder\n",
    "import numpy as np\n",
    "import matplotlib.pyplot as plt\n",
    "from yellowbrick.cluster import KElbowVisualizer\n",
    "from sklearn.decomposition import PCA\n",
    "import plotly.express as px\n",
    "from sklearn.neighbors import NearestNeighbors\n",
    "pd.set_option('mode.chained_assignment', None)"
   ]
  },
  {
   "cell_type": "code",
   "execution_count": 4,
   "metadata": {},
   "outputs": [],
   "source": [
    "CLIENT_ID = input(\"What is your client ID?\")\n",
    "SECRET_KEY = input(\"What is your secret key?\")"
   ]
  },
  {
   "cell_type": "code",
   "execution_count": 13,
   "metadata": {},
   "outputs": [],
   "source": [
    "client_credentials_manager = SpotifyClientCredentials(client_id=CLIENT_ID, client_secret=SECRET_KEY)\n",
    "spotify = spotipy.Spotify(client_credentials_manager=client_credentials_manager)"
   ]
  },
  {
   "cell_type": "code",
   "execution_count": 15,
   "metadata": {},
   "outputs": [
    {
     "name": "stdout",
     "output_type": "stream",
     "text": [
      "Total: 55\n"
     ]
    }
   ],
   "source": [
    "canada_categories = spotify.categories(country='CA', limit=50)\n",
    "\n",
    "all_categories = {}\n",
    "for category in canada_categories['categories']['items']:\n",
    "    all_categories[category['name']] = category['id']\n",
    "i=1\n",
    "while canada_categories['categories']['next']:\n",
    "    canada_categories = spotify.categories(country='CA',limit=50, offset=i*50)\n",
    "    for category in canada_categories['categories']['items']:\n",
    "        all_categories[category['name']] = category['id']\n",
    "    i+=1\n",
    "\n",
    "print(f\"Total: {len(all_categories)}\")"
   ]
  },
  {
   "cell_type": "code",
   "execution_count": 5,
   "metadata": {},
   "outputs": [
    {
     "name": "stdout",
     "output_type": "stream",
     "text": [
      "Top Lists\n",
      "Hip-Hop\n",
      "Pop\n",
      "Summer\n",
      "Country\n",
      "Rock\n",
      "Mood\n",
      "Workout\n",
      "Chill\n",
      "R&B\n",
      "Decades\n",
      "Francophone\n",
      "Netflix\n",
      "Caribbean\n",
      "Dance/Electronic\n",
      "Indie\n",
      "Fresh Finds\n",
      "Latin\n",
      "RADAR\n",
      "EQUAL\n",
      "Frequency\n",
      "Pride\n",
      "Party\n",
      "Focus\n",
      "Alternative\n",
      "theLINER\n",
      "Sleep\n",
      "Instrumental\n",
      "Ambient\n",
      "Wellness\n",
      "Folk & Acoustic\n",
      "Romance\n",
      "Tastemakers\n",
      "Commute\n",
      "Classical\n",
      "Jazz\n",
      "Gaming\n",
      "Christian & Gospel\n",
      "Cooking & Dining\n",
      "K-Pop\n",
      "Desi\n",
      "Afro\n",
      "API Heritage Month\n",
      "Metal\n",
      "Punk\n",
      "Soul\n",
      "Funk\n",
      "Blues\n",
      "Arab\n",
      "Student\n",
      "Kids & Family\n",
      "Pop culture\n",
      "Anime\n",
      "Comedy\n",
      "Spotify Singles\n"
     ]
    }
   ],
   "source": [
    "for category in all_categories.keys():\n",
    "    print(category)"
   ]
  },
  {
   "cell_type": "code",
   "execution_count": 6,
   "metadata": {},
   "outputs": [],
   "source": [
    "def get_category_playlists(category_key):\n",
    "    category_playlists = spotify.category_playlists(category_id=all_categories[category_key], limit=50, offset=0, country='CA')\n",
    "\n",
    "    all_playlists = []\n",
    "    for playlist in category_playlists['playlists']['items']:\n",
    "        all_playlists.append(playlist['id'])\n",
    "    i=1\n",
    "    while category_playlists['playlists']['next']:\n",
    "        category_playlists = spotify.category_playlists(category_id=all_categories[category_key], limit=50, offset=i*50, country='CA')\n",
    "        for playlist in category_playlists['playlists']['items']:\n",
    "            all_playlists.append(playlist['id'])\n",
    "        i+=1\n",
    "\n",
    "    print(f\"Total: {len(all_playlists)}\")\n",
    "    return all_playlists"
   ]
  },
  {
   "cell_type": "code",
   "execution_count": 7,
   "metadata": {},
   "outputs": [
    {
     "name": "stdout",
     "output_type": "stream",
     "text": [
      "Total: 88\n"
     ]
    }
   ],
   "source": [
    "category_key = input('Which category?')\n",
    "category_playlists = get_category_playlists(category_key)"
   ]
  },
  {
   "cell_type": "code",
   "execution_count": 8,
   "metadata": {},
   "outputs": [],
   "source": [
    "playlists_followers = {}\n",
    "for playlist in category_playlists:\n",
    "    playlists_followers[playlist] = spotify.playlist(playlist, market='CA')['followers']['total']"
   ]
  },
  {
   "cell_type": "code",
   "execution_count": 9,
   "metadata": {},
   "outputs": [
    {
     "data": {
      "text/plain": [
       "['37i9dQZF1DX4dyzvuaRJ0n',\n",
       " '37i9dQZF1DWWY64wDtewQt',\n",
       " '37i9dQZF1DXaXB8fQg7xif',\n",
       " '37i9dQZF1DX0BcQWzuB7ZO',\n",
       " '37i9dQZF1DX6VdMW310YC7',\n",
       " '37i9dQZF1DXcZDD7cfEKhW',\n",
       " '37i9dQZF1DX2TRYkJECvfC',\n",
       " '37i9dQZF1DX4eRPd9frC1m',\n",
       " '37i9dQZF1DX32NsLKyzScr',\n",
       " '37i9dQZF1DWSf2RDTDayIx']"
      ]
     },
     "execution_count": 9,
     "metadata": {},
     "output_type": "execute_result"
    }
   ],
   "source": [
    "sorted_playlists = dict(sorted(playlists_followers.items(), key=lambda item: item[1], reverse=True))\n",
    "top_playlists = [key for key in list(sorted_playlists.keys())[:10]] # If you'd like more than 10 playlists to be included, increase the number here [:n].\n",
    "top_playlists"
   ]
  },
  {
   "cell_type": "code",
   "execution_count": 10,
   "metadata": {},
   "outputs": [],
   "source": [
    "def get_track_search(playlist, index):\n",
    "    search = ''\n",
    "    search += playlist[index]['track']['name']\n",
    "    search += ' - '\n",
    "    search += playlist[index]['track']['artists'][0]['name']\n",
    "    return search"
   ]
  },
  {
   "cell_type": "code",
   "execution_count": 13,
   "metadata": {},
   "outputs": [],
   "source": [
    "def get_playlist_tracklist(playlists):\n",
    "    tracklist = []\n",
    "    for playlist in playlists:\n",
    "        playlist_meta_dict = spotify.playlist_tracks(playlist)\n",
    "        if playlist_meta_dict['next']:\n",
    "            playlist_tracks = []\n",
    "            current_playlist = playlist_meta_dict\n",
    "            for t, track in enumerate(current_playlist['items']):\n",
    "                playlist_tracks.append(track)\n",
    "            i = 1\n",
    "            while current_playlist['next']:\n",
    "                current_playlist = spotify.playlist_tracks(playlist, offset = i*100)\n",
    "                for t, track in enumerate(current_playlist['items']):\n",
    "                    playlist_tracks.append(track)\n",
    "                i += 1\n",
    "        else:\n",
    "            playlist_tracks = playlist_meta_dict['items']\n",
    "\n",
    "        print(len(playlist_tracks))\n",
    "        for track_index in range(len(playlist_tracks)):\n",
    "            tracks_dict = {}\n",
    "            tracks_dict['search'] = get_track_search(playlist_tracks, track_index)\n",
    "            global track_id\n",
    "            track_id = playlist_tracks[track_index]['track']['id']\n",
    "            tracks_dict['id'] = track_id\n",
    "            tracks_dict['href'] = playlist_tracks[track_index]['track']['href']\n",
    "            tracks_dict['popularity'] = playlist_tracks[track_index]['track']['popularity']\n",
    "            try:\n",
    "                track_audio_analysis = spotify.audio_analysis(track_id)\n",
    "                tracks_dict['duration'] = track_audio_analysis['track']['duration']\n",
    "                tracks_dict['loudness'] = track_audio_analysis['track']['loudness']\n",
    "                tracks_dict['tempo'] = track_audio_analysis['track']['tempo']\n",
    "                tracks_dict['time_signature'] = track_audio_analysis['track']['time_signature']\n",
    "                tracks_dict['key'] = track_audio_analysis['track']['key']\n",
    "                tracks_dict['mode'] = track_audio_analysis['track']['mode']\n",
    "                track_audio_features = spotify.audio_features(track_id)[0]\n",
    "                tracks_dict['danceability'] = track_audio_features['danceability']\n",
    "                tracks_dict['energy'] = track_audio_features['energy']\n",
    "                tracks_dict['speechiness'] = track_audio_features['speechiness']\n",
    "                tracks_dict['acousticness'] = track_audio_features['acousticness']\n",
    "                tracks_dict['instrumentalness'] = track_audio_features['instrumentalness']\n",
    "                tracks_dict['liveness'] = track_audio_features['liveness']\n",
    "                tracks_dict['valence'] = track_audio_features['valence']\n",
    "                tracklist.append(tracks_dict)\n",
    "            except:\n",
    "                tracks_dict['duration'] = pd.NA\n",
    "                tracks_dict['loudness'] = pd.NA\n",
    "                tracks_dict['tempo'] = pd.NA\n",
    "                tracks_dict['time_signature'] = pd.NA\n",
    "                tracks_dict['key'] = pd.NA\n",
    "                tracks_dict['mode'] = pd.NA\n",
    "                tracks_dict['danceability'] = pd.NA\n",
    "                tracks_dict['energy'] = pd.NA\n",
    "                tracks_dict['speechiness'] = pd.NA\n",
    "                tracks_dict['acousticness'] = pd.NA\n",
    "                tracks_dict['instrumentalness'] = pd.NA\n",
    "                tracks_dict['liveness'] = pd.NA\n",
    "                tracks_dict['valence'] = pd.NA\n",
    "                tracklist.append(tracks_dict)\n",
    "    return tracklist"
   ]
  },
  {
   "attachments": {},
   "cell_type": "markdown",
   "metadata": {},
   "source": [
    "If you would rather input your own/custom playlists, uncomment the cell below and input the links to the playlists."
   ]
  },
  {
   "cell_type": "code",
   "execution_count": 5,
   "metadata": {},
   "outputs": [],
   "source": [
    "# user_playlists = []\n",
    "# statement = True\n",
    "# while statement == True:\n",
    "#     user_playlists.append(input('What is the playlist link?')[34:-20])\n",
    "#     statement = [True if input(\"More playlists to add? (Y/N)\") == 'Y' else None]\n",
    "# user_playlists"
   ]
  },
  {
   "cell_type": "code",
   "execution_count": null,
   "metadata": {},
   "outputs": [],
   "source": [
    "playlist_tracklist = get_playlist_tracklist(top_playlists)"
   ]
  },
  {
   "cell_type": "code",
   "execution_count": 26,
   "metadata": {},
   "outputs": [
    {
     "data": {
      "text/html": [
       "<div>\n",
       "<style scoped>\n",
       "    .dataframe tbody tr th:only-of-type {\n",
       "        vertical-align: middle;\n",
       "    }\n",
       "\n",
       "    .dataframe tbody tr th {\n",
       "        vertical-align: top;\n",
       "    }\n",
       "\n",
       "    .dataframe thead th {\n",
       "        text-align: right;\n",
       "    }\n",
       "</style>\n",
       "<table border=\"1\" class=\"dataframe\">\n",
       "  <thead>\n",
       "    <tr style=\"text-align: right;\">\n",
       "      <th></th>\n",
       "      <th>search</th>\n",
       "      <th>id</th>\n",
       "      <th>href</th>\n",
       "      <th>popularity</th>\n",
       "      <th>duration</th>\n",
       "      <th>loudness</th>\n",
       "      <th>tempo</th>\n",
       "      <th>time_signature</th>\n",
       "      <th>key</th>\n",
       "      <th>mode</th>\n",
       "      <th>danceability</th>\n",
       "      <th>energy</th>\n",
       "      <th>speechiness</th>\n",
       "      <th>acousticness</th>\n",
       "      <th>instrumentalness</th>\n",
       "      <th>liveness</th>\n",
       "      <th>valence</th>\n",
       "    </tr>\n",
       "  </thead>\n",
       "  <tbody>\n",
       "    <tr>\n",
       "      <th>0</th>\n",
       "      <td>I'm Good (Blue) - David Guetta</td>\n",
       "      <td>4uUG5RXrOk84mYEfFvj3cK</td>\n",
       "      <td>https://api.spotify.com/v1/tracks/4uUG5RXrOk84...</td>\n",
       "      <td>94</td>\n",
       "      <td>175.23810</td>\n",
       "      <td>-3.673</td>\n",
       "      <td>128.040</td>\n",
       "      <td>4.0</td>\n",
       "      <td>7.0</td>\n",
       "      <td>0.0</td>\n",
       "      <td>0.561</td>\n",
       "      <td>0.965</td>\n",
       "      <td>0.0343</td>\n",
       "      <td>0.003830</td>\n",
       "      <td>0.000007</td>\n",
       "      <td>0.3710</td>\n",
       "      <td>0.304</td>\n",
       "    </tr>\n",
       "    <tr>\n",
       "      <th>1</th>\n",
       "      <td>Miracle (with Ellie Goulding) - Calvin Harris</td>\n",
       "      <td>5eTaQYBE1yrActixMAeLcZ</td>\n",
       "      <td>https://api.spotify.com/v1/tracks/5eTaQYBE1yrA...</td>\n",
       "      <td>91</td>\n",
       "      <td>186.49615</td>\n",
       "      <td>-5.289</td>\n",
       "      <td>143.011</td>\n",
       "      <td>4.0</td>\n",
       "      <td>9.0</td>\n",
       "      <td>1.0</td>\n",
       "      <td>0.636</td>\n",
       "      <td>0.869</td>\n",
       "      <td>0.0412</td>\n",
       "      <td>0.037800</td>\n",
       "      <td>0.044600</td>\n",
       "      <td>0.0808</td>\n",
       "      <td>0.306</td>\n",
       "    </tr>\n",
       "    <tr>\n",
       "      <th>2</th>\n",
       "      <td>El Merengue - Marshmello</td>\n",
       "      <td>51FvjPEGKq2zByeeEQ43V9</td>\n",
       "      <td>https://api.spotify.com/v1/tracks/51FvjPEGKq2z...</td>\n",
       "      <td>91</td>\n",
       "      <td>189.66853</td>\n",
       "      <td>-3.079</td>\n",
       "      <td>123.982</td>\n",
       "      <td>4.0</td>\n",
       "      <td>8.0</td>\n",
       "      <td>0.0</td>\n",
       "      <td>0.775</td>\n",
       "      <td>0.677</td>\n",
       "      <td>0.0442</td>\n",
       "      <td>0.031300</td>\n",
       "      <td>0.005170</td>\n",
       "      <td>0.1120</td>\n",
       "      <td>0.698</td>\n",
       "    </tr>\n",
       "    <tr>\n",
       "      <th>3</th>\n",
       "      <td>Baby Don't Hurt Me - David Guetta</td>\n",
       "      <td>3BKD1PwArikchz2Zrlp1qi</td>\n",
       "      <td>https://api.spotify.com/v1/tracks/3BKD1PwArikc...</td>\n",
       "      <td>90</td>\n",
       "      <td>140.01768</td>\n",
       "      <td>-3.404</td>\n",
       "      <td>127.944</td>\n",
       "      <td>4.0</td>\n",
       "      <td>7.0</td>\n",
       "      <td>1.0</td>\n",
       "      <td>0.602</td>\n",
       "      <td>0.910</td>\n",
       "      <td>0.0308</td>\n",
       "      <td>0.001260</td>\n",
       "      <td>0.000174</td>\n",
       "      <td>0.1200</td>\n",
       "      <td>0.228</td>\n",
       "    </tr>\n",
       "    <tr>\n",
       "      <th>4</th>\n",
       "      <td>METAMORPHOSIS - INTERWORLD</td>\n",
       "      <td>2ksyzVfU0WJoBpu8otr4pz</td>\n",
       "      <td>https://api.spotify.com/v1/tracks/2ksyzVfU0WJo...</td>\n",
       "      <td>89</td>\n",
       "      <td>142.83926</td>\n",
       "      <td>-12.727</td>\n",
       "      <td>175.014</td>\n",
       "      <td>4.0</td>\n",
       "      <td>7.0</td>\n",
       "      <td>0.0</td>\n",
       "      <td>0.593</td>\n",
       "      <td>0.641</td>\n",
       "      <td>0.0992</td>\n",
       "      <td>0.426000</td>\n",
       "      <td>0.901000</td>\n",
       "      <td>0.1220</td>\n",
       "      <td>0.147</td>\n",
       "    </tr>\n",
       "    <tr>\n",
       "      <th>...</th>\n",
       "      <td>...</td>\n",
       "      <td>...</td>\n",
       "      <td>...</td>\n",
       "      <td>...</td>\n",
       "      <td>...</td>\n",
       "      <td>...</td>\n",
       "      <td>...</td>\n",
       "      <td>...</td>\n",
       "      <td>...</td>\n",
       "      <td>...</td>\n",
       "      <td>...</td>\n",
       "      <td>...</td>\n",
       "      <td>...</td>\n",
       "      <td>...</td>\n",
       "      <td>...</td>\n",
       "      <td>...</td>\n",
       "      <td>...</td>\n",
       "    </tr>\n",
       "    <tr>\n",
       "      <th>921</th>\n",
       "      <td>Keramas - Moon Boots</td>\n",
       "      <td>6QYthxincEvqQzGkfAOAiK</td>\n",
       "      <td>https://api.spotify.com/v1/tracks/6QYthxincEvq...</td>\n",
       "      <td>40</td>\n",
       "      <td>224.44872</td>\n",
       "      <td>-7.327</td>\n",
       "      <td>122.018</td>\n",
       "      <td>4.0</td>\n",
       "      <td>7.0</td>\n",
       "      <td>1.0</td>\n",
       "      <td>0.658</td>\n",
       "      <td>0.894</td>\n",
       "      <td>0.0551</td>\n",
       "      <td>0.001050</td>\n",
       "      <td>0.079400</td>\n",
       "      <td>0.1280</td>\n",
       "      <td>0.158</td>\n",
       "    </tr>\n",
       "    <tr>\n",
       "      <th>922</th>\n",
       "      <td>Onda - Theo Kottis</td>\n",
       "      <td>2vHPrrFhhiSH5GZZcGRSFm</td>\n",
       "      <td>https://api.spotify.com/v1/tracks/2vHPrrFhhiSH...</td>\n",
       "      <td>40</td>\n",
       "      <td>251.99202</td>\n",
       "      <td>-7.631</td>\n",
       "      <td>121.977</td>\n",
       "      <td>4.0</td>\n",
       "      <td>10.0</td>\n",
       "      <td>0.0</td>\n",
       "      <td>0.700</td>\n",
       "      <td>0.917</td>\n",
       "      <td>0.0447</td>\n",
       "      <td>0.159000</td>\n",
       "      <td>0.850000</td>\n",
       "      <td>0.0768</td>\n",
       "      <td>0.272</td>\n",
       "    </tr>\n",
       "    <tr>\n",
       "      <th>923</th>\n",
       "      <td>Blissda - DJ Koze</td>\n",
       "      <td>6cOie6oyMHzoVHLmpLfHN4</td>\n",
       "      <td>https://api.spotify.com/v1/tracks/6cOie6oyMHzo...</td>\n",
       "      <td>40</td>\n",
       "      <td>343.33237</td>\n",
       "      <td>-11.509</td>\n",
       "      <td>116.984</td>\n",
       "      <td>4.0</td>\n",
       "      <td>8.0</td>\n",
       "      <td>1.0</td>\n",
       "      <td>0.786</td>\n",
       "      <td>0.633</td>\n",
       "      <td>0.0389</td>\n",
       "      <td>0.005610</td>\n",
       "      <td>0.899000</td>\n",
       "      <td>0.0845</td>\n",
       "      <td>0.186</td>\n",
       "    </tr>\n",
       "    <tr>\n",
       "      <th>924</th>\n",
       "      <td>Karabali - Kiko Navarro</td>\n",
       "      <td>48qDlvkTp9Qwi9upy4HbTw</td>\n",
       "      <td>https://api.spotify.com/v1/tracks/48qDlvkTp9Qw...</td>\n",
       "      <td>40</td>\n",
       "      <td>425.22067</td>\n",
       "      <td>-9.920</td>\n",
       "      <td>121.989</td>\n",
       "      <td>4.0</td>\n",
       "      <td>2.0</td>\n",
       "      <td>1.0</td>\n",
       "      <td>0.834</td>\n",
       "      <td>0.686</td>\n",
       "      <td>0.0519</td>\n",
       "      <td>0.023600</td>\n",
       "      <td>0.011100</td>\n",
       "      <td>0.0737</td>\n",
       "      <td>0.740</td>\n",
       "    </tr>\n",
       "    <tr>\n",
       "      <th>925</th>\n",
       "      <td>Flamengo - DJ Ritmo55</td>\n",
       "      <td>3AykndJjGJ01Df301nbFeW</td>\n",
       "      <td>https://api.spotify.com/v1/tracks/3AykndJjGJ01...</td>\n",
       "      <td>39</td>\n",
       "      <td>119.07692</td>\n",
       "      <td>-1.600</td>\n",
       "      <td>129.994</td>\n",
       "      <td>4.0</td>\n",
       "      <td>11.0</td>\n",
       "      <td>1.0</td>\n",
       "      <td>0.798</td>\n",
       "      <td>0.954</td>\n",
       "      <td>0.0384</td>\n",
       "      <td>0.000548</td>\n",
       "      <td>0.000100</td>\n",
       "      <td>0.1140</td>\n",
       "      <td>0.778</td>\n",
       "    </tr>\n",
       "  </tbody>\n",
       "</table>\n",
       "<p>926 rows × 17 columns</p>\n",
       "</div>"
      ],
      "text/plain": [
       "                                            search                      id  \\\n",
       "0                   I'm Good (Blue) - David Guetta  4uUG5RXrOk84mYEfFvj3cK   \n",
       "1    Miracle (with Ellie Goulding) - Calvin Harris  5eTaQYBE1yrActixMAeLcZ   \n",
       "2                         El Merengue - Marshmello  51FvjPEGKq2zByeeEQ43V9   \n",
       "3                Baby Don't Hurt Me - David Guetta  3BKD1PwArikchz2Zrlp1qi   \n",
       "4                       METAMORPHOSIS - INTERWORLD  2ksyzVfU0WJoBpu8otr4pz   \n",
       "..                                             ...                     ...   \n",
       "921                           Keramas - Moon Boots  6QYthxincEvqQzGkfAOAiK   \n",
       "922                             Onda - Theo Kottis  2vHPrrFhhiSH5GZZcGRSFm   \n",
       "923                              Blissda - DJ Koze  6cOie6oyMHzoVHLmpLfHN4   \n",
       "924                        Karabali - Kiko Navarro  48qDlvkTp9Qwi9upy4HbTw   \n",
       "925                          Flamengo - DJ Ritmo55  3AykndJjGJ01Df301nbFeW   \n",
       "\n",
       "                                                  href  popularity   duration  \\\n",
       "0    https://api.spotify.com/v1/tracks/4uUG5RXrOk84...          94  175.23810   \n",
       "1    https://api.spotify.com/v1/tracks/5eTaQYBE1yrA...          91  186.49615   \n",
       "2    https://api.spotify.com/v1/tracks/51FvjPEGKq2z...          91  189.66853   \n",
       "3    https://api.spotify.com/v1/tracks/3BKD1PwArikc...          90  140.01768   \n",
       "4    https://api.spotify.com/v1/tracks/2ksyzVfU0WJo...          89  142.83926   \n",
       "..                                                 ...         ...        ...   \n",
       "921  https://api.spotify.com/v1/tracks/6QYthxincEvq...          40  224.44872   \n",
       "922  https://api.spotify.com/v1/tracks/2vHPrrFhhiSH...          40  251.99202   \n",
       "923  https://api.spotify.com/v1/tracks/6cOie6oyMHzo...          40  343.33237   \n",
       "924  https://api.spotify.com/v1/tracks/48qDlvkTp9Qw...          40  425.22067   \n",
       "925  https://api.spotify.com/v1/tracks/3AykndJjGJ01...          39  119.07692   \n",
       "\n",
       "     loudness    tempo  time_signature   key  mode  danceability  energy  \\\n",
       "0      -3.673  128.040             4.0   7.0   0.0         0.561   0.965   \n",
       "1      -5.289  143.011             4.0   9.0   1.0         0.636   0.869   \n",
       "2      -3.079  123.982             4.0   8.0   0.0         0.775   0.677   \n",
       "3      -3.404  127.944             4.0   7.0   1.0         0.602   0.910   \n",
       "4     -12.727  175.014             4.0   7.0   0.0         0.593   0.641   \n",
       "..        ...      ...             ...   ...   ...           ...     ...   \n",
       "921    -7.327  122.018             4.0   7.0   1.0         0.658   0.894   \n",
       "922    -7.631  121.977             4.0  10.0   0.0         0.700   0.917   \n",
       "923   -11.509  116.984             4.0   8.0   1.0         0.786   0.633   \n",
       "924    -9.920  121.989             4.0   2.0   1.0         0.834   0.686   \n",
       "925    -1.600  129.994             4.0  11.0   1.0         0.798   0.954   \n",
       "\n",
       "     speechiness  acousticness  instrumentalness  liveness  valence  \n",
       "0         0.0343      0.003830          0.000007    0.3710    0.304  \n",
       "1         0.0412      0.037800          0.044600    0.0808    0.306  \n",
       "2         0.0442      0.031300          0.005170    0.1120    0.698  \n",
       "3         0.0308      0.001260          0.000174    0.1200    0.228  \n",
       "4         0.0992      0.426000          0.901000    0.1220    0.147  \n",
       "..           ...           ...               ...       ...      ...  \n",
       "921       0.0551      0.001050          0.079400    0.1280    0.158  \n",
       "922       0.0447      0.159000          0.850000    0.0768    0.272  \n",
       "923       0.0389      0.005610          0.899000    0.0845    0.186  \n",
       "924       0.0519      0.023600          0.011100    0.0737    0.740  \n",
       "925       0.0384      0.000548          0.000100    0.1140    0.778  \n",
       "\n",
       "[926 rows x 17 columns]"
      ]
     },
     "execution_count": 26,
     "metadata": {},
     "output_type": "execute_result"
    }
   ],
   "source": [
    "playlist_tracklist_df = pd.DataFrame(playlist_tracklist)\n",
    "playlist_tracklist_df = playlist_tracklist_df.sort_values('popularity', ascending=False)\n",
    "playlist_tracklist_df.drop_duplicates(subset='id', inplace=True)\n",
    "playlist_tracklist_df.reset_index(inplace=True, drop=True)\n",
    "playlist_tracklist_df"
   ]
  },
  {
   "cell_type": "code",
   "execution_count": 19,
   "metadata": {},
   "outputs": [
    {
     "name": "stdout",
     "output_type": "stream",
     "text": [
      "Length: 679 tracks\n",
      "Duration: 36.06 hours\n"
     ]
    },
    {
     "data": {
      "text/html": [
       "<div>\n",
       "<style scoped>\n",
       "    .dataframe tbody tr th:only-of-type {\n",
       "        vertical-align: middle;\n",
       "    }\n",
       "\n",
       "    .dataframe tbody tr th {\n",
       "        vertical-align: top;\n",
       "    }\n",
       "\n",
       "    .dataframe thead th {\n",
       "        text-align: right;\n",
       "    }\n",
       "</style>\n",
       "<table border=\"1\" class=\"dataframe\">\n",
       "  <thead>\n",
       "    <tr style=\"text-align: right;\">\n",
       "      <th></th>\n",
       "      <th>popularity</th>\n",
       "      <th>duration</th>\n",
       "      <th>loudness</th>\n",
       "      <th>tempo</th>\n",
       "      <th>time_signature</th>\n",
       "      <th>key</th>\n",
       "      <th>mode</th>\n",
       "      <th>danceability</th>\n",
       "      <th>energy</th>\n",
       "      <th>speechiness</th>\n",
       "      <th>acousticness</th>\n",
       "      <th>instrumentalness</th>\n",
       "      <th>liveness</th>\n",
       "      <th>valence</th>\n",
       "    </tr>\n",
       "  </thead>\n",
       "  <tbody>\n",
       "    <tr>\n",
       "      <th>count</th>\n",
       "      <td>679.000000</td>\n",
       "      <td>677.000000</td>\n",
       "      <td>677.000000</td>\n",
       "      <td>677.000000</td>\n",
       "      <td>677.000000</td>\n",
       "      <td>677.000000</td>\n",
       "      <td>677.000000</td>\n",
       "      <td>677.000000</td>\n",
       "      <td>677.000000</td>\n",
       "      <td>677.000000</td>\n",
       "      <td>677.000000</td>\n",
       "      <td>677.000000</td>\n",
       "      <td>677.000000</td>\n",
       "      <td>677.000000</td>\n",
       "    </tr>\n",
       "    <tr>\n",
       "      <th>mean</th>\n",
       "      <td>65.911635</td>\n",
       "      <td>191.767517</td>\n",
       "      <td>-6.045161</td>\n",
       "      <td>125.622576</td>\n",
       "      <td>3.983752</td>\n",
       "      <td>5.156573</td>\n",
       "      <td>0.516987</td>\n",
       "      <td>0.688096</td>\n",
       "      <td>0.786997</td>\n",
       "      <td>0.082994</td>\n",
       "      <td>0.113448</td>\n",
       "      <td>0.247822</td>\n",
       "      <td>0.195597</td>\n",
       "      <td>0.436634</td>\n",
       "    </tr>\n",
       "    <tr>\n",
       "      <th>std</th>\n",
       "      <td>8.279831</td>\n",
       "      <td>58.351411</td>\n",
       "      <td>2.626339</td>\n",
       "      <td>14.175669</td>\n",
       "      <td>0.183737</td>\n",
       "      <td>3.557932</td>\n",
       "      <td>0.500081</td>\n",
       "      <td>0.108053</td>\n",
       "      <td>0.141652</td>\n",
       "      <td>0.079172</td>\n",
       "      <td>0.176822</td>\n",
       "      <td>0.340570</td>\n",
       "      <td>0.154561</td>\n",
       "      <td>0.245510</td>\n",
       "    </tr>\n",
       "    <tr>\n",
       "      <th>min</th>\n",
       "      <td>53.000000</td>\n",
       "      <td>67.030070</td>\n",
       "      <td>-21.167000</td>\n",
       "      <td>75.373000</td>\n",
       "      <td>1.000000</td>\n",
       "      <td>0.000000</td>\n",
       "      <td>0.000000</td>\n",
       "      <td>0.279000</td>\n",
       "      <td>0.264000</td>\n",
       "      <td>0.024000</td>\n",
       "      <td>0.000025</td>\n",
       "      <td>0.000000</td>\n",
       "      <td>0.026500</td>\n",
       "      <td>0.026000</td>\n",
       "    </tr>\n",
       "    <tr>\n",
       "      <th>25%</th>\n",
       "      <td>59.000000</td>\n",
       "      <td>154.960590</td>\n",
       "      <td>-7.324000</td>\n",
       "      <td>120.959000</td>\n",
       "      <td>4.000000</td>\n",
       "      <td>2.000000</td>\n",
       "      <td>0.000000</td>\n",
       "      <td>0.623000</td>\n",
       "      <td>0.712000</td>\n",
       "      <td>0.040000</td>\n",
       "      <td>0.008030</td>\n",
       "      <td>0.000077</td>\n",
       "      <td>0.096600</td>\n",
       "      <td>0.242000</td>\n",
       "    </tr>\n",
       "    <tr>\n",
       "      <th>50%</th>\n",
       "      <td>64.000000</td>\n",
       "      <td>181.904750</td>\n",
       "      <td>-5.801000</td>\n",
       "      <td>124.914000</td>\n",
       "      <td>4.000000</td>\n",
       "      <td>5.000000</td>\n",
       "      <td>1.000000</td>\n",
       "      <td>0.690000</td>\n",
       "      <td>0.821000</td>\n",
       "      <td>0.052900</td>\n",
       "      <td>0.034000</td>\n",
       "      <td>0.014300</td>\n",
       "      <td>0.130000</td>\n",
       "      <td>0.441000</td>\n",
       "    </tr>\n",
       "    <tr>\n",
       "      <th>75%</th>\n",
       "      <td>71.500000</td>\n",
       "      <td>217.708920</td>\n",
       "      <td>-4.353000</td>\n",
       "      <td>127.980000</td>\n",
       "      <td>4.000000</td>\n",
       "      <td>8.000000</td>\n",
       "      <td>1.000000</td>\n",
       "      <td>0.758000</td>\n",
       "      <td>0.896000</td>\n",
       "      <td>0.087900</td>\n",
       "      <td>0.143000</td>\n",
       "      <td>0.557000</td>\n",
       "      <td>0.252000</td>\n",
       "      <td>0.630000</td>\n",
       "    </tr>\n",
       "    <tr>\n",
       "      <th>max</th>\n",
       "      <td>94.000000</td>\n",
       "      <td>627.096800</td>\n",
       "      <td>1.260000</td>\n",
       "      <td>194.992000</td>\n",
       "      <td>5.000000</td>\n",
       "      <td>11.000000</td>\n",
       "      <td>1.000000</td>\n",
       "      <td>0.958000</td>\n",
       "      <td>0.996000</td>\n",
       "      <td>0.613000</td>\n",
       "      <td>0.888000</td>\n",
       "      <td>0.957000</td>\n",
       "      <td>0.924000</td>\n",
       "      <td>0.967000</td>\n",
       "    </tr>\n",
       "  </tbody>\n",
       "</table>\n",
       "</div>"
      ],
      "text/plain": [
       "       popularity    duration    loudness       tempo  time_signature  \\\n",
       "count  679.000000  677.000000  677.000000  677.000000      677.000000   \n",
       "mean    65.911635  191.767517   -6.045161  125.622576        3.983752   \n",
       "std      8.279831   58.351411    2.626339   14.175669        0.183737   \n",
       "min     53.000000   67.030070  -21.167000   75.373000        1.000000   \n",
       "25%     59.000000  154.960590   -7.324000  120.959000        4.000000   \n",
       "50%     64.000000  181.904750   -5.801000  124.914000        4.000000   \n",
       "75%     71.500000  217.708920   -4.353000  127.980000        4.000000   \n",
       "max     94.000000  627.096800    1.260000  194.992000        5.000000   \n",
       "\n",
       "              key        mode  danceability      energy  speechiness  \\\n",
       "count  677.000000  677.000000    677.000000  677.000000   677.000000   \n",
       "mean     5.156573    0.516987      0.688096    0.786997     0.082994   \n",
       "std      3.557932    0.500081      0.108053    0.141652     0.079172   \n",
       "min      0.000000    0.000000      0.279000    0.264000     0.024000   \n",
       "25%      2.000000    0.000000      0.623000    0.712000     0.040000   \n",
       "50%      5.000000    1.000000      0.690000    0.821000     0.052900   \n",
       "75%      8.000000    1.000000      0.758000    0.896000     0.087900   \n",
       "max     11.000000    1.000000      0.958000    0.996000     0.613000   \n",
       "\n",
       "       acousticness  instrumentalness    liveness     valence  \n",
       "count    677.000000        677.000000  677.000000  677.000000  \n",
       "mean       0.113448          0.247822    0.195597    0.436634  \n",
       "std        0.176822          0.340570    0.154561    0.245510  \n",
       "min        0.000025          0.000000    0.026500    0.026000  \n",
       "25%        0.008030          0.000077    0.096600    0.242000  \n",
       "50%        0.034000          0.014300    0.130000    0.441000  \n",
       "75%        0.143000          0.557000    0.252000    0.630000  \n",
       "max        0.888000          0.957000    0.924000    0.967000  "
      ]
     },
     "execution_count": 19,
     "metadata": {},
     "output_type": "execute_result"
    }
   ],
   "source": [
    "playlist_duration = round(float(input('Playlist duration (hours)?')), 2)\n",
    "for i in range(1, len(playlist_tracklist_df)):\n",
    "    duration = round(playlist_tracklist_df['duration'].iloc[:i].sum()/3600, 2)\n",
    "    if (duration >= playlist_duration-0.1) and (duration <= playlist_duration+0.1):\n",
    "        truncated_tracklist = playlist_tracklist_df.iloc[:i]\n",
    "print(f\"Length: {len(truncated_tracklist)} tracks\")\n",
    "print(f\"Duration: {round(truncated_tracklist['duration'].sum()/3600, 2)} hours\")\n",
    "truncated_tracklist.describe()"
   ]
  },
  {
   "cell_type": "code",
   "execution_count": 20,
   "metadata": {},
   "outputs": [],
   "source": [
    "def build_neighbor_list(start_index, data, labels, n_neighbors, k):\n",
    "    neighbor_list = [start_index]\n",
    "    visited_indices = set([start_index])\n",
    "    current_label = labels[start_index]\n",
    "\n",
    "    while len(neighbor_list) < n_neighbors:\n",
    "        current_coords = data[neighbor_list[-1]]\n",
    "\n",
    "        nbrs = NearestNeighbors(n_neighbors=k+1).fit(data)\n",
    "        distances, indices = nbrs.kneighbors([current_coords], n_neighbors=n_neighbors)\n",
    "        indices = indices[0]\n",
    "        distances = distances[0]\n",
    "\n",
    "        for i in range(1, n_neighbors):\n",
    "            if indices[i] not in visited_indices and labels[indices[i]] == current_label:\n",
    "                neighbor_list.append(indices[i])\n",
    "                visited_indices.add(indices[i])\n",
    "                break\n",
    "\n",
    "        else:\n",
    "            for i in range(1, n_neighbors):\n",
    "                if indices[i] not in visited_indices and labels[indices[i]] != current_label:\n",
    "                    neighbor_list.append(indices[i])\n",
    "                    visited_indices.add(indices[i])\n",
    "                    current_label = labels[indices[i]]\n",
    "                    break\n",
    "\n",
    "            else:\n",
    "                break\n",
    "\n",
    "    return neighbor_list"
   ]
  },
  {
   "cell_type": "code",
   "execution_count": 21,
   "metadata": {},
   "outputs": [],
   "source": [
    "def sort_tracklist(tracklist):\n",
    "    # Sort tracks by search name\n",
    "    global tracklist_df\n",
    "    tracklist_df = pd.DataFrame(tracklist).drop_duplicates(subset=['id'])\n",
    "    tracklist_df = tracklist_df.drop_duplicates(subset=['search'])\n",
    "    le = LabelEncoder()\n",
    "    tracklist_df = tracklist_df.sort_values('search', ascending=True)\n",
    "    tracklist_df.reset_index(inplace=True, drop=True)\n",
    "\n",
    "    duration_mean = round(tracklist_df['duration'].mean(),3)\n",
    "    duration_na = tracklist_df['duration'][tracklist_df['duration'].isna() == True].index\n",
    "    tracklist_df['duration'].iloc[duration_na] = duration_mean\n",
    "\n",
    "    loudness_mean = round(tracklist_df['loudness'].mean(),3)\n",
    "    loudness_na = tracklist_df['loudness'][tracklist_df['loudness'].isna() == True].index\n",
    "    tracklist_df['loudness'].iloc[loudness_na] = loudness_mean\n",
    "\n",
    "    tempo_mean = round(tracklist_df['tempo'].mean(),3)\n",
    "    tempo_high = round(tracklist_df['tempo'].max(),3)\n",
    "    tempo_na = tracklist_df['tempo'][tracklist_df['tempo'].isna() == True].index\n",
    "    tempo_high = tracklist_df['tempo'][tracklist_df['tempo'] >= 240].index\n",
    "    tracklist_df['tempo'].iloc[tempo_na] = tempo_mean\n",
    "    tracklist_df['tempo'].iloc[tempo_high] = tempo_mean\n",
    "\n",
    "    time_signature_mean = round(tracklist_df['time_signature'].mean(),0)\n",
    "    time_signature_na = tracklist_df['time_signature'][tracklist_df['time_signature'].isna() == True].index\n",
    "    tracklist_df['time_signature'].iloc[time_signature_na] = time_signature_mean\n",
    "\n",
    "    key_mean = round(tracklist_df['key'].mean(),0)\n",
    "    key_na = tracklist_df['key'][tracklist_df['key'].isna() == True].index\n",
    "    tracklist_df['key'].iloc[key_na] = key_mean\n",
    "\n",
    "    mode_mean = round(tracklist_df['mode'].mean(),0)\n",
    "    mode_na = tracklist_df['mode'][tracklist_df['mode'].isna() == True].index\n",
    "    tracklist_df['mode'].iloc[mode_na] = mode_mean\n",
    "\n",
    "    danceability_mean = round(tracklist_df['danceability'].mean(),3)\n",
    "    danceability_na = tracklist_df['danceability'][tracklist_df['danceability'].isna() == True].index\n",
    "    tracklist_df['danceability'].iloc[danceability_na] = danceability_mean\n",
    "\n",
    "    energy_mean = round(tracklist_df['energy'].mean(),3)\n",
    "    energy_na = tracklist_df['energy'][tracklist_df['energy'].isna() == True].index\n",
    "    tracklist_df['energy'].iloc[energy_na] = energy_mean\n",
    "\n",
    "    speechiness_mean = tracklist_df['speechiness'].mean()\n",
    "    speechiness_na = tracklist_df['speechiness'][tracklist_df['speechiness'].isna() == True].index\n",
    "    tracklist_df['speechiness'].iloc[speechiness_na] = speechiness_mean\n",
    "\n",
    "    acousticness_mean = round(tracklist_df['acousticness'].mean(),5)\n",
    "    acousticness_na = tracklist_df['acousticness'][tracklist_df['acousticness'].isna() == True].index\n",
    "    tracklist_df['acousticness'].iloc[acousticness_na] = acousticness_mean\n",
    "\n",
    "    instrumentalness_mean = round(tracklist_df['instrumentalness'].mean(),3)\n",
    "    instrumentalness_na = tracklist_df['instrumentalness'][tracklist_df['instrumentalness'].isna() == True].index\n",
    "    tracklist_df['instrumentalness'].iloc[instrumentalness_na] = instrumentalness_mean\n",
    "\n",
    "    liveness_mean = round(tracklist_df['liveness'].mean(),3)\n",
    "    liveness_na = tracklist_df['liveness'][tracklist_df['liveness'].isna() == True].index\n",
    "    tracklist_df['liveness'].iloc[liveness_na] = liveness_mean\n",
    "\n",
    "    valence_mean = round(tracklist_df['valence'].mean(),3)\n",
    "    valence_na = tracklist_df['valence'][tracklist_df['valence'].isna() == True].index\n",
    "    tracklist_df['valence'].iloc[valence_na] = valence_mean\n",
    "\n",
    "    len_tracklist = len(tracklist_df)\n",
    "\n",
    "    # Numeric values\n",
    "    numeric_df = tracklist_df.drop(columns=['search', 'id', 'href', 'mode'])\n",
    "\n",
    "    # Scale values\n",
    "    scaler = MinMaxScaler(feature_range=(0, 10))\n",
    "    numeric_scaled = pd.DataFrame(scaler.fit_transform(numeric_df), columns=numeric_df.columns)\n",
    "\n",
    "    # Reduce dimensions\n",
    "    pca = PCA(n_components=2)\n",
    "    pca.fit(numeric_scaled)\n",
    "    global numeric_scaled_pca\n",
    "    numeric_scaled_pca = pca.transform(numeric_scaled)\n",
    "    tempo_array = np.array(numeric_scaled['tempo'])\n",
    "    tempo_array = tempo_array.reshape(-1, 1)\n",
    "    numeric_scaled_pca = np.concatenate((numeric_scaled_pca, tempo_array), axis=1)\n",
    "    X_PCA = pd.DataFrame(numeric_scaled_pca, columns=(['col1', 'col2', 'col3']))\n",
    "\n",
    "    component_names = []\n",
    "    for component in pca.components_:\n",
    "        abs_loadings = np.abs(component)\n",
    "        max_loading_index = np.argmax(abs_loadings)\n",
    "        component_names.append(numeric_scaled.columns[max_loading_index])\n",
    "\n",
    "    print(f'The three main components are: {component_names[0]}, {component_names[1]}, and tempo.')\n",
    "\n",
    "    # Option to pick the columns\n",
    "    # X_PCA = pd.DataFrame(np.asarray(numeric_scaled[['tempo', 'key','valence']]), columns=(['col1', 'col2', 'col3']))\n",
    "\n",
    "    # Get the suggested number of clusters (k) from the elbow method\n",
    "    elbow_m = KElbowVisualizer(KMeans(n_init='auto'), k=15, show=False)\n",
    "    elbow_m.fit(X_PCA)\n",
    "    k = elbow_m.elbow_value_\n",
    "    plt.close()\n",
    "\n",
    "    # Get cluster labels\n",
    "    n_clusters = k\n",
    "    clusterer = AgglomerativeClustering(n_clusters=n_clusters)\n",
    "    cluster_labels = clusterer.fit_predict(X_PCA)\n",
    "\n",
    "    # Add clusters to dataframes\n",
    "    X_PCA['clusters'] = cluster_labels\n",
    "    numeric_scaled['clusters'] = cluster_labels\n",
    "\n",
    "    # Show data points\n",
    "    PCA_show = X_PCA.copy()\n",
    "    x = PCA_show['col1']\n",
    "    y = PCA_show['col2']\n",
    "    z = PCA_show['col3']\n",
    "    PCA_show['name'] = tracklist_df['search']\n",
    "    fig = px.scatter_3d(PCA_show, x=x, y=y, z=z, color='clusters', hover_name='name', hover_data=['clusters'])\n",
    "    fig.show()\n",
    "\n",
    "    # Get nearest neighbors from lowest tempo song\n",
    "    random_pick = np.random.randint(0,20,size=1)\n",
    "    start_index = numeric_scaled.sort_values('tempo').head(20).iloc[random_pick].index.values[0]\n",
    "    n_neighbors = len_tracklist\n",
    "    data = np.squeeze(np.asarray(X_PCA.drop(columns=['clusters'])))\n",
    "    labels = np.array(X_PCA['clusters'].values)\n",
    "    neighbor_list = build_neighbor_list(start_index, data, labels, n_neighbors, k)\n",
    "    sorted_tracklist = tracklist_df.iloc[neighbor_list]\n",
    "    sorted_tracklist_names = list(sorted_tracklist['search'].values)\n",
    "    tracklist_ids = list(sorted_tracklist['id'].values)\n",
    "\n",
    "\n",
    "    return sorted_tracklist_names, tracklist_ids"
   ]
  },
  {
   "cell_type": "code",
   "execution_count": 24,
   "metadata": {},
   "outputs": [
    {
     "name": "stdout",
     "output_type": "stream",
     "text": [
      "The three main components are: instrumentalness, key, and tempo.\n"
     ]
    },
    {
     "data": {
      "application/vnd.plotly.v1+json": {
       "config": {
        "plotlyServerURL": "https://plot.ly"
       },
       "data": [
        {
         "customdata": [
          [
           5
          ],
          [
           1
          ],
          [
           3
          ],
          [
           1
          ],
          [
           5
          ],
          [
           1
          ],
          [
           3
          ],
          [
           1
          ],
          [
           1
          ],
          [
           3
          ],
          [
           0
          ],
          [
           5
          ],
          [
           3
          ],
          [
           3
          ],
          [
           1
          ],
          [
           3
          ],
          [
           3
          ],
          [
           3
          ],
          [
           0
          ],
          [
           4
          ],
          [
           5
          ],
          [
           1
          ],
          [
           0
          ],
          [
           4
          ],
          [
           3
          ],
          [
           1
          ],
          [
           2
          ],
          [
           0
          ],
          [
           3
          ],
          [
           3
          ],
          [
           4
          ],
          [
           1
          ],
          [
           2
          ],
          [
           1
          ],
          [
           1
          ],
          [
           4
          ],
          [
           2
          ],
          [
           0
          ],
          [
           0
          ],
          [
           0
          ],
          [
           3
          ],
          [
           4
          ],
          [
           1
          ],
          [
           3
          ],
          [
           3
          ],
          [
           0
          ],
          [
           1
          ],
          [
           3
          ],
          [
           3
          ],
          [
           1
          ],
          [
           3
          ],
          [
           0
          ],
          [
           0
          ],
          [
           1
          ],
          [
           3
          ],
          [
           3
          ],
          [
           3
          ],
          [
           0
          ],
          [
           3
          ],
          [
           0
          ],
          [
           5
          ],
          [
           1
          ],
          [
           0
          ],
          [
           3
          ],
          [
           3
          ],
          [
           2
          ],
          [
           3
          ],
          [
           1
          ],
          [
           1
          ],
          [
           3
          ],
          [
           4
          ],
          [
           0
          ],
          [
           2
          ],
          [
           4
          ],
          [
           2
          ],
          [
           3
          ],
          [
           1
          ],
          [
           3
          ],
          [
           0
          ],
          [
           1
          ],
          [
           1
          ],
          [
           0
          ],
          [
           4
          ],
          [
           4
          ],
          [
           1
          ],
          [
           0
          ],
          [
           0
          ],
          [
           1
          ],
          [
           5
          ],
          [
           1
          ],
          [
           1
          ],
          [
           3
          ],
          [
           0
          ],
          [
           5
          ],
          [
           1
          ],
          [
           1
          ],
          [
           4
          ],
          [
           1
          ],
          [
           1
          ],
          [
           5
          ],
          [
           5
          ],
          [
           5
          ],
          [
           0
          ],
          [
           5
          ],
          [
           4
          ],
          [
           1
          ],
          [
           3
          ],
          [
           4
          ],
          [
           0
          ],
          [
           3
          ],
          [
           5
          ],
          [
           2
          ],
          [
           0
          ],
          [
           3
          ],
          [
           2
          ],
          [
           3
          ],
          [
           2
          ],
          [
           4
          ],
          [
           3
          ],
          [
           1
          ],
          [
           0
          ],
          [
           4
          ],
          [
           1
          ],
          [
           1
          ],
          [
           5
          ],
          [
           4
          ],
          [
           2
          ],
          [
           1
          ],
          [
           2
          ],
          [
           5
          ],
          [
           4
          ],
          [
           5
          ],
          [
           3
          ],
          [
           5
          ],
          [
           0
          ],
          [
           1
          ],
          [
           3
          ],
          [
           1
          ],
          [
           1
          ],
          [
           2
          ],
          [
           2
          ],
          [
           4
          ],
          [
           3
          ],
          [
           1
          ],
          [
           5
          ],
          [
           5
          ],
          [
           0
          ],
          [
           4
          ],
          [
           2
          ],
          [
           1
          ],
          [
           1
          ],
          [
           0
          ],
          [
           1
          ],
          [
           3
          ],
          [
           2
          ],
          [
           0
          ],
          [
           5
          ],
          [
           0
          ],
          [
           5
          ],
          [
           1
          ],
          [
           1
          ],
          [
           5
          ],
          [
           0
          ],
          [
           3
          ],
          [
           0
          ],
          [
           0
          ],
          [
           3
          ],
          [
           5
          ],
          [
           0
          ],
          [
           1
          ],
          [
           0
          ],
          [
           3
          ],
          [
           2
          ],
          [
           2
          ],
          [
           5
          ],
          [
           5
          ],
          [
           1
          ],
          [
           4
          ],
          [
           4
          ],
          [
           3
          ],
          [
           4
          ],
          [
           4
          ],
          [
           1
          ],
          [
           1
          ],
          [
           3
          ],
          [
           4
          ],
          [
           3
          ],
          [
           4
          ],
          [
           0
          ],
          [
           3
          ],
          [
           1
          ],
          [
           3
          ],
          [
           3
          ],
          [
           1
          ],
          [
           3
          ],
          [
           2
          ],
          [
           5
          ],
          [
           1
          ],
          [
           5
          ],
          [
           4
          ],
          [
           1
          ],
          [
           3
          ],
          [
           3
          ],
          [
           3
          ],
          [
           3
          ],
          [
           1
          ],
          [
           0
          ],
          [
           2
          ],
          [
           0
          ],
          [
           0
          ],
          [
           1
          ],
          [
           0
          ],
          [
           0
          ],
          [
           5
          ],
          [
           3
          ],
          [
           4
          ],
          [
           4
          ],
          [
           4
          ],
          [
           3
          ],
          [
           1
          ],
          [
           5
          ],
          [
           1
          ],
          [
           5
          ],
          [
           4
          ],
          [
           3
          ],
          [
           5
          ],
          [
           3
          ],
          [
           3
          ],
          [
           1
          ],
          [
           5
          ],
          [
           1
          ],
          [
           5
          ],
          [
           3
          ],
          [
           4
          ],
          [
           0
          ],
          [
           3
          ],
          [
           0
          ],
          [
           3
          ],
          [
           5
          ],
          [
           1
          ],
          [
           5
          ],
          [
           1
          ],
          [
           1
          ],
          [
           5
          ],
          [
           3
          ],
          [
           0
          ],
          [
           1
          ],
          [
           0
          ],
          [
           0
          ],
          [
           5
          ],
          [
           4
          ],
          [
           1
          ],
          [
           0
          ],
          [
           4
          ],
          [
           2
          ],
          [
           3
          ],
          [
           4
          ],
          [
           3
          ],
          [
           3
          ],
          [
           3
          ],
          [
           2
          ],
          [
           1
          ],
          [
           5
          ],
          [
           4
          ],
          [
           1
          ],
          [
           1
          ],
          [
           0
          ],
          [
           3
          ],
          [
           1
          ],
          [
           2
          ],
          [
           4
          ],
          [
           3
          ],
          [
           3
          ],
          [
           3
          ],
          [
           5
          ],
          [
           1
          ],
          [
           0
          ],
          [
           2
          ],
          [
           1
          ],
          [
           5
          ],
          [
           1
          ],
          [
           1
          ],
          [
           1
          ],
          [
           2
          ],
          [
           0
          ],
          [
           3
          ],
          [
           5
          ],
          [
           2
          ],
          [
           3
          ],
          [
           0
          ],
          [
           2
          ],
          [
           3
          ],
          [
           0
          ],
          [
           0
          ],
          [
           1
          ],
          [
           4
          ],
          [
           3
          ],
          [
           0
          ],
          [
           1
          ],
          [
           1
          ],
          [
           1
          ],
          [
           2
          ],
          [
           0
          ],
          [
           2
          ],
          [
           4
          ],
          [
           0
          ],
          [
           0
          ],
          [
           0
          ],
          [
           0
          ],
          [
           0
          ],
          [
           4
          ],
          [
           5
          ],
          [
           1
          ],
          [
           1
          ],
          [
           0
          ],
          [
           2
          ],
          [
           0
          ],
          [
           4
          ],
          [
           3
          ],
          [
           1
          ],
          [
           5
          ],
          [
           3
          ],
          [
           5
          ],
          [
           3
          ],
          [
           5
          ],
          [
           0
          ],
          [
           1
          ],
          [
           3
          ],
          [
           0
          ],
          [
           1
          ],
          [
           0
          ],
          [
           3
          ],
          [
           0
          ],
          [
           3
          ],
          [
           4
          ],
          [
           2
          ],
          [
           3
          ],
          [
           1
          ],
          [
           1
          ],
          [
           0
          ],
          [
           4
          ],
          [
           1
          ],
          [
           0
          ],
          [
           1
          ],
          [
           5
          ],
          [
           5
          ],
          [
           5
          ],
          [
           5
          ],
          [
           0
          ],
          [
           2
          ],
          [
           4
          ],
          [
           1
          ],
          [
           3
          ],
          [
           5
          ],
          [
           3
          ],
          [
           3
          ],
          [
           3
          ],
          [
           3
          ],
          [
           5
          ],
          [
           4
          ],
          [
           3
          ],
          [
           0
          ],
          [
           1
          ],
          [
           5
          ],
          [
           2
          ],
          [
           3
          ],
          [
           3
          ],
          [
           5
          ],
          [
           5
          ],
          [
           2
          ],
          [
           1
          ],
          [
           2
          ],
          [
           3
          ],
          [
           3
          ],
          [
           0
          ],
          [
           1
          ],
          [
           0
          ],
          [
           5
          ],
          [
           3
          ],
          [
           1
          ],
          [
           5
          ],
          [
           3
          ],
          [
           1
          ],
          [
           5
          ],
          [
           5
          ],
          [
           5
          ],
          [
           1
          ],
          [
           2
          ],
          [
           1
          ],
          [
           5
          ],
          [
           1
          ],
          [
           0
          ],
          [
           1
          ],
          [
           3
          ],
          [
           5
          ],
          [
           0
          ],
          [
           5
          ],
          [
           5
          ],
          [
           1
          ],
          [
           0
          ],
          [
           3
          ],
          [
           4
          ],
          [
           3
          ],
          [
           3
          ],
          [
           3
          ],
          [
           5
          ],
          [
           3
          ],
          [
           4
          ],
          [
           0
          ],
          [
           1
          ],
          [
           1
          ],
          [
           0
          ],
          [
           1
          ],
          [
           2
          ],
          [
           0
          ],
          [
           3
          ],
          [
           1
          ],
          [
           1
          ],
          [
           2
          ],
          [
           3
          ],
          [
           2
          ],
          [
           2
          ],
          [
           3
          ],
          [
           3
          ],
          [
           0
          ],
          [
           4
          ],
          [
           2
          ],
          [
           5
          ],
          [
           5
          ],
          [
           3
          ],
          [
           3
          ],
          [
           2
          ],
          [
           0
          ],
          [
           0
          ],
          [
           1
          ],
          [
           1
          ],
          [
           2
          ],
          [
           4
          ],
          [
           0
          ],
          [
           4
          ],
          [
           1
          ],
          [
           1
          ],
          [
           4
          ],
          [
           2
          ],
          [
           4
          ],
          [
           3
          ],
          [
           3
          ],
          [
           2
          ],
          [
           0
          ],
          [
           1
          ],
          [
           3
          ],
          [
           1
          ],
          [
           3
          ],
          [
           3
          ],
          [
           4
          ],
          [
           2
          ],
          [
           1
          ],
          [
           0
          ],
          [
           2
          ],
          [
           5
          ],
          [
           4
          ],
          [
           1
          ],
          [
           2
          ],
          [
           1
          ],
          [
           1
          ],
          [
           0
          ],
          [
           4
          ],
          [
           3
          ],
          [
           0
          ],
          [
           2
          ],
          [
           0
          ],
          [
           3
          ],
          [
           5
          ],
          [
           1
          ],
          [
           1
          ],
          [
           1
          ],
          [
           4
          ],
          [
           4
          ],
          [
           4
          ],
          [
           3
          ],
          [
           4
          ],
          [
           5
          ],
          [
           1
          ],
          [
           1
          ],
          [
           3
          ],
          [
           4
          ],
          [
           2
          ],
          [
           0
          ],
          [
           3
          ],
          [
           4
          ],
          [
           4
          ],
          [
           1
          ],
          [
           3
          ],
          [
           1
          ],
          [
           5
          ],
          [
           4
          ],
          [
           0
          ],
          [
           1
          ],
          [
           4
          ],
          [
           1
          ],
          [
           1
          ],
          [
           5
          ],
          [
           2
          ],
          [
           2
          ],
          [
           4
          ],
          [
           5
          ],
          [
           1
          ],
          [
           3
          ],
          [
           5
          ],
          [
           4
          ],
          [
           1
          ],
          [
           4
          ],
          [
           4
          ],
          [
           5
          ],
          [
           5
          ],
          [
           5
          ],
          [
           1
          ],
          [
           1
          ],
          [
           0
          ],
          [
           1
          ],
          [
           3
          ],
          [
           1
          ],
          [
           3
          ],
          [
           1
          ],
          [
           3
          ],
          [
           0
          ],
          [
           5
          ],
          [
           4
          ],
          [
           0
          ],
          [
           1
          ],
          [
           3
          ],
          [
           1
          ],
          [
           4
          ],
          [
           1
          ],
          [
           0
          ],
          [
           5
          ],
          [
           3
          ],
          [
           4
          ],
          [
           0
          ],
          [
           5
          ],
          [
           5
          ],
          [
           1
          ],
          [
           5
          ],
          [
           3
          ],
          [
           1
          ],
          [
           0
          ],
          [
           3
          ],
          [
           0
          ],
          [
           2
          ],
          [
           3
          ],
          [
           5
          ],
          [
           3
          ],
          [
           1
          ],
          [
           2
          ],
          [
           2
          ],
          [
           5
          ],
          [
           1
          ],
          [
           2
          ],
          [
           2
          ],
          [
           5
          ],
          [
           0
          ],
          [
           5
          ],
          [
           0
          ],
          [
           0
          ],
          [
           2
          ],
          [
           0
          ],
          [
           4
          ],
          [
           4
          ],
          [
           5
          ],
          [
           1
          ],
          [
           4
          ],
          [
           0
          ],
          [
           2
          ],
          [
           5
          ],
          [
           4
          ],
          [
           4
          ],
          [
           3
          ],
          [
           0
          ],
          [
           3
          ],
          [
           0
          ],
          [
           4
          ],
          [
           3
          ],
          [
           3
          ],
          [
           5
          ],
          [
           3
          ],
          [
           5
          ],
          [
           1
          ],
          [
           0
          ],
          [
           4
          ],
          [
           4
          ],
          [
           0
          ],
          [
           4
          ],
          [
           5
          ],
          [
           3
          ],
          [
           2
          ],
          [
           5
          ],
          [
           1
          ],
          [
           3
          ],
          [
           1
          ],
          [
           5
          ],
          [
           0
          ],
          [
           4
          ],
          [
           5
          ],
          [
           2
          ],
          [
           3
          ],
          [
           2
          ],
          [
           1
          ],
          [
           4
          ],
          [
           0
          ],
          [
           4
          ],
          [
           0
          ],
          [
           1
          ],
          [
           0
          ],
          [
           3
          ],
          [
           1
          ],
          [
           3
          ],
          [
           2
          ],
          [
           5
          ],
          [
           3
          ],
          [
           1
          ],
          [
           4
          ],
          [
           2
          ],
          [
           0
          ],
          [
           3
          ],
          [
           3
          ],
          [
           1
          ],
          [
           5
          ],
          [
           5
          ],
          [
           3
          ],
          [
           1
          ],
          [
           0
          ],
          [
           1
          ],
          [
           1
          ],
          [
           5
          ],
          [
           3
          ],
          [
           0
          ],
          [
           1
          ],
          [
           5
          ],
          [
           3
          ],
          [
           5
          ],
          [
           1
          ],
          [
           2
          ],
          [
           0
          ],
          [
           3
          ],
          [
           3
          ],
          [
           1
          ],
          [
           3
          ],
          [
           4
          ],
          [
           1
          ],
          [
           5
          ],
          [
           1
          ],
          [
           3
          ],
          [
           5
          ],
          [
           1
          ],
          [
           3
          ],
          [
           0
          ],
          [
           1
          ],
          [
           5
          ],
          [
           1
          ],
          [
           3
          ],
          [
           1
          ],
          [
           1
          ],
          [
           1
          ],
          [
           2
          ],
          [
           4
          ],
          [
           0
          ],
          [
           3
          ],
          [
           3
          ],
          [
           0
          ],
          [
           3
          ],
          [
           1
          ],
          [
           4
          ],
          [
           5
          ],
          [
           5
          ],
          [
           1
          ],
          [
           3
          ],
          [
           5
          ],
          [
           0
          ]
         ],
         "hovertemplate": "<b>%{hovertext}</b><br><br>col1=%{x}<br>col2=%{y}<br>col3=%{z}<br>clusters=%{marker.color}<extra></extra>",
         "hovertext": [
          "10 Out Of 10 (feat. Kylie Minogue) - Oliver Heldens",
          "10:35 - Tiësto",
          "1x1 - Galantis",
          "2 Be Loved (Am I Ready) [PNAU Remix] - Lizzo",
          "2 Die 4 (Jax Jones Midnight Snacks Remix) - Tove Lo",
          "21 Reasons (feat. Ella Henderson) - Nathan Dawe",
          "A Milli - SIDEPIECE Remix - Lil Wayne",
          "A Second to Midnight - Kylie Minogue",
          "ANGRY BIRDS PHONK - RXDXVIL",
          "ANUBIS - KUTE",
          "AVOID ME - KUTE",
          "About Damn Time - Purple Disco Machine Remix - Lizzo",
          "Afraid To Feel - LF SYSTEM",
          "Afterparty - Loud Luxury",
          "Aguila ft. Cumbiafrica - HUGEL",
          "All By Myself - Alok",
          "All Day (feat. Nonô) - Welshy",
          "All I've Ever Known - Vandelux",
          "All In A Dream - LP Giobbi",
          "All Night Long - Y.V.E. 48 Remix - Nora Van Elken",
          "All Nighter - Tiësto",
          "All Or Nothing - Topic",
          "Allein Allein - INNERVERSE",
          "Always - Monkey Safari Remix - RÜFÜS DU SOL",
          "Another Life (feat. FLETCHER & Josh Golden) - Surf Mesa",
          "Another Love - Tiësto Remix - Tom Odell",
          "Another Time - TWO LANES",
          "Another You - BONNIE X CLYDE",
          "Anti-Hero - Jayda G Remix - Taylor Swift",
          "Antibodies - LP Giobbi Remix - Tensnake",
          "Anywhere - Lonely in the Rain",
          "Anywhere With You - AFROJACK",
          "Apollo - Original Mix - Charlotte de Witte",
          "Arena - Fabian Mazur",
          "Ask Me - Duck Sauce",
          "Assassin - Sultan + Shepard",
          "Atlas - Lane 8",
          "Attack of the Killer Beast (Phonk) - SXCREDMANE",
          "B.O.T.A. (Baddest Of Them All) - Edit - Eliza Rose",
          "B.O.T.A. (Baddest Of Them All) - Eliza Rose",
          "BALADINHA SINISTRA - $werve",
          "BLAST EM' - Aega",
          "BRAND NEW BITCH - COBRAH",
          "BREAK MY SOUL - Beyoncé",
          "BREATHE - yatashigang",
          "BULLET - FORGOTTENAGE",
          "Baby Don't Hurt Me - David Guetta",
          "Baby Girl - Disco Lines",
          "Baby again.. - Fred again..",
          "Bad Memories (feat. Elley Duhé & FAST BOY) - MEDUZA",
          "Bad Memories - Felix Jaehn Remix - MEDUZA",
          "Baianá - Bakermat",
          "Baila Conmigo - Tiësto",
          "Be My Lover (feat. La Bouche) - 2023 Mix - Hypaton",
          "Be My One - Sonny Fodera",
          "Be The One - Eli Brown",
          "Beat Goes On (Rhythm to the Brain) - Campbell",
          "Beat das Trevas - DJ MENOR DA ZN",
          "Beautiful Life - John De Sohn",
          "Because You Move Me - Tinlicker",
          "Beg for You (feat. Rina Sawayama) - Charli XCX",
          "Beggin' - Chris Lake",
          "Bel Mercy - Jengi",
          "Believe (feat. Goodboys) - ACRAZE",
          "Believe (feat. Goodboys) [Galantis Remix] - ACRAZE",
          "Believer - Marsh's Guatape Remix - Above & Beyond",
          "Belly Dancer - Imanbek",
          "Best Is Yet To Come (with Kyle Reynolds) - Gryffin",
          "Better (feat. Teddy Swims) - MK",
          "Better Days - Regard Remix - NEIKED",
          "Better Love - Eliza Rose",
          "Better Than This - John Summit",
          "Beyond Beliefs - Ben Böhmer",
          "Beyond Us - Hatshepsut Version - Eynka",
          "Beyond the Fire - Don Diablo",
          "Big City Life - Luude",
          "Billie (Loving Arms) - Fred again..",
          "Birdz - Wuki",
          "Black Mascara. - RAYE",
          "Body Talk - Ofenbach",
          "Bones - twocolors Remix - Imagine Dragons",
          "Brazilian Phonk Mano - Slowboy",
          "Breaking Apart - Jerro",
          "Breathing - Ben Böhmer",
          "Bright Lights (feat. AR/CO) - Kx5",
          "Broken - AVAION",
          "Broken Lady - VØJ",
          "Burning My Bridges - CLMD",
          "By The End Of The Night - southstar Remix - Ellie Goulding",
          "By Your Side (feat. Tom Grennan) - Calvin Harris",
          "By Your Side (feat. Tom Grennan) - Oliver Heldens Remix - Calvin Harris",
          "CAN'T TOUCH THIS - R3HAB Remix - BIA",
          "CLASH - Edit - The Blaze",
          "COLLAPSE - SHADXWBXRN",
          "COWBELL GOTH - DRAGONMANE",
          "COWBELL WARRIOR! - SXMPRA",
          "CRIME - NORTMIRAGE",
          "Call It Love - Felix Jaehn",
          "Call On Me (feat. Georgia Ku) - Sam Feldt",
          "Can We Be Free - KUURO",
          "Can't Get You out of My Head - Peggy Gou’s Midnight Remix - Kylie Minogue",
          "Can't Help But Think About You - Lincoln Jesser",
          "Can't Tame Her - VIZE Remix - Zara Larsson",
          "Candle Flame - Jungle",
          "Canopée des Cîmes - Jan Blomqvist",
          "Can’t Fight The Feeling - Matroda",
          "Cardboard Box - Happi Remix - FLO",
          "Catch - Jones Meadow",
          "Catching Eyes - 49th & Main",
          "Caught A Body (with Ty Dolla $ign) - Alesso",
          "Chasing Stars (feat. James Bay) - Alesso",
          "Children - Radio Edit - Deborah de Luca",
          "Chill Like That - Sunday Scaries",
          "Chills (LA Hills) - Tiësto",
          "Cimmerian - Lipless",
          "Clap Your Hands - Kungs",
          "Close Eyes - DVRST",
          "Clouds - BUNT.",
          "Cold Heart - PNAU Remix - Elton John",
          "Colourblind - Jess Bays",
          "Coma Cat - Purple Disco Machine Re-Work - Tensnake",
          "Consciousness - Eric Prydz Remix - Anyma",
          "Crazy - PLÜM",
          "Crazy What Love Can Do - David Guetta",
          "Crying On The Dancefloor (feat. Violet Days) - Sam Feldt",
          "Crystals - Isolate.exe",
          "Cynnes - il:lo",
          "DAMN - JOYRYDE",
          "DEMONS IN MY SOUL - SCXR SOUL",
          "DEUS DA GUERRA - $pidxrs?808",
          "DIE LIEBE KOMMT NICHT AUS BERLIN - Brutalismus 3000",
          "DNA - Craig David",
          "DRIVE - MoonDeity",
          "Dance All Over Me - Jax Jones Remix - George Ezra",
          "Dance With Somebody - Sam Feldt",
          "Dance on My Own (feat. Richard Judge) - Frank Walker",
          "Dancing Feet (feat. DNCE) - Kygo",
          "Dancing is Healing - Rudimental",
          "Danielle (Smile on My Face) - Fred again..",
          "Dark Side - Slowed + Reverb - XAN$X",
          "Daybreak - Alice DiMar",
          "Deadly Vice - MUPP",
          "Deep Down (feat. Never Dull) - Alok",
          "Deja Vu - Oliver Heldens",
          "Delilah (Pull Me Out of This) - Fred again..",
          "Delilah (pull me out of this) - Fred again..",
          "Demons - Massane Remix - Jerro",
          "Designer Love - Short Version - MARIA Die RUHE",
          "Devil Eyes - ZODIVK",
          "Dies Irae feat. Black Prez - Apashe",
          "Different Side - Michael Bibi",
          "Disaster - KSLV Noh",
          "Disco Inferno - Syzz",
          "Do It To It - Tiësto Remix - ACRAZE",
          "Do You Feel The Same? - OCULA Remix - Emmit Fenn",
          "Don't Give Up - Latroit",
          "Don't Go Yet - Major Lazer Remix - Camila Cabello",
          "Don't Stop - Biscits",
          "Don’t Wake Me Up - Jonas Blue",
          "Doses & Mimosas (Vintage Culture & Zerky Remix) - Radio Edit - Vintage Culture",
          "Drinks on MI - Minelli",
          "Drive (feat. Wes Nelson) - Topic VIP Remix - Clean Bandit",
          "Drugs From Amsterdam - Mau P",
          "Désenchantée (Oli’s EuroRave Mix) - Oliver Heldens",
          "ECHO OF TERROR - requi3m",
          "ERROR - ROMANTICA",
          "Easy - Nicky Romero",
          "Ecstasy Of Soul - Zeds Dead",
          "Edge of Seventeen - Wuki",
          "El Merengue - Marshmello",
          "Electricity - DubVision",
          "Enjoy Your Life - Romy",
          "Envy - Christian Löffler",
          "Erase - Ben Böhmer",
          "Escape (feat. Hayla) - Kx5",
          "Escape - John Summit Remix - deadmau5",
          "Esta Vida - Marshmello",
          "Eternity - Anyma",
          "Euphoria - Claptone",
          "Everything You Have Done - Meduza Edit - GENESI",
          "Explore Your Future - Anyma",
          "Eyes - TWO LANES",
          "FEELING GUD - NGHTMRE",
          "Fearless - Guapdad 4000",
          "Feel Your Ghost - Tiësto",
          "Feel Your Weight - Poolside Remix - Rhye",
          "Feeling Good - Austin Millz Remix - Nina Simone",
          "Feels - Wh0",
          "Feels Just Like it - LP Giobbi",
          "Feels Like Love (feat. MIYA MIYA) - Syn Cole",
          "Feels This Good - Sigala",
          "Ferrari - James Hype",
          "Ferrari - Oliver Heldens Remix - James Hype",
          "Fever - Lewis Thompson",
          "Fight Back - EBEN",
          "Flare - Hensonn",
          "Follow - Martin Garrix",
          "Follow Me - Sick Individuals Remix - Sam Feldt",
          "Fool 4 U (feat. Enisa) - Galantis",
          "Forever And A Day - Diplo Remix - LP Giobbi",
          "Forever And A Day - LP Giobbi",
          "Forget You (with Gabry Ponte) - LUM!X",
          "Freaky Deaky - R3HAB Remix - Tyga",
          "Free Yourself - Jessie Ware",
          "Friday (feat. Mufasa & Hypeman) - Dopamine Re-Edit - Riton",
          "Friends - Dimitri Vegas",
          "Friends - Emmit Fenn",
          "Fruit&Sun - ford.",
          "Fuck what u heard - The Blessed Madonna",
          "GHOST! - phonk.me",
          "Gassed Up - Zeds Dead",
          "Get Up - Eats Everything",
          "Get Up Off The Floor - FORTELLA",
          "Ghost - Merk & Kremont Remix - Ava Max",
          "Ghost Town - VIZE",
          "Ghostkeeper - Klangkarussell",
          "GigaChad Theme - Phonk House Version - g3ox_em",
          "Gimme That Bounce - Mau P",
          "Give It To Me - Full Vocal Mix - Matt Sassari",
          "Giving Me - Jazzy",
          "God On The Weekend - Ian Asher",
          "Good Feeling (feat. Rhys Lewis) - Bakermat",
          "Good Feeling - Duvall",
          "Good Lies - Overmono",
          "Good Love - Hannah Laing",
          "Good Ones - Joel Corry Remix - Charli XCX",
          "Good Things - MÖWE",
          "Good Time - Jodie Harsh",
          "Goodies - Dillon Francis",
          "Gratitude - Above & Beyond",
          "Green Green Grass - Sam Feldt Remix - George Ezra",
          "Griztronics - GRiZ",
          "Griztronics II (Another Level) - GRiZ",
          "Guddi Riddim - DJ Snake",
          "Gyrate (ft. Wreckno) - Rezz",
          "HIMARS - SCXR SOUL",
          "HOJE EU VOU COMER NOVINHA 02 - DJ AG O GRINGO",
          "HOLD YOU - Angrybaby",
          "HUMBLE. - SKRILLEX REMIX - Skrillex",
          "Hallucination - Navos Remix - Regard",
          "Happy Music - Supershy",
          "Hear Me Say - Jonas Blue",
          "Heartaches - Shallou",
          "Heaven - Dimitri Vegas & Like Mike",
          "Heaven Takes You Home (feat. Connie Constance) - Swedish House Mafia",
          "Here - Shallou",
          "Here We Go Again - Oliver Tree",
          "Here With Me - PEEKABOO",
          "Hero - Alan Walker",
          "Hero - Martin Garrix",
          "Heute Nacht - Maddix",
          "High Heels - Party Down Under - Sam Feldt vs. Flo Rida - Flo Rida",
          "High On You - Lonely in the Rain",
          "High Tide - Shallou",
          "Hiraeth (feat. Kim Van Loo) - Fejká",
          "Hit 'Em Up Style (Oops!) - ESSEL",
          "Hold Me - Lavern",
          "Hold Me Closer - Elton John",
          "Hold Me Closer - Joel Corry Remix - Elton John",
          "Hollow - Dabin",
          "Hopeful - ODESZA",
          "Hot In It - Tiësto",
          "House Of The Rising Sun - Nora Van Elken",
          "How Do I Make You Love Me? - Sebastian Ingrosso & Salvatore Ganacci Remix - The Weeknd",
          "How Do I Say Goodbye - Tiësto Remix - Dean Lewis",
          "How Will I Know - Whitney Houston",
          "Howl - Elderbrook",
          "Hurt - Maikubi",
          "I Can't See - ROW",
          "I Do - PLÜM",
          "I FEEL LIKE DANCING - Hardwell",
          "I Go Dancing (feat. Ella Henderson) - Frank Walker",
          "I Got A Feeling - Felix Jaehn",
          "I Knew It Was You - Tungevaag",
          "I Know - Kanii",
          "I Love It (feat. Charli XCX) - I Don’t Care 2022 Re-Edit - Icona Pop",
          "I Need You - Elderbrook",
          "I Never Really Cared - Stoto",
          "I Wanna Dance with Somebody (Who Loves Me) - David Solomon Remix - Whitney Houston",
          "I Was Made For Lovin' You (feat. Nile Rodgers & House Gospel Choir) - Oliver Heldens",
          "I'm Good (Blue) - David Guetta",
          "IMMACULATE - VISXGE",
          "IMY (feat. Bella Renee) - REAPER",
          "INCOMING - MC ORSEN",
          "If Love Is A Skill - LP Giobbi",
          "If The World Just Danced - MOTi Remix - Diana Ross",
          "If We’ll Ever Be Remembered - Martin Garrix",
          "In Control - Innellea Remix - Forma",
          "In My Zone - Tungevaag",
          "In The Yuma (feat. Aatig) - Chris Lake",
          "Indulgence - Nora En Pure",
          "Infinity - Borgeous",
          "Ininna Tora - Timmy Trumpet",
          "Inner Light - Elderbrook",
          "It's Quiet Now (feat. Dope Earth Alien) - Honey Dijon",
          "I’ll Find My Way To You - Elderbrook",
          "JOY (God Only Knows) - Joy Anonymous",
          "JUDAS - SAY3AM",
          "Jacaré - Sofi Tukker",
          "Journey (Take Me Where You Wanna) - Don Diablo",
          "Joy - salute",
          "Judgement Day - Hardwell",
          "Jungle - Fred again..",
          "Just - Amtrac",
          "Just Over - Yotto",
          "Just Say - Coco & Breezy",
          "KILL DEM - Jamie xx",
          "Kamili - Francis Mercier",
          "Ke Shy - Major Lazer",
          "Keep On Dancing - AVAION",
          "Keraunos - PlayaPhonk",
          "Kernkraft 400 (A Better Day) - Topic",
          "Killing Me - Aluna",
          "LAND OF FIRE - Kordhell",
          "LET'S RIDE! - Drift Phonk - SXMPRA",
          "LILITH - ZODIVK",
          "La Danza - John Summit",
          "Laidback - Memphis Cult",
          "Laserbeam - Ray Volpe",
          "Lavender Haze - Felix Jaehn Remix - Taylor Swift",
          "Lavender Haze - Snakehips Remix - Taylor Swift",
          "Lay Low - Tiësto",
          "Leave Me Low - Devault",
          "Left and Right (feat. Jung Kook of BTS) - Galantis Remix - Charlie Puth",
          "Legit - Erlandsson",
          "Let Me Love U - Baauer",
          "Let Me Take You - CID",
          "Let Somebody Go - Kygo Remix - Coldplay",
          "Let You Do This (with Buy Now) - Salvatore Ganacci",
          "Let You Go - Diplo",
          "Life Is Good - Justin Caruso",
          "Life in Rio - Slowboy",
          "Life on Hold - Nora En Pure",
          "Life's Too Short - Two Friends",
          "Light Of Day - ODESZA",
          "Light Up - nimino",
          "Lightning To Strike - J. Worra",
          "Like Crazy (Deep House Remix) - Jimin",
          "Like I Used To - Sonny Fodera",
          "Like Wooh Wooh - Radio Edit - Rnbstylerz",
          "Like Wooh Wooh - Rnbstylerz",
          "Like You Do - D.O.D",
          "Live Another Day - Kordhell",
          "Long Summer Nights - Oliver Nelson",
          "Lose Control - 220 KID",
          "Lose Control - James Hype",
          "Lose My Mind - Jamie Jones",
          "Lose You - Felix Jaehn Remix - Sam Smith",
          "Lost - Le Youth",
          "Lost In Space - Emmit Fenn",
          "Lost My Mind (Wake Up) - BUNT.",
          "Love Again - Imanbek Remix - Dua Lipa",
          "Love Like We're Dying - Scorz",
          "Love You Back - Madeon",
          "Loved By U - TOKiMONSTA",
          "Loving You (feat. Katy Alex) - Piero Pirupa",
          "MAMI - Chris Lorenzo",
          "ME WITHOUT U - Kaleena Zanders",
          "MEGAZORD - GRiZ",
          "METAMORPHOSIS - INTERWORLD",
          "METAMORPHOSIS 3 - INTERWORLD",
          "MIDNIGHT - PLAYAMANE",
          "MONEY ON THE DASH - Elley Duhé",
          "MONTAGEM - MELODIA ENVOLVENTE 4 - DJ Dudah",
          "MOZART PHONK - NUEKI",
          "MTG - REBOLA NO MEU C4RALHO - DJ LA BEAT",
          "MURDER PLOT - Kordhell",
          "Made You Look - Joel Corry Remix - Meghan Trainor",
          "Make Me - Borai & Denham Audio",
          "Make Me Feel - The Chainsmokers",
          "Make Me Feel Good - Belters Only",
          "Manila Palm - Parra for Cuva",
          "Maria Maria - TECH IT DEEP",
          "Marianela (Que Pasa) - HUGEL",
          "Matter of Time - Vandelux",
          "Medicine - Lucas Estrada",
          "Memories (feat. Kid Cudi) - 2021 Remix - David Guetta",
          "Mercy - Jauz",
          "Message In A Bottle (Fat Max G Remix) (Taylor’s Version) - Taylor Swift",
          "Mexico - Dimitri Vegas & Like Mike",
          "Midnight Rapture - Anabel Englund",
          "Million Dollar Baby - Nathan Dawe Remix - Ava Max",
          "Mine To Love - Ross Quinn",
          "Miracle (with Ellie Goulding) - Calvin Harris",
          "Miracle Maker - Dom Dolla",
          "Misbehave - Ship Wrek",
          "Miss You - Oliver Tree",
          "Mom's Here - TTM",
          "More Love - Noizu",
          "More Than A Woman - SG's Paradise Edit - Bee Gees",
          "More Than I Can Say - GAMPER & DADONI",
          "Moth To A Flame (feat. The Weeknd) - Adriatique Remix - Swedish House Mafia",
          "Motion - Vandelux",
          "Move Your Body - Öwnboss",
          "Murder In My Mind - Kordhell",
          "My Feelings For You - Don Diablo Remix - Avicii",
          "My Feelings For You - Mark Knight Remix - Avicii",
          "My Head & My Heart - Claptone Remix - Ava Max",
          "My Universe - Galantis Remix - Coldplay",
          "NEON BLADE - MoonDeity",
          "Name Drop - Excision",
          "Need Somebody - Jerro",
          "Need You There - M-22",
          "Never Ending - Bob Moses",
          "Never Going Home - Kungs",
          "Never Gonna Not Dance Again - Sam Feldt Remix - P!nk",
          "New Bottega - Torren Foot",
          "New Fires - Christian Löffler",
          "New Gold (feat. Tame Impala and Bootie Brown) - Dom Dolla Remix - Gorillaz",
          "Next To You (feat. Kane Brown) - Loud Luxury",
          "Night Feels - AR/CO",
          "Night Ride - FindMyName",
          "No Fun - Lane 8",
          "North Memphis - Pharmacist",
          "Numb - Alok Remix - Marshmello",
          "Numb - Marshmello",
          "OUT OUT (feat. Charli XCX & Saweetie) - Joel Corry",
          "Obsolete - Sullivan King Remix - Of Mice & Men",
          "Oceanside Girl - Holo",
          "Off The Ground - Sub Focus",
          "Oh, Miles - Lane 8",
          "Old School - Marshmello",
          "On & On - Armin van Buuren",
          "On Repeat - Robin Schulz",
          "One Last Dance - Audien",
          "One Three Nine - Zeds Dead",
          "Ordel - Parra for Cuva",
          "Original Sin - Felix Jaehn Remix - Sofi Tukker",
          "Original Sin - Sofi Tukker",
          "Other Side - ILLENIUM",
          "Out of Time - KAYTRANADA Remix - The Weeknd",
          "Over You - Dillistone",
          "Override - KSLV Noh",
          "Own Paradise - LXAES",
          "PHONK (200mg) - DEHA INC.",
          "PHONKGASKAR - Rushex",
          "POOR - gqtis",
          "PRINCE OF DARKNESS - SHADXWBXRN",
          "PSYCHO CRUISE - ONIMXRU",
          "Paradox - Lipless",
          "People Ain't Dancing (feat. Kah-Lo) - Billen Ted",
          "Pepas - Farruko",
          "Phonk Drift - VØJ",
          "Phonky Town - PlayaPhonk",
          "Phonky Tribu - Funk Tribu",
          "Players (with David Guetta) - David Guetta Remix - Coi Leray",
          "Players - DJ Smallz 732 - Jersey Club Remix - Coi Leray",
          "Point Of No Return - Adam Port",
          "Poltergeist - RAIZHELL",
          "Praising You (feat. Fatboy Slim) - Rita Ora",
          "Pretty People (feat. INJI) - Dillon Francis",
          "Pump It Louder - Tiësto",
          "Pump It Up - Endor",
          "Push To Start (feat. No/Me) - Noizu",
          "Push Up - Original Mix - Creeds",
          "Puzzle Box - Rezz",
          "Pyramids - Otto Knows",
          "Quiver - SILK",
          "RAPTURE - INTERWORLD",
          "RATATA - Skrillex",
          "RAVE - Dxrk ダーク",
          "REACT - Switch Disco",
          "RITMADINHA DANÇANTE - DJ GUDOG",
          "Rainfall (Praise You) - Tom Santa",
          "Rasputin - Majestic",
          "Raye - Sultan + Shepard",
          "Ready To Fly - Sub Focus & Dimension - Sub Focus",
          "Reaper (feat. JID) - Boombox Cartel",
          "Rebirth - Tinlicker",
          "Red Lights - EMBRZ Remix - Lane 8",
          "Redlight - Swedish House Mafia",
          "Relax My Eyes - ANOTR",
          "Relight My Love - Matisse & Sadko",
          "Rely On Me - Sigala",
          "Remember (feat. Stevie Appleton) - Sonny Fodera",
          "Remember - Becky Hill",
          "Remember - King Henry",
          "Revolution - Hardwell",
          "Rewind.. (But I Love You) - WHIPPED CREAM",
          "Rhyme Dust - MK",
          "Rhythm (Of The Night) - Something Good",
          "Rise (Sam Feldt Remix) - Calum Scott",
          "Risk It All - Ella Henderson",
          "Ritmo - Raffa Fl",
          "Rock My Body - R3HAB",
          "Rolling Back - TWO LANES",
          "Ronda - Christian Löffler",
          "Rumble - Skrillex",
          "Run - Becky Hill",
          "Run - NORRA",
          "Running up That Hill - Dayne S",
          "SHADOW - ONIMXRU",
          "SHOOTERS - FORGOTTENAGE",
          "SLAUGHTER HOUSE - Phonkha",
          "SMOKE IT OFF! - Lumi Athena",
          "STARFALL - MoonDeity",
          "SUCCUMB - Dxrk ダーク",
          "SUICIDE YEAR - WEEDMANE",
          "SUNRISE (Slowed + Reverb) - Xantesha",
          "Sacrifice (Remix) (feat. Swedish House Mafia) - The Weeknd",
          "Sacrifice - Kaskade",
          "Sacrificial - Rezz",
          "Safe - Joris Voorn Remix - Monkey Safari",
          "Sahara - Hensonn",
          "Salta - Sultan + Shepard",
          "Satisfaction - David Guetta",
          "Saved My Life (with R3HAB) [R3HAB VIP Remix] - Andy Grammer",
          "Say It To Me - Otto Knows",
          "Say Say Say (feat. Paul McCartney & Michael Jackson) - Kygo",
          "Scary Garry - Kaito Shoma",
          "Scopin - Kordhell",
          "Sea Of Problems - glichery",
          "Seasons - Arinity",
          "See In Color - Wax Motif",
          "See You - Shallou",
          "Selfish Soul - ODESZA Remix - Sudan Archives",
          "Serotonin Moonbeams - The Blessed Madonna",
          "Set Me Free - D.O.D",
          "Set You Free - Lucas & Steve",
          "Sete - BLOND:ISH",
          "Shackles (Praise You) - MALARKEY",
          "Shades Of Love (feat. The Joy) - The Blessed Madonna",
          "Shadow - Syn Cole",
          "Shit We Do For Love - Icona Pop",
          "Shivers (Dillon Francis Remix) [Main Mix] - Ed Sheeran",
          "Side Effects - Becky Hill",
          "Sinnerman - Sofi Tukker Remix - Nina Simone",
          "Slapper - Fast & Furious: Drift Tape/Phonk Vol 1 - DVRST",
          "Smack Yo' - Beltran",
          "Somebody To Love - MARF",
          "Something About - CRi",
          "Something About Your Love - SG Lewis",
          "Something Was Real - Eli & Fur",
          "Sometimes… (with Daya & Earthgang) - Snakehips",
          "Sorry (with Madonna) - BLOND:ISH",
          "Speakerbox (feat. Lafa Taylor) - Bassnectar",
          "Spirits Pt. 2 - Party Favor",
          "Spring Embers - Nora En Pure",
          "Stargazing - Monocule",
          "Starlight (Keep Me Afloat) - Martin Garrix",
          "Stay With Me (with Justin Timberlake, Halsey, & Pharrell) - Calvin Harris",
          "Stay the Night - Sigala",
          "Steal My Clothes (ft. Bea Miller) – LP Giobbi Remix - Kito",
          "Step Back! - 1nonly",
          "Stop This Flame - Celeste x MK - Celeste",
          "Strong - Romy",
          "Substitution - Purple Disco Machine",
          "Suenos Bravos - Bodysync",
          "Suffer In Silence - Rezz",
          "Sugar (feat. Soaky Siren) - Riton",
          "Summer In New York - Sofi Tukker",
          "Summertime - Imanbek Remix - Lana Del Rey",
          "Sun Will Shine - Robin Schulz",
          "Sunrays - AK",
          "Sunrise Bang Ur Head Against Tha Wall - Nia Archives",
          "Sunroof - Loud Luxury Remix - Nicky Youre",
          "Sunshine - MOTi Remix - OneRepublic",
          "Survive - Lane 8",
          "Swaggin' at the Partment - Ghostface Playa",
          "Sweet Caroline - Dimitri Vegas & Like Mike",
          "Sweet Nothings (feat. Minke) - Holiday87",
          "Sweetest Pie - David Guetta Dance Remix - Megan Thee Stallion",
          "THE ONE - INJI",
          "TOKYO DRIFT - PRXSXNT FXTURE",
          "TOTALITARIANISM II - STAYSOLD",
          "TRUSTFALL - Drove Remix - P!nk",
          "TUTUTUTU - NUEKI",
          "Take Me Away - ACRAZE",
          "Take Me Home - Maikubi",
          "Take Me To The Sunshine (feat. BullySongs) - Matoma",
          "Tal - pølaroit",
          "Talk It Over - Elderbrook",
          "Tears - Tim Green",
          "Tell It To My Heart (feat. Hozier) - Tiësto Remix - MEDUZA",
          "Tell Me Something Good - Ewan McVicar",
          "Tell Me Why - MEDUZA Remix - Supermode",
          "Temptation - Bakermat",
          "The Best Part - gardenstate",
          "The Best Part of Life (Imanbek Remix) - SAINt JHN",
          "The Calling - Tchami",
          "The Chase - Emmit Fenn",
          "The Drop - Dimitri Vegas",
          "The Fall - The Chainsmokers",
          "The Funk - TIEKS",
          "The Hard Way - PNAU",
          "The Last Goodbye - ODESZA",
          "The Motto - Tiësto",
          "The Music Began To Play - Mark Knight",
          "The Observer - Kasper Koman",
          "The Sign - CamelPhat",
          "The Way We Were (feat. Plested) - Kygo",
          "There For You - Y.V.E. 48",
          "These Are The Days (feat. Liv Dawson) - Anton Powers",
          "These Nights - Loud Luxury",
          "These Things Will Come To Be - DJ Seinfeld",
          "This Is The Sound - Riva Starr",
          "Those Eyes - ARTY",
          "Thunder - Gabry Ponte",
          "Thunder - Lucas Estrada",
          "Time to Groove (feat. Nonô) - Majestic",
          "Tina - Vintage Culture",
          "Titanium (feat. Sia) - David Guetta & MORTEN Future Rave Remix - David Guetta",
          "Togetherness - LP Giobbi",
          "Transmission - Joris Voorn Remix - Eelke Kleijn",
          "Trials - NGHTMRE",
          "Trompeta - San Pacho",
          "Turn Back Time - Marc Benjamin",
          "Turn On The Lights again.. (feat. Future) - Anyma Remix - Fred again..",
          "Turn On The Lights again.. (feat. Future) - Fred again..",
          "Turning Away - Parra for Cuva Remix - Monolink",
          "Twilight - GRAVECHILL",
          "Twin Flame - KAYTRANADA",
          "U Ok? - PARISI",
          "Unholy (feat. Kim Petras) - Disclosure Remix - Sam Smith",
          "Unstoppable - R3HAB Remix - Sia",
          "Until We Leave the Ground - Steve James Remix - Emmit Fenn",
          "Upside Down (feat. Poppy Baskcomb) - MEDUZA",
          "V I B R A T I O N - Kaleena Zanders",
          "VAI DJ NPC SOCA COM VONTADE / MACHUCA MACHUCA - DJ NpcSize",
          "VUK VUK - Kordhell",
          "Voodoo - Gorgon City",
          "Voodoo - Tinlicker",
          "WAKE UP! - MoonDeity",
          "WORTH NOTHING (feat. Oliver Tree) - Fast & Furious: Drift Tape/Phonk Vol 1 - TWISTED",
          "Wait For It - salute",
          "Wake Up! (feat. Kaleta) - Purple Disco Machine",
          "Waterfall - Disclosure",
          "We Are The People - southstar Remix - Empire of the Sun",
          "We Will Meet Again - San Holo",
          "Weekends - Jonas Blue",
          "What A Life (feat. Stevie Appleton) - John Summit",
          "What It Feels Like - Navos",
          "What You Say? - Young Marco",
          "When I'm Gone (with Katy Perry) [VIP Mix] - Alesso",
          "When I’m Gone (with Katy Perry) - Alesso",
          "Where Are You Now - Lost Frequencies",
          "Where Did You Go? (feat. MNEK) - Jax Jones",
          "Where You Are - John Summit",
          "Where did you go - AVAION",
          "Whistle (feat. Calum Scott) - Jax Jones",
          "Who Do You Love - ARTY",
          "Why - Bobby Love",
          "Why Not - Ghostface Playa",
          "Wings (I Won't Let You Down) - Armand Van Helden",
          "Wish I Could Forget (with blackbear & Bring Me The Horizon) - SLANDER",
          "With My Friends - Tungevaag",
          "Woke Up in Love - Kygo",
          "Woman - Lane 8",
          "Won't Forget You (Edit) - Shouse",
          "Words (feat. Zara Larsson) - Alesso",
          "Work With My Love - Alok",
          "World Hold On - FISHER Rework - Bob Sinclar",
          "Wounded - Ferry Corsten",
          "Wrong or Right (The Riddle) - Bassjackers",
          "Yahyuppiyah (feat. Pcee, EeQue & Chley) - Uncle Waffles",
          "Yeah The Girls - FISHER",
          "You Know What I Need - PNAU",
          "You Make Me Feel - Solardo",
          "You Only Love Me - Shift K3Y Remix - Rita Ora",
          "You're Free - Icona Pop",
          "You've Got To Let Go If You Want To Be Free - Disclosure",
          "Young Right Now - Robin Schulz",
          "Your Love Keeps Lifting Me Higher - Revival",
          "Your Mind - CamelPhat",
          "classical phonk - 0to8",
          "dashstar* - Yellow Claw Trap Edit - Knock2",
          "dropitlikeitshot! - Sadfriendd",
          "edamame (feat. Rich Brian) - Diplo Remix - bbno$",
          "go - goddard. Remix - Cat Burns",
          "golden hour - R3HAB Remix - JVKE",
          "gutter - venbee",
          "help urself - HXI",
          "messy in heaven - venbee",
          "mine (Ty Sunderland Remix) - Kelly Clarkson",
          "on & on - piri",
          "vendetta! - MUPP",
          "what would you do? - Galantis Remix - Tate McRae",
          "|BONKERS| - staplegun"
         ],
         "legendgroup": "",
         "marker": {
          "color": [
           5,
           1,
           3,
           1,
           5,
           1,
           3,
           1,
           1,
           3,
           0,
           5,
           3,
           3,
           1,
           3,
           3,
           3,
           0,
           4,
           5,
           1,
           0,
           4,
           3,
           1,
           2,
           0,
           3,
           3,
           4,
           1,
           2,
           1,
           1,
           4,
           2,
           0,
           0,
           0,
           3,
           4,
           1,
           3,
           3,
           0,
           1,
           3,
           3,
           1,
           3,
           0,
           0,
           1,
           3,
           3,
           3,
           0,
           3,
           0,
           5,
           1,
           0,
           3,
           3,
           2,
           3,
           1,
           1,
           3,
           4,
           0,
           2,
           4,
           2,
           3,
           1,
           3,
           0,
           1,
           1,
           0,
           4,
           4,
           1,
           0,
           0,
           1,
           5,
           1,
           1,
           3,
           0,
           5,
           1,
           1,
           4,
           1,
           1,
           5,
           5,
           5,
           0,
           5,
           4,
           1,
           3,
           4,
           0,
           3,
           5,
           2,
           0,
           3,
           2,
           3,
           2,
           4,
           3,
           1,
           0,
           4,
           1,
           1,
           5,
           4,
           2,
           1,
           2,
           5,
           4,
           5,
           3,
           5,
           0,
           1,
           3,
           1,
           1,
           2,
           2,
           4,
           3,
           1,
           5,
           5,
           0,
           4,
           2,
           1,
           1,
           0,
           1,
           3,
           2,
           0,
           5,
           0,
           5,
           1,
           1,
           5,
           0,
           3,
           0,
           0,
           3,
           5,
           0,
           1,
           0,
           3,
           2,
           2,
           5,
           5,
           1,
           4,
           4,
           3,
           4,
           4,
           1,
           1,
           3,
           4,
           3,
           4,
           0,
           3,
           1,
           3,
           3,
           1,
           3,
           2,
           5,
           1,
           5,
           4,
           1,
           3,
           3,
           3,
           3,
           1,
           0,
           2,
           0,
           0,
           1,
           0,
           0,
           5,
           3,
           4,
           4,
           4,
           3,
           1,
           5,
           1,
           5,
           4,
           3,
           5,
           3,
           3,
           1,
           5,
           1,
           5,
           3,
           4,
           0,
           3,
           0,
           3,
           5,
           1,
           5,
           1,
           1,
           5,
           3,
           0,
           1,
           0,
           0,
           5,
           4,
           1,
           0,
           4,
           2,
           3,
           4,
           3,
           3,
           3,
           2,
           1,
           5,
           4,
           1,
           1,
           0,
           3,
           1,
           2,
           4,
           3,
           3,
           3,
           5,
           1,
           0,
           2,
           1,
           5,
           1,
           1,
           1,
           2,
           0,
           3,
           5,
           2,
           3,
           0,
           2,
           3,
           0,
           0,
           1,
           4,
           3,
           0,
           1,
           1,
           1,
           2,
           0,
           2,
           4,
           0,
           0,
           0,
           0,
           0,
           4,
           5,
           1,
           1,
           0,
           2,
           0,
           4,
           3,
           1,
           5,
           3,
           5,
           3,
           5,
           0,
           1,
           3,
           0,
           1,
           0,
           3,
           0,
           3,
           4,
           2,
           3,
           1,
           1,
           0,
           4,
           1,
           0,
           1,
           5,
           5,
           5,
           5,
           0,
           2,
           4,
           1,
           3,
           5,
           3,
           3,
           3,
           3,
           5,
           4,
           3,
           0,
           1,
           5,
           2,
           3,
           3,
           5,
           5,
           2,
           1,
           2,
           3,
           3,
           0,
           1,
           0,
           5,
           3,
           1,
           5,
           3,
           1,
           5,
           5,
           5,
           1,
           2,
           1,
           5,
           1,
           0,
           1,
           3,
           5,
           0,
           5,
           5,
           1,
           0,
           3,
           4,
           3,
           3,
           3,
           5,
           3,
           4,
           0,
           1,
           1,
           0,
           1,
           2,
           0,
           3,
           1,
           1,
           2,
           3,
           2,
           2,
           3,
           3,
           0,
           4,
           2,
           5,
           5,
           3,
           3,
           2,
           0,
           0,
           1,
           1,
           2,
           4,
           0,
           4,
           1,
           1,
           4,
           2,
           4,
           3,
           3,
           2,
           0,
           1,
           3,
           1,
           3,
           3,
           4,
           2,
           1,
           0,
           2,
           5,
           4,
           1,
           2,
           1,
           1,
           0,
           4,
           3,
           0,
           2,
           0,
           3,
           5,
           1,
           1,
           1,
           4,
           4,
           4,
           3,
           4,
           5,
           1,
           1,
           3,
           4,
           2,
           0,
           3,
           4,
           4,
           1,
           3,
           1,
           5,
           4,
           0,
           1,
           4,
           1,
           1,
           5,
           2,
           2,
           4,
           5,
           1,
           3,
           5,
           4,
           1,
           4,
           4,
           5,
           5,
           5,
           1,
           1,
           0,
           1,
           3,
           1,
           3,
           1,
           3,
           0,
           5,
           4,
           0,
           1,
           3,
           1,
           4,
           1,
           0,
           5,
           3,
           4,
           0,
           5,
           5,
           1,
           5,
           3,
           1,
           0,
           3,
           0,
           2,
           3,
           5,
           3,
           1,
           2,
           2,
           5,
           1,
           2,
           2,
           5,
           0,
           5,
           0,
           0,
           2,
           0,
           4,
           4,
           5,
           1,
           4,
           0,
           2,
           5,
           4,
           4,
           3,
           0,
           3,
           0,
           4,
           3,
           3,
           5,
           3,
           5,
           1,
           0,
           4,
           4,
           0,
           4,
           5,
           3,
           2,
           5,
           1,
           3,
           1,
           5,
           0,
           4,
           5,
           2,
           3,
           2,
           1,
           4,
           0,
           4,
           0,
           1,
           0,
           3,
           1,
           3,
           2,
           5,
           3,
           1,
           4,
           2,
           0,
           3,
           3,
           1,
           5,
           5,
           3,
           1,
           0,
           1,
           1,
           5,
           3,
           0,
           1,
           5,
           3,
           5,
           1,
           2,
           0,
           3,
           3,
           1,
           3,
           4,
           1,
           5,
           1,
           3,
           5,
           1,
           3,
           0,
           1,
           5,
           1,
           3,
           1,
           1,
           1,
           2,
           4,
           0,
           3,
           3,
           0,
           3,
           1,
           4,
           5,
           5,
           1,
           3,
           5,
           0
          ],
          "coloraxis": "coloraxis",
          "symbol": "circle"
         },
         "mode": "markers",
         "name": "",
         "scene": "scene",
         "showlegend": false,
         "type": "scatter3d",
         "x": [
          -2.1582676813479913,
          -3.5685493998696445,
          -3.043406918012,
          -3.914989033616939,
          -0.9811212633347666,
          -4.007057301611869,
          -4.056816741018025,
          -2.920042781623706,
          -4.143051534984091,
          -2.165392185189623,
          1.9183243910263255,
          -3.5439717956681607,
          -4.565279649562556,
          -3.7053193825810498,
          -1.6825838029926856,
          -4.651825509452233,
          -3.83487752712745,
          -1.8141608883776463,
          1.6687051003064943,
          7.52951957883128,
          -1.8254566428446362,
          -2.208864423062863,
          1.5335844434799601,
          5.354581999702539,
          -2.6623761816584115,
          -2.1327521762142743,
          9.204403346093596,
          0.5391988624989069,
          -3.6468839012650305,
          -1.433099598324607,
          7.020716240606275,
          -2.6011981514646303,
          6.391112909449031,
          -2.573372174814186,
          -2.3527691758495908,
          6.960349123884674,
          9.04369212560101,
          1.6684659531630162,
          1.1568859818595447,
          2.20682716344336,
          -4.736829946971738,
          5.920855063028114,
          -1.803950005513182,
          -4.7301728115419275,
          -1.8122144186977094,
          2.016223193721186,
          -2.4912689160811725,
          -1.8315612854303378,
          -2.1878523670920225,
          -3.3962452699819323,
          -2.6441021943231036,
          3.2722284432116817,
          2.3205066258076164,
          -1.7838800060532662,
          -3.9939205033515455,
          -2.3338362090783575,
          -3.0882169756718687,
          0.473158679668052,
          -1.2139209080147184,
          0.6925329735156021,
          -2.1961848677190314,
          -1.283342466308795,
          2.4049589726702076,
          -3.000575156944902,
          -3.300941622305408,
          6.838367127156876,
          -3.5406964796433495,
          -3.0357217120347135,
          -3.9493472596176358,
          -3.120644772208917,
          4.7911926132579215,
          2.4470571784183672,
          10.040696976988974,
          6.178502217359453,
          10.276745227067089,
          -2.721043940333569,
          -2.2492344233241326,
          -2.663992664830998,
          -0.17204350610112895,
          -3.09525805162602,
          -2.058869813529836,
          -0.47975436313931474,
          5.569142174970856,
          5.745089244921492,
          -2.157356305058145,
          1.3911744610043926,
          1.360539430623223,
          -1.8664946966708178,
          -0.9909016702289491,
          -4.300620497568087,
          -1.7651332288939943,
          -4.182994609018758,
          0.0003292899341437172,
          0.11245276658343195,
          -1.4748301513322593,
          -4.637642406401131,
          7.218671862683592,
          -4.111044710444614,
          -2.7723765280197297,
          -1.750021067756823,
          -1.5782478682835641,
          -0.17421274739145834,
          -0.6127915216547974,
          -2.5447103547307295,
          6.099518948089074,
          -3.453174978966309,
          -2.9796647727458785,
          6.052523853485904,
          1.2309931858400196,
          -3.015227410526,
          -1.5889593679575702,
          6.002762898531557,
          2.5890873156185434,
          -3.2749965757236534,
          7.68877424932113,
          -4.907220560660287,
          5.869284373031207,
          6.629550870416189,
          -5.135119654314471,
          -2.678174624203762,
          2.8353558857867727,
          5.429820364538535,
          -0.8358578696335097,
          -2.9276914297701775,
          -1.6750911709624263,
          6.2646532706718645,
          7.245094849636112,
          -3.432654417169964,
          5.7226330721950225,
          -1.0842209112795032,
          4.57653009701519,
          -3.200772709863182,
          -3.0864201008201344,
          -2.042396884789062,
          -0.9493483225737689,
          -1.999504837441469,
          -3.1879578626765612,
          -2.1486706932149593,
          -2.2609406197300386,
          5.476111090407156,
          6.247485777847273,
          6.913660182362017,
          -5.299861387195204,
          -0.9989800623975243,
          -2.457437957456505,
          -2.4808489786420225,
          0.6662488302496155,
          7.857052245022263,
          5.182719622539945,
          -2.195470615515633,
          -1.3416911160225298,
          0.12761250032399546,
          -2.8584832076225393,
          -2.3602506453139456,
          7.392986370604913,
          3.2123439429455702,
          -2.189496316239748,
          -0.06798704659709638,
          -1.4015842074165328,
          -2.9375471692007125,
          -2.480378401810056,
          -2.0092962273043358,
          2.8338996490103425,
          -2.1485600878075957,
          -0.649833109050348,
          2.261718474985031,
          -3.6571143537616666,
          -0.8094192188044351,
          2.185672214146058,
          -3.5442637841258384,
          1.3437419856831854,
          -4.728475853932585,
          9.813493427123763,
          6.2658747575470315,
          -0.9191023486592229,
          -0.4214779593474556,
          -2.478316912359539,
          5.9689779091891335,
          6.665882405056917,
          -1.639792858265613,
          4.539087371794734,
          7.824276584655474,
          -2.6096806852793994,
          -4.321867451352958,
          -3.2577869584778116,
          6.2548753725786215,
          -2.6104490429823324,
          4.376455521554116,
          1.078186744535628,
          -3.7371915509925837,
          -3.8841650849892,
          -3.9536078185730195,
          -1.8711970386709527,
          -2.7275493209415496,
          -2.305643432057364,
          6.934987187901224,
          1.1389106391375265,
          -1.752424493537638,
          -1.512834037552924,
          4.9412212442402,
          -0.6748483733543634,
          -1.5972558507721695,
          -2.292375831837351,
          -4.423248871051269,
          -5.09882223236833,
          -4.077372690494423,
          0.11874897880136892,
          9.108370124616767,
          2.424508085257071,
          0.3154140522291383,
          -2.5818526747122235,
          3.1157516640138954,
          3.197220082078816,
          -2.167657408531246,
          -2.797526675250335,
          5.756029349675758,
          6.1838094011893885,
          6.328600108698813,
          -4.825223574788049,
          -1.5043854621781168,
          -1.882067440939727,
          -3.3452556857601556,
          -2.4154656899705764,
          5.26025917276485,
          -2.449864963890525,
          -2.500798325650118,
          -2.9326314932742656,
          -5.171767098197817,
          -3.7738687439384067,
          -0.3501224950550208,
          -3.812373236183017,
          -2.700865721597743,
          -4.325053255684488,
          5.772250386478477,
          2.732787249109076,
          -3.048171570293741,
          0.6634892049892062,
          -0.8279187756932277,
          -4.557618947871479,
          -2.50265905360982,
          0.31069091842052665,
          -3.045629388016968,
          -0.7335920359918247,
          -2.9651609273912176,
          -1.5864906174641398,
          2.9704818338930585,
          -2.578534749794333,
          0.8525182442056757,
          -0.972355284615736,
          -0.7862831567162408,
          3.6936586569396264,
          -4.063181645309059,
          2.778259411145124,
          4.242616474732637,
          8.0102262701516,
          -3.483666946435691,
          7.000570318462179,
          -3.422609065170169,
          -2.0118143481243886,
          -3.139382740072133,
          5.515128112005991,
          -3.917975440321779,
          0.7021218811426483,
          3.4626514896257583,
          -0.7139134345493984,
          -2.993684889821816,
          -0.9071587643550503,
          -3.2115654373567892,
          -1.9795778076928938,
          6.108582598871408,
          5.621017990190632,
          -2.1974797125013397,
          -2.9019692798193475,
          -2.4241420078132236,
          0.5573998274036915,
          -3.5356622659713306,
          1.9649743210224613,
          10.753167613338544,
          -1.6278817992583563,
          -3.5765996612437556,
          -3.0214974827531216,
          -1.6471333207916703,
          -2.4060918774218742,
          4.6798439548688755,
          1.5936365035436348,
          -1.776411774609178,
          -1.4259715786809286,
          5.944711011607735,
          -2.544612407859699,
          1.9397966209258732,
          7.794707856732282,
          -1.7386909261034726,
          2.5085827160778518,
          -0.9369528672806822,
          -2.0706338608757586,
          5.333798438554799,
          -3.4062332008849463,
          1.6608814687307722,
          -3.3044657041917866,
          -1.7090574125042706,
          -3.6527028548245015,
          5.575131250044642,
          1.0128414464470012,
          6.613553249800277,
          5.9431319116922845,
          -1.435457134615532,
          0.2969274852902499,
          0.1882111321249169,
          -0.578102929436625,
          0.5216435619441422,
          6.218750255862693,
          -1.5026834743260198,
          -2.3120696514566776,
          -2.7927625033885364,
          0.5220466028801913,
          4.61824714964032,
          2.669331176251347,
          5.81132990932781,
          -1.5810558856910202,
          -2.9233930306011926,
          -1.8270236993978262,
          -3.6117533243172875,
          0.9163902852660892,
          -3.5145987743190275,
          -0.890298297641303,
          2.480539841416163,
          -3.970957308003639,
          -1.6054942699370978,
          0.1514137054542608,
          -2.4120184962672147,
          -0.8161814411851471,
          -2.487957156422476,
          3.6140475660906084,
          -2.5692012508340283,
          6.603681360432345,
          11.341854688303501,
          -2.941042709082418,
          -2.7925154099580145,
          -2.7435146297363633,
          3.259395157485886,
          4.860878704577516,
          -2.4587417631796717,
          3.5272744466941557,
          -1.7558858122756327,
          -2.737980925412309,
          -1.5717080398799341,
          -2.3343876522015936,
          -2.4344758794870183,
          2.587840870196174,
          4.300713368773863,
          6.115704311340461,
          -3.677107179883513,
          -0.7592877796217294,
          -0.5067853005025362,
          -2.099483800979429,
          -3.9219303877400664,
          -3.460788510645176,
          -4.434378613125013,
          -2.290843421500697,
          8.105596472168434,
          -3.545415730682693,
          0.3664348800443278,
          -1.6419404824589772,
          -1.1744695163166434,
          4.234181663258047,
          -1.87405340549386,
          -4.869396890692478,
          -1.5153056667333085,
          -3.4476833085274743,
          4.477075365883339,
          -2.1453327992402955,
          7.50253580373611,
          -2.6407272249628115,
          -4.106794627970862,
          1.6412766793773783,
          -0.5903570283238684,
          -0.209136763708282,
          -4.159596698821353,
          -2.2577868093260514,
          -2.0691139171179413,
          -1.343025515930559,
          -3.4731280551795094,
          0.02775633720217474,
          -1.826027793391324,
          0.8511272135732094,
          -1.5443208343551644,
          -1.7072465113361448,
          6.73027605576885,
          -1.6716699101004906,
          0.1005531565807023,
          -2.0752861297551597,
          2.143430610187412,
          -0.9957860064865973,
          -2.6950043468614133,
          -3.8503418816503374,
          -1.1501852683873586,
          -3.7498981894985763,
          -2.8566915013841183,
          -3.1632477738321345,
          3.3421405637809736,
          -2.8465460696040195,
          5.941476896716385,
          -1.6971317505388954,
          -1.1502470715110735,
          -4.6509914509787595,
          -2.2148832979439086,
          -3.802820413774235,
          4.665553077285541,
          -0.1589794489097831,
          -2.787918812107965,
          -1.722296049627547,
          1.4623871885805246,
          -1.0597705183375237,
          2.4175953833083432,
          -1.526040537016423,
          -4.000715675325401,
          -3.9300332757654663,
          -2.2117228431533444,
          4.5451138867927,
          -0.5573697684492491,
          6.995488139288343,
          5.222526262537002,
          -3.80539214792466,
          -2.0173349754777723,
          -0.9603696891142134,
          5.188005312980013,
          9.928240301317649,
          -2.1681273427861827,
          -1.1150270973533174,
          -1.457902688017182,
          -2.4203270368942107,
          5.893501585168525,
          0.4919988968564751,
          2.0646924910638536,
          -4.4863513529625925,
          -3.453225924830665,
          5.189764238693431,
          4.8797638948409086,
          3.8487940172423247,
          6.291238365042327,
          -3.4338706920525572,
          -2.6582353052275356,
          5.007798158194193,
          4.836545852030366,
          4.907102730701716,
          -3.3699207584173547,
          -3.2479257712554848,
          6.8659257278822565,
          -0.21275278800839528,
          -3.1834156434030083,
          -2.8437598117176672,
          -4.289352691465612,
          -3.6573581449731987,
          -1.584227918427636,
          4.328811350169225,
          6.889167630698542,
          -0.7297039206099705,
          3.1553530361747133,
          5.134584256024303,
          -2.3642356129590993,
          6.1089789393443885,
          -2.816357735212711,
          3.9215169737836555,
          -2.9561106101389054,
          -4.138208740487672,
          1.2180131333256128,
          3.135296290360266,
          -2.4565765428030115,
          0.8214432192946556,
          6.743756670316622,
          -0.14958312526641238,
          -2.5687690235711558,
          -0.574014698431351,
          -3.517184175311323,
          -2.037771911796387,
          -2.384391078419506,
          6.141293897122531,
          5.137939714655265,
          6.720628791661976,
          -3.0220485469879477,
          5.093422898444585,
          -1.7203333141922381,
          -1.8654709254095083,
          -3.7332588902836843,
          -3.2212426746364846,
          6.065359387139216,
          10.408311072555165,
          0.31340262761488247,
          -3.6999467155482813,
          8.198144947811713,
          7.076878917653842,
          -0.44374279244018217,
          -3.105996272078799,
          -3.2563247143607414,
          -1.8049694884146992,
          6.63682545317433,
          -0.0643241960940818,
          -2.512223728650156,
          5.822855954670274,
          -2.7967180164851904,
          -1.859531785686459,
          -0.7913450332407234,
          4.178978410049923,
          6.569791552337864,
          8.209497676528283,
          -1.2469889080276129,
          -1.3573041366934417,
          -2.1595246036345657,
          -1.8887580435828801,
          3.774466680649792,
          -2.8684117454235274,
          4.997405033687809,
          8.210145910237827,
          -1.7370301641329549,
          -1.8156983383845773,
          -1.4144009017538663,
          -1.331033971296135,
          -4.677888458820133,
          2.0867011815532237,
          -3.9528009227551726,
          -3.677581221976787,
          -2.7206680657032893,
          -3.284054916206139,
          -2.665930183772487,
          -3.3236504774127846,
          -0.16231472133724556,
          0.5000192526216745,
          4.054239332605288,
          0.10117370896642286,
          -2.4074967466735626,
          -1.0996277031661372,
          -1.2780261549190368,
          6.554503670204727,
          -3.193334192348896,
          4.112171750984204,
          -2.489511007209014,
          -2.5244263937037474,
          7.5440186853057005,
          -0.5352431774187076,
          -1.0275945881583133,
          -3.1635820889070034,
          -2.490478931551184,
          -1.8529019980009047,
          -3.293184450372584,
          -3.7178992610347494,
          -1.080477970423669,
          -4.672714691295393,
          1.3376630643707403,
          6.146963510683117,
          -3.8027498591892988,
          -3.0749056873420177,
          -4.43525690346306,
          -1.9691070924367469,
          9.301295381393972,
          5.583231026393237,
          -2.2156989091974664,
          -2.5557574428211645,
          8.680803939889985,
          4.38941149974446,
          -1.1688755415256626,
          2.923814629480602,
          -2.945763146356519,
          3.711648074588056,
          0.052247760918599395,
          5.7925839554036385,
          -0.8804405121079837,
          5.1386966230786895,
          4.1784343157042985,
          -2.3795294483244205,
          -2.420721000705329,
          9.406076541042047,
          0.7984307518741369,
          5.456253612860554,
          -2.149717374986021,
          4.536430855613074,
          6.249728594183315,
          -2.4968522751059443,
          -0.24687596773038056,
          -3.3631939552438235,
          -0.8525085904254244,
          7.921357251133345,
          -2.0399386213668267,
          -2.768822960004844,
          -2.829534570820476,
          -4.435984067317143,
          -1.2954874862850754,
          -2.7607363292490694,
          3.4321763234292653,
          5.550403829202857,
          5.067838871703339,
          -0.9384579647817031,
          5.278140885101255,
          -1.6027882344317048,
          -1.9861201328599454,
          7.473917588024587,
          -0.6585767077399508,
          -4.193499538157766,
          -3.5093626412658847,
          -2.461769655872793,
          -4.067041395173474,
          0.35949473020430744,
          4.417900070903573,
          -2.891117971071142,
          7.031846350424883,
          -2.185038703446459,
          4.762885273137268,
          -1.8272729540304107,
          5.681658351688534,
          0.8065019464043324,
          4.466247480640018,
          2.636029567195128,
          -1.5643806172513088,
          0.2573533047914268,
          -1.9059898907539248,
          -1.7026311101043934,
          -1.0581461935017071,
          5.3919657056972845,
          -2.1389067041490084,
          -3.273856753893612,
          -4.834689401376817,
          4.4858526081988295,
          7.148369371566566,
          1.648406543092139,
          -1.2559816260423056,
          -4.385723522550834,
          -3.996042238853218,
          -2.9183677552064466,
          -0.852562458211779,
          -0.9677568506016145,
          -3.7786164947632432,
          0.5626844898817651,
          -2.212965215485698,
          -1.5958184943880074,
          -2.532983232776838,
          -4.442711756485281,
          -0.7116197944724939,
          -2.655223774394161,
          -1.0602452940022586,
          -1.806990848275634,
          -2.8610944303089867,
          -3.141685195688811,
          6.141506239093239,
          3.059659560890177,
          -5.09233578978211,
          -1.6433215568287254,
          -3.050071631443658,
          -1.0110755178705264,
          8.353595109721931,
          -2.214499297947676,
          -2.0468664096849984,
          -3.70417034133174,
          -5.039773814938648,
          -2.040067062841463,
          -2.242255329669295,
          -1.6725875661346103,
          3.1082252304566786,
          -4.2389296882809795,
          -2.8816574648528137,
          -3.3320530837319087,
          -4.399493151075516,
          -2.3666500109180837,
          -2.1196559031089848,
          -3.789083088436792,
          4.6240482587277425,
          4.866857116173832,
          0.8101093631465255,
          -2.9159416727218774,
          -3.2503981332826113,
          -0.3423342602416566,
          -3.689389026273525,
          -3.377021143263581,
          2.7446136215635697,
          -2.4826732936872684,
          -1.1698152963375297,
          -3.391355318957021,
          -4.409582944876885,
          -2.4549312846721723,
          3.8436927605005557
         ],
         "y": [
          4.594702572497114,
          2.9529706425292024,
          -2.5338817631378046,
          -0.7367937802632822,
          4.4583723621984905,
          1.1438873818910564,
          -3.4883610326437866,
          0.2506949708014392,
          -0.38161240488375847,
          -3.5265995622487476,
          0.9963642083774435,
          4.900670681667436,
          -3.1921891866095193,
          -3.3704370855564996,
          0.7989193051588588,
          -4.075966784471849,
          -4.245624004508711,
          -2.7601297125874207,
          -3.0905728911007624,
          3.4692366811153144,
          5.540654308454281,
          0.04581408773500041,
          0.5537399904358189,
          1.9458078448537606,
          -4.390920719874659,
          -0.9504714188845369,
          0.6350068197679795,
          -4.829725760783095,
          -3.335544440000664,
          -1.8672080394316342,
          0.8541375343524429,
          1.1597988839137288,
          -4.708218100140789,
          0.13575022837260303,
          -0.6798274984046624,
          4.459604326259872,
          -0.242044575591482,
          -1.1000432975721715,
          -4.960313830143749,
          -4.960012164502894,
          -4.360262812838311,
          2.656402045553913,
          2.7557621183799443,
          -3.105243922002634,
          -2.9428348799382844,
          -4.301359643733337,
          1.7701753927658408,
          -2.780654163650749,
          -2.8303601019543696,
          0.23085908276931433,
          -3.6837949944965023,
          -2.9414635647959595,
          1.395189142637598,
          2.913797088100422,
          -4.216994698752727,
          -4.522261581202043,
          -4.556743526299706,
          0.038151081842326275,
          -1.6523817929009412,
          -3.029907859928761,
          3.6755689859743046,
          2.6664993385704627,
          -4.23447352939588,
          -3.4835315638970084,
          -3.3839995093052626,
          -2.904720063691885,
          -3.599133882419509,
          -0.5397567550303201,
          1.3189083847432779,
          -4.357647393334146,
          2.9384654655569586,
          3.1114823970049796,
          -4.80508737724396,
          -0.7723785552373266,
          -1.2365090808973083,
          -1.7416173622254119,
          0.3356717313498411,
          -3.061814864529095,
          -3.737012166691807,
          1.0724439476109433,
          3.179507758254594,
          -3.993696337535266,
          1.0304848741768993,
          4.520975257044407,
          -0.8753907476341373,
          2.577913851996212,
          -3.984900974747707,
          1.783284842999287,
          3.659127282113829,
          2.2783562314301737,
          -0.8259606487898308,
          -3.217996759519052,
          -4.3713855144686535,
          5.212576175476718,
          0.05270916640273863,
          -2.3140626140818163,
          4.395225876577943,
          0.5389803282990383,
          1.1270271520962214,
          5.580343410621575,
          3.7155139041872687,
          4.5069125821264855,
          0.9291108588156192,
          4.450432593194239,
          1.8777409093973605,
          2.8878452572022977,
          -3.1916615550414105,
          4.525516161696338,
          0.6674262415530758,
          -3.4510617353808777,
          4.689072570133012,
          -4.620981294030363,
          4.878313436854637,
          -4.4580147721614924,
          -2.1025514895417463,
          -3.1159367492420316,
          -5.581130791328589,
          2.528829167037131,
          -3.268527526622739,
          2.9579582348694977,
          3.304236355055111,
          1.360588767803054,
          1.7773054383682234,
          -0.758709696069447,
          5.014485786910119,
          4.478785736013481,
          -1.7468993402253645,
          -0.5664671542965202,
          -3.610841486278913,
          4.413425519275829,
          0.11806002947721794,
          4.134621869943768,
          -4.425537935327781,
          5.799554310688856,
          -1.0365370901697624,
          0.20338353989550997,
          -4.167937675508341,
          -2.7445488558518427,
          -0.006493327345592319,
          -3.510635069450828,
          -1.8013877025464773,
          4.43254961571703,
          -4.029290257376277,
          1.7070663980622978,
          4.831408155083458,
          4.829111637895236,
          -2.9216322293121317,
          3.3992137054894735,
          -3.6671213407190715,
          0.08415877731786446,
          1.7086193267831251,
          -4.875342682015843,
          0.1224648613487779,
          -2.6156883810982774,
          -3.684984527803464,
          2.2867279546181702,
          4.583239491026644,
          -3.859975865704799,
          5.500641104540049,
          0.238968152187422,
          3.0075881197148817,
          4.631900949716788,
          2.127893794498312,
          -3.490391212184413,
          -0.5310670302267629,
          4.065485451178597,
          -4.201201393644391,
          5.569574170531611,
          -0.6013602203413118,
          2.8337685801826344,
          0.4470919334932293,
          -4.053475967387745,
          1.5624186752123679,
          -4.246255545526585,
          3.988942182832034,
          3.4725505115516087,
          0.09931081405454453,
          1.7263713273019727,
          0.9284201588033827,
          -2.719553174271611,
          4.70663758378716,
          0.727267891067988,
          0.18376210487712274,
          -0.5218218117163831,
          -3.2225679887530627,
          0.18433322324071785,
          -2.481496168502767,
          2.464103566390462,
          -0.07983111826270471,
          -4.234650295822328,
          1.4876981136936613,
          -3.5192602061147213,
          -3.6325266540269467,
          2.8365956368976337,
          -1.7197210446980795,
          -2.0595775810903003,
          5.120690289450531,
          1.1074407069866123,
          5.449882700477493,
          2.7560647171867494,
          1.8028603340810958,
          -1.8572004048772666,
          -2.6636180021765936,
          -4.134701321773618,
          -2.3033124308576047,
          -0.6903931484610887,
          0.7199735799157351,
          -1.1469977837382612,
          -4.65810794359897,
          -4.818668518807672,
          -0.8516684338214553,
          -5.055858887006929,
          -1.517303393026342,
          5.497766622704157,
          -4.424871202859603,
          0.10787023151436374,
          2.72751923920342,
          1.4657667530270595,
          -3.372686831644466,
          1.8267337915845803,
          5.60721636518643,
          0.28942276319504523,
          3.802165188973507,
          4.1294883900243775,
          -3.481113264723388,
          4.750786853306209,
          -4.393547840487661,
          -3.850462918682314,
          0.17267794379123275,
          4.43951874856413,
          3.1382171519433477,
          5.706087215666008,
          -4.092991256472218,
          2.535616578127806,
          0.4732078020738112,
          -2.536719517129972,
          3.2609536527060263,
          -3.4538106529931727,
          5.670967591807096,
          1.0869803811429106,
          5.2283467054761585,
          0.18704953505275987,
          1.833554493313434,
          3.82557015405902,
          -4.713439752347801,
          1.5133085480434345,
          2.766162113201165,
          -3.897386259879748,
          -0.1158539740514142,
          3.649410645604643,
          4.729355733001841,
          1.2989308261764894,
          2.3341063329502085,
          1.1986123007513123,
          -5.640721752426521,
          -3.5954684101933068,
          2.518449929899181,
          -4.345891695932704,
          -4.461961074700228,
          -2.2482215595715567,
          -1.6381637483320874,
          1.9394196131929946,
          3.817817235234716,
          1.1133857368756122,
          2.657949763589267,
          1.1771554676659215,
          -0.8163109763158855,
          -3.2965485755183934,
          2.91051437575447,
          -4.520890138732031,
          0.21314284049355744,
          -1.7060741101477281,
          -2.306557434530445,
          -2.5773321092071395,
          5.228109583524454,
          3.1639088329693004,
          3.2978831651942477,
          -0.43851778999017405,
          1.2816523462511462,
          4.7654604746134215,
          2.0497721036130354,
          2.0981487157660896,
          -0.7965610140027128,
          -3.785763011401368,
          3.474733332937361,
          -2.6788376875126407,
          5.128488328100025,
          -5.517200165314499,
          -1.6247143991280992,
          -4.144620771139019,
          -1.0864246406925235,
          -2.559912887915014,
          -5.059048097719087,
          -1.0516347377911068,
          0.14770319526742165,
          0.024650121196772307,
          -2.3528941024650813,
          -4.654654450217153,
          2.063262913664167,
          1.8519098580754765,
          -0.64766170987261,
          -4.620153874725279,
          -3.9467931454894143,
          -5.556984727741307,
          0.9465256013581594,
          -0.027614369428232192,
          -2.895175008776246,
          -1.1697346934617352,
          0.8124722820073843,
          0.8118724359594832,
          0.7121346949893077,
          5.609317822277887,
          1.0172606451310113,
          -0.9387507078440535,
          1.3822829723204657,
          -3.5263453092795727,
          0.30587854586984714,
          2.7794335750600037,
          -3.688785146601116,
          2.0646645754542314,
          4.81960827616012,
          -3.3107174414100777,
          4.4957133057556415,
          -2.418186560110205,
          5.47338842514944,
          -0.7442521124563662,
          1.3302463721559967,
          -4.465474788794121,
          1.5640035989448169,
          1.9771819627170257,
          -3.7663447299478165,
          -2.459148717424287,
          -5.154826649262681,
          -4.401572661094006,
          3.1323657412918187,
          2.4766332286575055,
          -2.3961702504553086,
          0.44411576363788624,
          0.1251443735178167,
          -4.356717378519423,
          3.6441781137722913,
          0.9580631963821129,
          2.732975954091976,
          0.051879321007622374,
          4.200455952541368,
          3.6641262610016243,
          4.777417042883738,
          3.3325819292163885,
          -3.167437631224434,
          -2.335643528741425,
          3.2472896902245965,
          1.1073590988577044,
          -4.667926324343563,
          5.463701539634793,
          -1.7058633818530258,
          -2.377277793023572,
          -1.6408015833769172,
          -3.2525396959096953,
          5.688622290586603,
          0.5691118903037936,
          -3.5023788553461195,
          -3.9455718299309233,
          2.630710737542383,
          5.563099081960136,
          -3.5408682486346073,
          -3.0112484025189366,
          -2.4021282472878194,
          5.315027370523242,
          4.83971214725824,
          -4.281703210067115,
          1.8524701187820793,
          -4.685004787729549,
          -4.376145778971277,
          -3.48913413800643,
          1.4214188642183072,
          2.7537319077264004,
          -0.1531213566835571,
          3.9829576458082374,
          -2.5117427665643444,
          0.9548294708856925,
          5.561525971665226,
          -4.3124564617349055,
          1.623050752850702,
          3.4866182770136733,
          4.2286354510418,
          4.612049391710826,
          0.8294324874732727,
          -0.893267282461177,
          1.0919876302132703,
          4.310017996566503,
          1.2488096455686208,
          -5.044652324559279,
          1.9112305788661237,
          -2.8407298319585337,
          4.645142954219154,
          0.748342403399956,
          5.9054217255402435,
          3.9621935477756614,
          -0.6018057158137422,
          1.6203139340752857,
          -3.439952920434827,
          1.9682157037740355,
          -4.3945826945072755,
          -3.6144440405009295,
          -4.236449952063774,
          4.879704352922109,
          -4.346548379837448,
          0.2254878373426936,
          -0.9899470477261858,
          -0.6956096744781607,
          1.8527065653435728,
          -4.050553730826534,
          1.741591307470117,
          -4.226838034015157,
          0.179272585323349,
          -4.438004649388463,
          2.8833618404973143,
          -2.7944316014968082,
          -2.420781950633402,
          -4.773160114091289,
          -3.760094645804005,
          -4.463420504422557,
          -4.257543768278373,
          -3.415183679843992,
          -1.0221781507567291,
          4.561963898824048,
          4.312615870500388,
          5.78066992838242,
          5.6012174373738075,
          -3.346198554461792,
          -3.523081268263165,
          -4.49130692562395,
          -1.1759921056550124,
          1.4859856824013382,
          2.1295693169597705,
          2.1198338911187653,
          -5.395067669916619,
          1.915091800997921,
          -0.6742668791550843,
          2.6896048426440826,
          0.12608320983966165,
          1.815429083678152,
          1.8714382776337428,
          -4.669317139568809,
          4.591834477245333,
          -3.521325518071295,
          -3.5461979986620284,
          -1.9211184591246666,
          -2.488634324485231,
          3.01469995426714,
          -4.442395912156706,
          -0.13483851239780803,
          -3.5275963026230133,
          -3.780364622538898,
          0.9467347009532567,
          -4.563786540267678,
          1.8504686405644102,
          0.26904275011918577,
          -5.50926729156941,
          3.5339262495413064,
          1.6959930701929467,
          0.9633588076121139,
          -4.492576580878354,
          0.1917033077402134,
          1.1418840375779384,
          -4.722678789007183,
          2.166846268010698,
          -3.658409284416796,
          2.464787826294393,
          -1.838820416249081,
          -3.0107317446955766,
          -1.5957906682647107,
          5.595157486569404,
          0.28885195837829825,
          0.35112093906987013,
          2.7362275591750893,
          4.773342266389086,
          1.5263345030650606,
          -0.17864335997700165,
          -1.7124332784182046,
          3.9216710163543533,
          4.625512598991178,
          -0.011997729590714129,
          2.224368279909497,
          -2.259647404944735,
          1.8911923729457127,
          -3.113528322175244,
          -4.138537093261657,
          -2.48366481871329,
          3.3423164472270153,
          0.9412390913995804,
          1.5727273371262345,
          -3.5479717343049613,
          2.3635106783151834,
          3.175061710265759,
          1.6628529612636043,
          -1.1136905739503307,
          0.9109020472433345,
          3.5843459448102606,
          1.0853004152002275,
          0.917269950438039,
          2.001113422837817,
          -4.242139977067505,
          -3.7799190262629034,
          0.7329325275804373,
          5.305098406250635,
          2.8260811903266765,
          -3.627781443750994,
          4.510943146137359,
          2.216905356779712,
          2.6869304106180243,
          1.023752725378739,
          4.272699352040904,
          4.572603182287683,
          3.724308425736471,
          3.9071645478084425,
          2.910474408738808,
          1.3281543878463926,
          -0.17783984269845948,
          1.411342451506115,
          -4.296492944667915,
          2.8884760823445323,
          -4.390213847398618,
          -0.8575603563365088,
          -2.5401294072380454,
          -0.14852832230711402,
          5.209455380396942,
          4.718267200329594,
          1.5412124928796835,
          0.1558397879676835,
          -4.473472734919294,
          2.8234825450726095,
          2.0053570603730124,
          -0.4352779530614436,
          -5.191989118602827,
          2.9416085209015663,
          -2.723702821724792,
          2.467594179947618,
          -2.849189240282326,
          3.6297620905033297,
          4.047286004013011,
          1.8765072456206675,
          3.798031006358739,
          -3.6247087108793212,
          3.231421723100385,
          -0.7493696778983792,
          -4.169044204674256,
          -2.959543441585184,
          -1.7481397179709348,
          -3.473350700755535,
          4.984004827011719,
          -3.3317164840156153,
          0.9986849285533453,
          -3.939424139049581,
          -3.440936716050409,
          4.765050627929318,
          0.18483887570928512,
          -4.680342516559212,
          -4.092847832366756,
          5.598952654608259,
          -4.12904427124419,
          5.962428934218193,
          -4.023545229638743,
          -3.0923965669637434,
          -5.447105828455001,
          -0.1895179964772889,
          4.616507576332642,
          4.852098066898946,
          4.169779182268859,
          1.1078631475834313,
          3.307846672167206,
          1.6608693743773886,
          -3.6702809152715905,
          5.691411213479429,
          2.241274227000779,
          0.050125662772242785,
          -3.6159204330893178,
          -1.0209946662780671,
          -3.3916764003311877,
          0.8635330696282776,
          1.8244932936811007,
          -4.644048142641734,
          -4.430309743281037,
          5.921380633918847,
          -4.1263174464894545,
          3.516282894246266,
          1.8223257641652753,
          -1.3257496282872663,
          0.9215714496803069,
          1.0199911869113036,
          -2.730955375772223,
          2.085799967071411,
          3.8196581944727974,
          -2.7240110897325516,
          -1.7634915861453835,
          3.636451769459062,
          0.613979574174322,
          -3.314855947810054,
          2.0426183798256243,
          5.972139490610851,
          -0.10000116649763253,
          4.028326813331308,
          4.745024642932922,
          -3.7907670947464402,
          -2.435201590541424,
          -3.5816383258825475,
          1.3634872017093662,
          0.9035740260493159,
          0.7173044178316167,
          0.09891574437787029,
          -1.5922753288097673,
          1.9573040413233247,
          -3.172805897608732,
          -3.5075682126006464,
          0.8686841183065152,
          -4.614502826075915,
          -2.78385945703942,
          4.90747827126293,
          -3.4988775982573483,
          2.399039654850063,
          0.16121914232881535,
          -1.075557793075278,
          -4.894010580209947,
          -2.7959222089538267,
          -3.348468588738677,
          2.5409488593931546,
          5.7021594150285,
          1.6334420765440079,
          -3.4861823370579765,
          1.2215512373730546,
          1.4823998812132564,
          0.14017491873301285,
          0.8784840761366736,
          3.9480146877808164,
          -3.9730256357493157,
          0.8262827500513653,
          2.011527638943556,
          3.8541347726045894,
          -4.450787497792982,
          4.6353522060615715,
          0.27705076278098756,
          -5.4722599678967585,
          3.209115748870552,
          -3.1228994009911593,
          -2.759787026778871,
          -0.7454016482049421,
          -2.813485409016485,
          1.5973804375928564,
          1.9231842616992982,
          4.662362052337656,
          1.3004461857604064,
          -3.232063254772139,
          4.769575835556391,
          0.542805010919307,
          -3.5654026693376255,
          2.1271795369378768,
          1.1715601146560015,
          4.918062070272299,
          2.3593985505294492,
          -1.4000595602318475,
          -0.7150189466373335,
          0.10445618773034532,
          2.413579234179292,
          -3.1630120937020956,
          1.0185568058264385,
          -3.9917538723221817,
          -3.467465153684403,
          -4.3452681986708335,
          0.6861307206179555,
          -3.266686194494666,
          -3.2679572478547487,
          5.01900652600304,
          2.8378530811834617,
          5.444080534420046,
          -0.6273720523694011,
          -3.4049270555519344,
          3.8995061728670395,
          -5.372131198747235
         ],
         "z": [
          3.9008017121025924,
          3.7310126317725443,
          3.733102600757406,
          4.817880102659276,
          4.149926015097935,
          4.061812922696228,
          4.399886305687223,
          3.8991297369147047,
          3.743385248162917,
          2.8926842725653943,
          3.22975447044366,
          3.6464106872654005,
          4.388684071928373,
          3.893779416313463,
          4.14883923122581,
          3.984985662812764,
          4.068166428410202,
          3.73678094617076,
          3.729675051622233,
          3.062306155376654,
          4.14716725603792,
          4.233859169529924,
          4.0655748668689755,
          4.064906076793821,
          4.149926015097935,
          3.985403656609736,
          3.228834884090319,
          3.901637699696537,
          3.732684606960432,
          4.151096397729458,
          3.394527625210041,
          4.222573337011679,
          5.236208294668908,
          2.0626321905382925,
          4.065825663147158,
          3.7303438416973895,
          3.8980429530425775,
          5.9166185973800145,
          5.151606350161765,
          5.1503523687708475,
          4.8161245287119945,
          4.398214330499335,
          3.984149675218821,
          3.307835711718039,
          5.554635969202217,
          4.152684774157952,
          4.394870380123559,
          3.811685434588152,
          4.314531972345532,
          4.064989675553215,
          5.240304633879233,
          3.8949497989449844,
          4.396542355311447,
          4.232605188139009,
          3.8093446693251076,
          5.066670010617043,
          5.1533619241090465,
          2.254324145829675,
          2.484220734164304,
          3.9811401198806218,
          4.402561465987845,
          4.230348021635359,
          4.317959521480701,
          4.0627325090495665,
          4.063484897884115,
          3.898628144358338,
          3.8967053728922663,
          3.901470502177747,
          4.147418052316103,
          3.733771390832561,
          5.574198078900509,
          4.151263595248246,
          4.066160058184736,
          4.231769200545064,
          3.393691637616098,
          0.9745107382606442,
          4.405571021326044,
          5.824074770730403,
          3.8147785886857433,
          3.8958693852983215,
          4.06415368795927,
          4.570427774851823,
          3.9000493232680435,
          8.996480492229495,
          3.975288206723012,
          3.7354433660204487,
          4.398548725536913,
          3.7332697982761944,
          6.2352134694321135,
          4.065992860665948,
          4.068918817244753,
          4.2284252501692885,
          3.735610563539237,
          3.9838152801812425,
          5.657044449460371,
          7.666340631505029,
          4.151597990285825,
          2.897198605572693,
          2.4726841053678763,
          1.6432172146565343,
          4.233859169529924,
          4.069420409801119,
          4.985746411523253,
          3.984233273978213,
          3.902222891012298,
          4.233859169529924,
          4.064655280515637,
          3.732684606960432,
          4.243473026860282,
          3.563229921667962,
          1.4628110918833963,
          4.984408831372943,
          4.065825663147158,
          3.3119320509283634,
          3.8141933973699826,
          4.06565846562837,
          1.739522985478895,
          4.571430959964554,
          3.3990419582173397,
          4.31678913884918,
          3.899380533192887,
          4.22959563280081,
          2.479455604878823,
          3.9708574724751093,
          4.23151840426688,
          2.060040628997066,
          3.2293364766466857,
          6.236551049582423,
          2.059288240162515,
          5.06775679448917,
          7.493458397077387,
          3.8989625393959146,
          4.563321880303296,
          4.1485048361882315,
          4.56282028774693,
          4.058301774801662,
          2.556115667243497,
          7.563932151246877,
          4.5685050033857495,
          8.313144232939582,
          3.9777125707454504,
          4.3200494904655615,
          4.228341651409893,
          3.8967889716516604,
          4.895292553858501,
          4.895292553858501,
          3.894531805148012,
          4.31678913884918,
          2.257584497446058,
          5.830261078925589,
          4.397796336702364,
          3.48431269279964,
          4.234862354642657,
          4.149006428744598,
          3.8997985269898594,
          4.066661650741103,
          4.141566139158495,
          4.31829391651828,
          4.06641085446292,
          3.9008853108619865,
          4.236032737274178,
          4.23394276828932,
          4.147585249834893,
          5.393708357367976,
          3.5743485566674194,
          3.3158611926199013,
          4.063819292921692,
          6.257367140671634,
          4.399301114371464,
          4.063652095402904,
          4.229762830319598,
          3.9849020640533697,
          3.562226736555229,
          4.052282664125264,
          4.237704712462066,
          4.23168560178567,
          4.063484897884115,
          4.1525175766391635,
          4.145996873406399,
          4.147836046113077,
          4.063819292921692,
          3.230005266721842,
          8.223442764109382,
          2.7251523587389963,
          4.820053670403532,
          3.0606341801887664,
          3.2202242118726963,
          4.14733445355671,
          3.8109330457536013,
          3.9045636562753403,
          4.067163243297469,
          4.149090027503992,
          4.145160885812454,
          4.241215860356632,
          5.408588936540181,
          6.241232580108512,
          4.3230590458037605,
          4.231769200545064,
          3.8140261998511944,
          4.14867203370702,
          4.153771558030079,
          5.826248338474657,
          4.233524774492346,
          3.649169446325417,
          3.9798861384897046,
          4.313946781029769,
          4.563071084025112,
          2.7303354818214496,
          4.39963550940904,
          4.151263595248246,
          5.405161387405012,
          4.314113978548558,
          3.8999657245086476,
          4.230682416672937,
          5.404743393608039,
          2.558372833747147,
          4.39963550940904,
          4.236116336033574,
          4.234611558364475,
          4.321387070615873,
          4.159874267465871,
          6.067096364289955,
          4.1495080213009645,
          4.23394276828932,
          5.405997374998955,
          4.1454952808500325,
          3.98339728638427,
          4.390857639672627,
          4.233106780695375,
          4.403731848619368,
          3.725829508690091,
          0.002340765263042499,
          5.825245153361924,
          4.399384713130858,
          2.4761116545030477,
          1.8931775052458226,
          4.57092936740819,
          4.73244217055819,
          6.241817771424272,
          4.146164070925187,
          4.0645716817562425,
          3.8960365828171115,
          3.726832693802824,
          4.066327255703524,
          4.151848786564009,
          2.6397980253973037,
          4.5636562753408745,
          1.226728195353581,
          4.236032737274178,
          7.755958501575837,
          4.987000392914168,
          3.561975940277047,
          3.810849446994207,
          3.6422307492956802,
          3.730093045419207,
          4.147585249834893,
          3.730761835494362,
          4.235781940995996,
          4.23168560178567,
          5.822653591820697,
          3.722067564517343,
          3.985320057850342,
          3.5627283291115956,
          4.066160058184736,
          4.8181308989374605,
          3.646912279821767,
          4.314030379789165,
          4.143238114346382,
          3.8959529840577174,
          3.7314306255695167,
          4.736872904806092,
          2.885494779257475,
          4.151012798970064,
          4.24380742189786,
          4.907247176451903,
          4.2274220650565555,
          4.397879935461758,
          4.149926015097935,
          4.143405311865172,
          4.234862354642657,
          4.402895861025422,
          3.5577960023073247,
          8.246766817980422,
          4.146749262240948,
          3.901470502177747,
          3.7310126317725443,
          4.2144642573504205,
          3.73092903301315,
          4.395204775161136,
          4.234695157123869,
          3.8967889716516604,
          4.145996873406399,
          5.235372307074962,
          3.8160325700766604,
          3.982310502512143,
          3.7321830144040655,
          4.728095035069681,
          4.14733445355671,
          4.154022354308263,
          4.057131392170141,
          4.738043287437615,
          6.239393407401836,
          4.894623763783346,
          3.730845434253756,
          3.982394101271537,
          3.7301766441785995,
          4.399886305687223,
          3.731932218125883,
          3.146072112289853,
          4.061394928899255,
          6.240396592514569,
          4.2302644228759645,
          4.065073274312609,
          6.2360494570260565,
          5.402151832066813,
          3.730845434253756,
          4.232019996823246,
          0.1546577048796589,
          6.236885444620003,
          3.7301766441785995,
          2.883572007791405,
          3.8901010709001076,
          4.151263595248246,
          3.8998821257492535,
          4.06415368795927,
          4.069253212282331,
          4.230766015432331,
          7.249433618405104,
          4.065825663147158,
          4.402895861025422,
          4.232103595582642,
          4.489922169555004,
          3.8978757555237875,
          2.0614618079067695,
          2.064220566966786,
          3.3791454534814696,
          4.148421237428836,
          3.9868248355194416,
          4.147668848594287,
          4.147668848594287,
          4.1495080213009645,
          4.06641085446292,
          3.3131860323192805,
          2.06012422775646,
          3.8364306673688953,
          4.400471497002985,
          4.065324070590791,
          5.40173383826984,
          3.8119362308663343,
          2.143890184669659,
          4.806092677584664,
          3.730678236734966,
          4.063652095402904,
          2.5617167841229245,
          3.4760364156195918,
          4.564157867897239,
          4.234193564567502,
          4.06791563213202,
          7.925496785627701,
          8.329863984818466,
          3.7305110392161778,
          3.905316045109891,
          3.7344401809077157,
          4.570093379814243,
          3.5676606559158666,
          4.573938922746387,
          5.419456775261454,
          4.483819460119213,
          4.564993855491186,
          4.0625653115307765,
          4.066327255703524,
          2.97920898853861,
          4.398465126777519,
          4.0685844222071745,
          3.311681254650181,
          3.732935403238616,
          4.201004857087921,
          6.241399777627302,
          3.3937752363754923,
          4.069922002357486,
          3.562226736555229,
          4.82306322574173,
          3.736530149892576,
          5.654452887919143,
          4.39963550940904,
          4.068166428410202,
          5.821316011670388,
          5.404325399811067,
          4.063819292921692,
          2.510805139651727,
          4.398799521815097,
          3.731848619366489,
          3.731765020607095,
          4.15301916919553,
          3.727919477674951,
          4.2272548675377655,
          4.065407669350187,
          3.897290564208027,
          3.732768205719828,
          1.6407092518747017,
          0,
          3.815530977520294,
          3.9789665521363657,
          3.56924903234436,
          3.901470502177747,
          4.0607261388241005,
          4.3160367500146295,
          3.39770437806703,
          4.318461114037068,
          3.646995878581163,
          4.234695157123869,
          3.7234887434270467,
          3.8999657245086476,
          7.690918666766987,
          4.3182103177588855,
          3.727919477674951,
          4.062648910290171,
          9.747949740425852,
          3.561975940277047,
          8.245930830386477,
          4.066160058184736,
          5.819644036482498,
          4.402561465987845,
          3.9780469657830286,
          3.7301766441785995,
          4.148086842391259,
          1.2231334486996213,
          4.1495080213009645,
          4.066912447019287,
          0.5480734665897558,
          2.7512351716700527,
          4.0645716817562425,
          2.979543383576188,
          3.7293406565846565,
          4.058134577282874,
          4.5725177438366815,
          3.7322666131634614,
          4.066076459425342,
          3.7333533970355886,
          4.064070089199876,
          4.150176811376119,
          4.566833028197862,
          1.8394235029552162,
          4.145913274647003,
          7.073374631120475,
          4.148421237428836,
          5.072521923774652,
          3.8969561691704504,
          3.7285046689907118,
          3.9788829533769716,
          4.568672200904538,
          4.23377557077053,
          4.487079811735593,
          4.4009730895593515,
          7.079477340556266,
          1.6461431712353383,
          3.9827284963091154,
          4.652856151614711,
          2.477198438375175,
          4.061812922696228,
          3.723906737224021,
          4.23168560178567,
          10,
          4.4028122622660275,
          4.402895861025422,
          3.897457761726817,
          8.24216888621373,
          6.236467450823031,
          4.062481712771382,
          4.066076459425342,
          4.148755632466414,
          4.731856979242427,
          4.230097225357176,
          4.146080472165793,
          4.397796336702364,
          4.052533460403448,
          4.066494453222314,
          5.400897850675897,
          4.569591787257877,
          4.402394268469055,
          3.8938630150728555,
          3.902222891012298,
          4.067664835853836,
          4.0657420643877655,
          4.0715939775453736,
          3.566824668321922,
          3.7302602429379954,
          5.4009814494352915,
          4.066243656944132,
          4.0657420643877655,
          3.8133574097760397,
          3.7311798292913325,
          3.7300094466598113,
          3.3123500447253376,
          6.096606726356183,
          4.568672200904538,
          2.4768640433375966,
          4.415853668731555,
          3.705097016360278,
          3.900300119546226,
          4.565997040603919,
          7.4886932677919065,
          4.2342771633268965,
          3.3141056186726194,
          3.729089860306474,
          4.234193564567502,
          3.7243247310209915,
          4.569842583536061,
          3.560136767570369,
          6.57136408095704,
          1.8926759126894561,
          4.399217515612068,
          3.309842081943505,
          4.31829391651828,
          4.48607662662286,
          2.6458171360737017,
          4.652187361539554,
          4.566415034400891,
          4.233608373251742,
          4.149424422541569,
          3.7384529213586477,
          4.153771558030079,
          4.061060533861677,
          5.573780085103537,
          4.0675812370944415,
          4.201004857087921,
          4.067414039575653,
          1.2227990536620439,
          4.315284361180081,
          4.562402293949959,
          4.068417224688386,
          3.899631329471071,
          8.910708165090831,
          2.561131592807162,
          4.064404484237454,
          8.408446818649214,
          5.903911585952065,
          3.898377348080154,
          3.9780469657830286,
          4.3160367500146295,
          4.2302644228759645,
          4.067999230891414,
          4.149090027503992,
          4.399217515612068,
          4.0657420643877655,
          4.899221695550039,
          4.066661650741103,
          3.733771390832561,
          1.810665529723539,
          4.150427607654302,
          3.48623546426571,
          3.897541360486211,
          4.23151840426688,
          4.148170441150653,
          7.074043421195628,
          3.9730310402193636,
          4.23151840426688,
          9.099139768765834,
          1.437731464065073,
          6.231953117815732,
          3.732851804479222,
          4.23586553975539,
          3.8121034283851225,
          3.641896354258102,
          4.5510328626723195,
          4.1475016510754985,
          4.566415034400891,
          4.235614743477208,
          3.81962731673062,
          3.9817253111963824,
          3.7303438416973895,
          4.154858341902206,
          3.8143605948887727,
          4.396458756552053,
          4.230348021635359,
          4.231351206748092,
          3.7315978230883067,
          3.9824777000309313,
          4.399468311890252,
          4.148337638669443,
          9.922503950041381,
          3.899464131952281,
          3.8962037803358998,
          3.8949497989449844,
          3.728922662787684,
          3.3109288658156304,
          3.5596351750140025,
          4.317792323961913,
          3.8141933973699826,
          3.895367792741955,
          3.9010525083807766,
          3.059213001279061,
          4.060809737583495,
          3.7330190019980103,
          4.232187194342036,
          4.2322707931014305,
          3.571255402569826,
          2.160442739029752,
          4.145160885812454,
          4.400722293281169,
          4.400137101965407,
          4.234109965808108,
          4.234109965808108,
          4.065324070590791,
          4.550196875078373,
          4.232855984417191,
          4.242637039266337,
          4.2342771633268965,
          4.73453213954305,
          3.481219538702045,
          4.065407669350187,
          2.099666440950016,
          4.570678571130004,
          4.398715923055701,
          2.224897382522843,
          4.06641085446292,
          4.396793151589631,
          4.3141975773079535,
          4.578871249550658,
          3.568831038547388,
          4.486661817938622,
          4.064989675553215,
          4.146916459759736,
          5.392705172255243,
          4.819050485290799,
          3.901303304658959,
          4.402728663506635,
          6.236551049582423,
          4.9738753876892465,
          6.153788277781959,
          4.233859169529924,
          4.148588434947626,
          5.070849948586763,
          4.155527131977363,
          4.151597990285825,
          3.811518237069362,
          4.318795509074646,
          4.235698342236602,
          4.0675812370944415,
          4.067246842056865,
          4.23168560178567,
          2.560379203972613,
          3.7293406565846565,
          4.23151840426688,
          3.720897181885822,
          4.144074101940327,
          2.5616331853635286,
          4.064906076793821,
          4.3160367500146295,
          4.067330440816257,
          4.062398114011988,
          4.31662194133039,
          4.151597990285825,
          4.1426529230306235,
          3.064981315677275,
          4.232939583176587,
          2.891346692415085,
          4.816458923749571,
          4.316705540089786,
          4.148254039910047,
          4.05846897232045,
          3.9848184652939755,
          3.7282538727125294,
          4.315535157458263,
          4.14867203370702,
          6.241316178867906,
          4.572768540114866,
          3.8970397679298445,
          1.2205418871583946,
          4.228508848928681,
          7.241909730059606,
          0.5895384512493829,
          8.084668823514658,
          4.313612385992191,
          8.244509651476772,
          4.232939583176587,
          3.8101806569190524,
          6.073784265041506
         ]
        }
       ],
       "layout": {
        "coloraxis": {
         "colorbar": {
          "title": {
           "text": "clusters"
          }
         },
         "colorscale": [
          [
           0,
           "#0d0887"
          ],
          [
           0.1111111111111111,
           "#46039f"
          ],
          [
           0.2222222222222222,
           "#7201a8"
          ],
          [
           0.3333333333333333,
           "#9c179e"
          ],
          [
           0.4444444444444444,
           "#bd3786"
          ],
          [
           0.5555555555555556,
           "#d8576b"
          ],
          [
           0.6666666666666666,
           "#ed7953"
          ],
          [
           0.7777777777777778,
           "#fb9f3a"
          ],
          [
           0.8888888888888888,
           "#fdca26"
          ],
          [
           1,
           "#f0f921"
          ]
         ]
        },
        "legend": {
         "tracegroupgap": 0
        },
        "margin": {
         "t": 60
        },
        "scene": {
         "domain": {
          "x": [
           0,
           1
          ],
          "y": [
           0,
           1
          ]
         },
         "xaxis": {
          "title": {
           "text": "col1"
          }
         },
         "yaxis": {
          "title": {
           "text": "col2"
          }
         },
         "zaxis": {
          "title": {
           "text": "col3"
          }
         }
        },
        "template": {
         "data": {
          "bar": [
           {
            "error_x": {
             "color": "#2a3f5f"
            },
            "error_y": {
             "color": "#2a3f5f"
            },
            "marker": {
             "line": {
              "color": "#E5ECF6",
              "width": 0.5
             },
             "pattern": {
              "fillmode": "overlay",
              "size": 10,
              "solidity": 0.2
             }
            },
            "type": "bar"
           }
          ],
          "barpolar": [
           {
            "marker": {
             "line": {
              "color": "#E5ECF6",
              "width": 0.5
             },
             "pattern": {
              "fillmode": "overlay",
              "size": 10,
              "solidity": 0.2
             }
            },
            "type": "barpolar"
           }
          ],
          "carpet": [
           {
            "aaxis": {
             "endlinecolor": "#2a3f5f",
             "gridcolor": "white",
             "linecolor": "white",
             "minorgridcolor": "white",
             "startlinecolor": "#2a3f5f"
            },
            "baxis": {
             "endlinecolor": "#2a3f5f",
             "gridcolor": "white",
             "linecolor": "white",
             "minorgridcolor": "white",
             "startlinecolor": "#2a3f5f"
            },
            "type": "carpet"
           }
          ],
          "choropleth": [
           {
            "colorbar": {
             "outlinewidth": 0,
             "ticks": ""
            },
            "type": "choropleth"
           }
          ],
          "contour": [
           {
            "colorbar": {
             "outlinewidth": 0,
             "ticks": ""
            },
            "colorscale": [
             [
              0,
              "#0d0887"
             ],
             [
              0.1111111111111111,
              "#46039f"
             ],
             [
              0.2222222222222222,
              "#7201a8"
             ],
             [
              0.3333333333333333,
              "#9c179e"
             ],
             [
              0.4444444444444444,
              "#bd3786"
             ],
             [
              0.5555555555555556,
              "#d8576b"
             ],
             [
              0.6666666666666666,
              "#ed7953"
             ],
             [
              0.7777777777777778,
              "#fb9f3a"
             ],
             [
              0.8888888888888888,
              "#fdca26"
             ],
             [
              1,
              "#f0f921"
             ]
            ],
            "type": "contour"
           }
          ],
          "contourcarpet": [
           {
            "colorbar": {
             "outlinewidth": 0,
             "ticks": ""
            },
            "type": "contourcarpet"
           }
          ],
          "heatmap": [
           {
            "colorbar": {
             "outlinewidth": 0,
             "ticks": ""
            },
            "colorscale": [
             [
              0,
              "#0d0887"
             ],
             [
              0.1111111111111111,
              "#46039f"
             ],
             [
              0.2222222222222222,
              "#7201a8"
             ],
             [
              0.3333333333333333,
              "#9c179e"
             ],
             [
              0.4444444444444444,
              "#bd3786"
             ],
             [
              0.5555555555555556,
              "#d8576b"
             ],
             [
              0.6666666666666666,
              "#ed7953"
             ],
             [
              0.7777777777777778,
              "#fb9f3a"
             ],
             [
              0.8888888888888888,
              "#fdca26"
             ],
             [
              1,
              "#f0f921"
             ]
            ],
            "type": "heatmap"
           }
          ],
          "heatmapgl": [
           {
            "colorbar": {
             "outlinewidth": 0,
             "ticks": ""
            },
            "colorscale": [
             [
              0,
              "#0d0887"
             ],
             [
              0.1111111111111111,
              "#46039f"
             ],
             [
              0.2222222222222222,
              "#7201a8"
             ],
             [
              0.3333333333333333,
              "#9c179e"
             ],
             [
              0.4444444444444444,
              "#bd3786"
             ],
             [
              0.5555555555555556,
              "#d8576b"
             ],
             [
              0.6666666666666666,
              "#ed7953"
             ],
             [
              0.7777777777777778,
              "#fb9f3a"
             ],
             [
              0.8888888888888888,
              "#fdca26"
             ],
             [
              1,
              "#f0f921"
             ]
            ],
            "type": "heatmapgl"
           }
          ],
          "histogram": [
           {
            "marker": {
             "pattern": {
              "fillmode": "overlay",
              "size": 10,
              "solidity": 0.2
             }
            },
            "type": "histogram"
           }
          ],
          "histogram2d": [
           {
            "colorbar": {
             "outlinewidth": 0,
             "ticks": ""
            },
            "colorscale": [
             [
              0,
              "#0d0887"
             ],
             [
              0.1111111111111111,
              "#46039f"
             ],
             [
              0.2222222222222222,
              "#7201a8"
             ],
             [
              0.3333333333333333,
              "#9c179e"
             ],
             [
              0.4444444444444444,
              "#bd3786"
             ],
             [
              0.5555555555555556,
              "#d8576b"
             ],
             [
              0.6666666666666666,
              "#ed7953"
             ],
             [
              0.7777777777777778,
              "#fb9f3a"
             ],
             [
              0.8888888888888888,
              "#fdca26"
             ],
             [
              1,
              "#f0f921"
             ]
            ],
            "type": "histogram2d"
           }
          ],
          "histogram2dcontour": [
           {
            "colorbar": {
             "outlinewidth": 0,
             "ticks": ""
            },
            "colorscale": [
             [
              0,
              "#0d0887"
             ],
             [
              0.1111111111111111,
              "#46039f"
             ],
             [
              0.2222222222222222,
              "#7201a8"
             ],
             [
              0.3333333333333333,
              "#9c179e"
             ],
             [
              0.4444444444444444,
              "#bd3786"
             ],
             [
              0.5555555555555556,
              "#d8576b"
             ],
             [
              0.6666666666666666,
              "#ed7953"
             ],
             [
              0.7777777777777778,
              "#fb9f3a"
             ],
             [
              0.8888888888888888,
              "#fdca26"
             ],
             [
              1,
              "#f0f921"
             ]
            ],
            "type": "histogram2dcontour"
           }
          ],
          "mesh3d": [
           {
            "colorbar": {
             "outlinewidth": 0,
             "ticks": ""
            },
            "type": "mesh3d"
           }
          ],
          "parcoords": [
           {
            "line": {
             "colorbar": {
              "outlinewidth": 0,
              "ticks": ""
             }
            },
            "type": "parcoords"
           }
          ],
          "pie": [
           {
            "automargin": true,
            "type": "pie"
           }
          ],
          "scatter": [
           {
            "fillpattern": {
             "fillmode": "overlay",
             "size": 10,
             "solidity": 0.2
            },
            "type": "scatter"
           }
          ],
          "scatter3d": [
           {
            "line": {
             "colorbar": {
              "outlinewidth": 0,
              "ticks": ""
             }
            },
            "marker": {
             "colorbar": {
              "outlinewidth": 0,
              "ticks": ""
             }
            },
            "type": "scatter3d"
           }
          ],
          "scattercarpet": [
           {
            "marker": {
             "colorbar": {
              "outlinewidth": 0,
              "ticks": ""
             }
            },
            "type": "scattercarpet"
           }
          ],
          "scattergeo": [
           {
            "marker": {
             "colorbar": {
              "outlinewidth": 0,
              "ticks": ""
             }
            },
            "type": "scattergeo"
           }
          ],
          "scattergl": [
           {
            "marker": {
             "colorbar": {
              "outlinewidth": 0,
              "ticks": ""
             }
            },
            "type": "scattergl"
           }
          ],
          "scattermapbox": [
           {
            "marker": {
             "colorbar": {
              "outlinewidth": 0,
              "ticks": ""
             }
            },
            "type": "scattermapbox"
           }
          ],
          "scatterpolar": [
           {
            "marker": {
             "colorbar": {
              "outlinewidth": 0,
              "ticks": ""
             }
            },
            "type": "scatterpolar"
           }
          ],
          "scatterpolargl": [
           {
            "marker": {
             "colorbar": {
              "outlinewidth": 0,
              "ticks": ""
             }
            },
            "type": "scatterpolargl"
           }
          ],
          "scatterternary": [
           {
            "marker": {
             "colorbar": {
              "outlinewidth": 0,
              "ticks": ""
             }
            },
            "type": "scatterternary"
           }
          ],
          "surface": [
           {
            "colorbar": {
             "outlinewidth": 0,
             "ticks": ""
            },
            "colorscale": [
             [
              0,
              "#0d0887"
             ],
             [
              0.1111111111111111,
              "#46039f"
             ],
             [
              0.2222222222222222,
              "#7201a8"
             ],
             [
              0.3333333333333333,
              "#9c179e"
             ],
             [
              0.4444444444444444,
              "#bd3786"
             ],
             [
              0.5555555555555556,
              "#d8576b"
             ],
             [
              0.6666666666666666,
              "#ed7953"
             ],
             [
              0.7777777777777778,
              "#fb9f3a"
             ],
             [
              0.8888888888888888,
              "#fdca26"
             ],
             [
              1,
              "#f0f921"
             ]
            ],
            "type": "surface"
           }
          ],
          "table": [
           {
            "cells": {
             "fill": {
              "color": "#EBF0F8"
             },
             "line": {
              "color": "white"
             }
            },
            "header": {
             "fill": {
              "color": "#C8D4E3"
             },
             "line": {
              "color": "white"
             }
            },
            "type": "table"
           }
          ]
         },
         "layout": {
          "annotationdefaults": {
           "arrowcolor": "#2a3f5f",
           "arrowhead": 0,
           "arrowwidth": 1
          },
          "autotypenumbers": "strict",
          "coloraxis": {
           "colorbar": {
            "outlinewidth": 0,
            "ticks": ""
           }
          },
          "colorscale": {
           "diverging": [
            [
             0,
             "#8e0152"
            ],
            [
             0.1,
             "#c51b7d"
            ],
            [
             0.2,
             "#de77ae"
            ],
            [
             0.3,
             "#f1b6da"
            ],
            [
             0.4,
             "#fde0ef"
            ],
            [
             0.5,
             "#f7f7f7"
            ],
            [
             0.6,
             "#e6f5d0"
            ],
            [
             0.7,
             "#b8e186"
            ],
            [
             0.8,
             "#7fbc41"
            ],
            [
             0.9,
             "#4d9221"
            ],
            [
             1,
             "#276419"
            ]
           ],
           "sequential": [
            [
             0,
             "#0d0887"
            ],
            [
             0.1111111111111111,
             "#46039f"
            ],
            [
             0.2222222222222222,
             "#7201a8"
            ],
            [
             0.3333333333333333,
             "#9c179e"
            ],
            [
             0.4444444444444444,
             "#bd3786"
            ],
            [
             0.5555555555555556,
             "#d8576b"
            ],
            [
             0.6666666666666666,
             "#ed7953"
            ],
            [
             0.7777777777777778,
             "#fb9f3a"
            ],
            [
             0.8888888888888888,
             "#fdca26"
            ],
            [
             1,
             "#f0f921"
            ]
           ],
           "sequentialminus": [
            [
             0,
             "#0d0887"
            ],
            [
             0.1111111111111111,
             "#46039f"
            ],
            [
             0.2222222222222222,
             "#7201a8"
            ],
            [
             0.3333333333333333,
             "#9c179e"
            ],
            [
             0.4444444444444444,
             "#bd3786"
            ],
            [
             0.5555555555555556,
             "#d8576b"
            ],
            [
             0.6666666666666666,
             "#ed7953"
            ],
            [
             0.7777777777777778,
             "#fb9f3a"
            ],
            [
             0.8888888888888888,
             "#fdca26"
            ],
            [
             1,
             "#f0f921"
            ]
           ]
          },
          "colorway": [
           "#636efa",
           "#EF553B",
           "#00cc96",
           "#ab63fa",
           "#FFA15A",
           "#19d3f3",
           "#FF6692",
           "#B6E880",
           "#FF97FF",
           "#FECB52"
          ],
          "font": {
           "color": "#2a3f5f"
          },
          "geo": {
           "bgcolor": "white",
           "lakecolor": "white",
           "landcolor": "#E5ECF6",
           "showlakes": true,
           "showland": true,
           "subunitcolor": "white"
          },
          "hoverlabel": {
           "align": "left"
          },
          "hovermode": "closest",
          "mapbox": {
           "style": "light"
          },
          "paper_bgcolor": "white",
          "plot_bgcolor": "#E5ECF6",
          "polar": {
           "angularaxis": {
            "gridcolor": "white",
            "linecolor": "white",
            "ticks": ""
           },
           "bgcolor": "#E5ECF6",
           "radialaxis": {
            "gridcolor": "white",
            "linecolor": "white",
            "ticks": ""
           }
          },
          "scene": {
           "xaxis": {
            "backgroundcolor": "#E5ECF6",
            "gridcolor": "white",
            "gridwidth": 2,
            "linecolor": "white",
            "showbackground": true,
            "ticks": "",
            "zerolinecolor": "white"
           },
           "yaxis": {
            "backgroundcolor": "#E5ECF6",
            "gridcolor": "white",
            "gridwidth": 2,
            "linecolor": "white",
            "showbackground": true,
            "ticks": "",
            "zerolinecolor": "white"
           },
           "zaxis": {
            "backgroundcolor": "#E5ECF6",
            "gridcolor": "white",
            "gridwidth": 2,
            "linecolor": "white",
            "showbackground": true,
            "ticks": "",
            "zerolinecolor": "white"
           }
          },
          "shapedefaults": {
           "line": {
            "color": "#2a3f5f"
           }
          },
          "ternary": {
           "aaxis": {
            "gridcolor": "white",
            "linecolor": "white",
            "ticks": ""
           },
           "baxis": {
            "gridcolor": "white",
            "linecolor": "white",
            "ticks": ""
           },
           "bgcolor": "#E5ECF6",
           "caxis": {
            "gridcolor": "white",
            "linecolor": "white",
            "ticks": ""
           }
          },
          "title": {
           "x": 0.05
          },
          "xaxis": {
           "automargin": true,
           "gridcolor": "white",
           "linecolor": "white",
           "ticks": "",
           "title": {
            "standoff": 15
           },
           "zerolinecolor": "white",
           "zerolinewidth": 2
          },
          "yaxis": {
           "automargin": true,
           "gridcolor": "white",
           "linecolor": "white",
           "ticks": "",
           "title": {
            "standoff": 15
           },
           "zerolinecolor": "white",
           "zerolinewidth": 2
          }
         }
        }
       }
      }
     },
     "metadata": {},
     "output_type": "display_data"
    },
    {
     "data": {
      "text/plain": [
       "['go - goddard. Remix - Cat Burns',\n",
       " 'Beat das Trevas - DJ MENOR DA ZN',\n",
       " 'SUCCUMB - Dxrk ダーク',\n",
       " 'Override - KSLV Noh',\n",
       " 'Kamili - Francis Mercier',\n",
       " 'The Best Part - gardenstate',\n",
       " 'New Gold (feat. Tame Impala and Bootie Brown) - Dom Dolla Remix - Gorillaz',\n",
       " 'Howl - Elderbrook',\n",
       " 'Dance With Somebody - Sam Feldt',\n",
       " 'Strong - Romy']"
      ]
     },
     "execution_count": 24,
     "metadata": {},
     "output_type": "execute_result"
    }
   ],
   "source": [
    "tracklist, tracklist_ids = sort_tracklist(truncated_tracklist)\n",
    "tracklist[:10]"
   ]
  },
  {
   "cell_type": "code",
   "execution_count": 25,
   "metadata": {},
   "outputs": [
    {
     "name": "stdout",
     "output_type": "stream",
     "text": [
      "Tracks added successfully!\n"
     ]
    }
   ],
   "source": [
    "redirect_uri = 'https://example.com/callback'\n",
    "scope = 'playlist-modify-private'\n",
    "\n",
    "sp = spotipy.Spotify(auth_manager=SpotifyOAuth(client_id=CLIENT_ID,\n",
    "                                                client_secret=SECRET_KEY,\n",
    "                                                redirect_uri=redirect_uri,\n",
    "                                                scope=scope))\n",
    "\n",
    "# Create a playlist\n",
    "playlist_name = input(\"Playlist name?\")\n",
    "playlist_description = input(\"Playlist description?\")\n",
    "user_id = sp.current_user()['id']\n",
    "playlist = sp.user_playlist_create(user_id, playlist_name, public=False, description=playlist_description)\n",
    "playlist_id = playlist['id']\n",
    "\n",
    "# Add tracks to the playlist\n",
    "for i in range(int(np.ceil(len(tracklist_ids)/100))):\n",
    "    sp.user_playlist_add_tracks(user_id, playlist_id, tracklist_ids[i*100:(i+1)*100])\n",
    "\n",
    "print('Tracks added successfully!')"
   ]
  }
 ],
 "metadata": {
  "kernelspec": {
   "display_name": "base",
   "language": "python",
   "name": "python3"
  },
  "language_info": {
   "codemirror_mode": {
    "name": "ipython",
    "version": 3
   },
   "file_extension": ".py",
   "mimetype": "text/x-python",
   "name": "python",
   "nbconvert_exporter": "python",
   "pygments_lexer": "ipython3",
   "version": "3.10.9"
  },
  "orig_nbformat": 4
 },
 "nbformat": 4,
 "nbformat_minor": 2
}
